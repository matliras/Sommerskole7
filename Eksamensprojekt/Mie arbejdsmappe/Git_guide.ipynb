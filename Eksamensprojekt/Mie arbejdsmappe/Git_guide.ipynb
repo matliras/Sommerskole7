{
 "cells": [
  {
   "cell_type": "markdown",
   "id": "e84714ab-ca43-4c2a-bf24-cf147de99b1a",
   "metadata": {},
   "source": [
    "1. Opretter en lokal branch i ens eget navn og skifter til denne branch:\n",
    "   \n",
    "    git checkout -b Mie-branch\n",
    "\n",
    "2. Edit the specific file you want to update. Ensure that no other files are modified unintentionally.\n",
    "   \n",
    "3. Stage Only the Modified File\n",
    "After making your changes, you can stage only the specific file you want to push. This ensures that only this file is included in the commit.\n",
    "\n",
    "    git add path/to/your/file\n",
    "\n",
    "4. Commit the Change\n",
    "Commit the staged file with a meaningful commit message.\n",
    "\n",
    "    git commit -m \"Updated specific functionality in file-name\"\n",
    "\n",
    "5. Fetch the Latest Changes from the Remote Repository\n",
    "Before pushing your changes, it's important to ensure your branch is up to date with the latest changes from the remote repository, especially if others are working on the same branch.\n",
    "\n",
    "Code: \n",
    "    \n",
    "    git fetch origin\n",
    "\n",
    "If there have been updates, you might need to merge those into your branch:\n",
    "\n",
    "    git merge origin/main\n",
    "\n",
    "Resolve any conflicts that might arise, and then commit those resolutions.\n",
    "\n",
    "\n",
    "6. Push the Changes to the main Repository\n",
    "Push your branch to the remote repository.\n",
    "\n",
    "    git push origin Mie-branch\n",
    "\n",
    "7. Merging Changes into the Main Branch (Optional)\n",
    "If you want your changes to be incorporated into the main branch, you would typically create a pull request (PR) or merge your branch into the main branch, after making sure that the main branch is up to date and that your changes don't overwrite others' work.\n",
    "\n",
    "Pull the latest changes from the main branch:  \n",
    "\n",
    "    git checkout main\n",
    "    git pull origin main\n",
    "\n",
    "Merge your branch into the main branch:\n",
    "    git merge Mie-branch\n",
    "\n",
    "Push the updated main branch to the remote repository:\n",
    "    git push origin main\n",
    "\n",
    "\n"
   ]
  }
 ],
 "metadata": {
  "kernelspec": {
   "display_name": "Python 3 (ipykernel)",
   "language": "python",
   "name": "python3"
  },
  "language_info": {
   "codemirror_mode": {
    "name": "ipython",
    "version": 3
   },
   "file_extension": ".py",
   "mimetype": "text/x-python",
   "name": "python",
   "nbconvert_exporter": "python",
   "pygments_lexer": "ipython3",
   "version": "3.11.7"
  }
 },
 "nbformat": 4,
 "nbformat_minor": 5
}

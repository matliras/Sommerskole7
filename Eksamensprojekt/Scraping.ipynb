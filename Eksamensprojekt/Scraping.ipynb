{
 "cells": [
  {
   "cell_type": "code",
   "execution_count": 10,
   "id": "a2909086-7bc0-4f98-98c0-b45d7cce02b7",
   "metadata": {},
   "outputs": [],
   "source": [
    "#SCRAPING ENVOIREMENT"
   ]
  },
  {
   "cell_type": "code",
   "execution_count": 2,
   "id": "2e628849-07f4-49dd-ae68-e08466c744a4",
   "metadata": {},
   "outputs": [],
   "source": [
    "#Importing libaries\n",
    "from selenium import webdriver\n",
    "from webdriver_manager.chrome import ChromeDriverManager\n",
    "from selenium.webdriver.chrome.service import Service\n",
    "import pandas as pd\n",
    "import requests\n",
    "from bs4 import BeautifulSoup\n",
    "import os\n",
    "from selenium.webdriver.common.keys import Keys\n",
    "from selenium.webdriver.common.by import By\n",
    "import time\n",
    "from selenium.webdriver.support import expected_conditions as EC\n",
    "from selenium.webdriver.support.ui import WebDriverWait\n",
    "from selenium.webdriver.chrome.options import Options\n",
    "import pandas as pd\n",
    "import requests\n",
    "from bs4 import BeautifulSoup\n",
    "import os\n",
    "import re\n",
    "import itertools\n",
    "import random\n",
    "import threading\n",
    "from concurrent.futures import ThreadPoolExecutor\n",
    "from tqdm import tqdm\n",
    "import csv"
   ]
  },
  {
   "cell_type": "markdown",
   "id": "c0607183-c8ba-463f-a772-cb24bb168734",
   "metadata": {},
   "source": [
    "## scraping of links of first 200 pages of links"
   ]
  },
  {
   "cell_type": "code",
   "execution_count": 447,
   "id": "a2cd2b85-bd55-4968-8a0d-4782b31f9ed6",
   "metadata": {},
   "outputs": [
    {
     "name": "stdout",
     "output_type": "stream",
     "text": [
      "200\n"
     ]
    }
   ],
   "source": [
    "#Importing page-links\n",
    "\n",
    "list_url = []\n",
    "for page in range(1,201,1):\n",
    "    url = f'https://www.boligsiden.dk/tilsalg/villa,ejerlejlighed,raekkehus,landejendom?page={page}'\n",
    "    list_url.append(url)\n",
    "\n",
    "print(len(list_url))\n",
    "\n",
    "\n",
    "\n"
   ]
  },
  {
   "cell_type": "code",
   "execution_count": 449,
   "id": "6c06a894-60e0-4873-ac99-4468a6c56477",
   "metadata": {},
   "outputs": [],
   "source": [
    "#Retriving HTMLS\n",
    "\n",
    "list_htmls =[]\n",
    "for url in list_url:\n",
    "    response = requests.get(url, headers={'name': 'Navn', 'email': 'ku_id@alumni.ku.dk'})\n",
    "    list_htmls.append(response.text)\n",
    "    time.sleep(0.5)\n",
    "\n",
    "    "
   ]
  },
  {
   "cell_type": "code",
   "execution_count": 451,
   "id": "1bf1bca4-b76d-49a5-91de-c2c5c7c7ebe9",
   "metadata": {},
   "outputs": [
    {
     "name": "stdout",
     "output_type": "stream",
     "text": [
      "9996\n"
     ]
    }
   ],
   "source": [
    "# Finding links on appartments\n",
    "\n",
    "links = []\n",
    "for html in list_htmls:\n",
    "    soup = BeautifulSoup(html, 'lxml')\n",
    "    pattern = re.compile(r'href\\\":\\\"(/addresses/[^\\\"]+)')\n",
    "    matches = pattern.findall(str(soup))\n",
    "\n",
    "    apartments_list = list(set(matches))\n",
    "\n",
    "\n",
    "    base_url = \"https://www.boligsiden.dk\"\n",
    "    apartment_links = [base_url + link for link in apartments_list] #This list contains appartments\n",
    "    links.append(apartment_links)\n",
    "\n",
    "flattened_links = list(itertools.chain(*links))\n",
    "print(len(flattened_links)) #Counting number of links"
   ]
  },
  {
   "cell_type": "code",
   "execution_count": 453,
   "id": "7a1fbde1-75b9-44fe-8d4e-cb87b50aec55",
   "metadata": {},
   "outputs": [],
   "source": [
    "#Saving list of links to be scrapped\n",
    "\n",
    "with open('rawdata/links.csv', 'w', newline='') as file:\n",
    "    writer = csv.writer(file)\n",
    "    for link in flattened_links:\n",
    "        writer.writerow([link])\n"
   ]
  },
  {
   "cell_type": "markdown",
   "id": "5763414c-2a21-49ec-82fb-593fd578ab3d",
   "metadata": {},
   "source": [
    "# HER STARTER SCRAPING PROCESSEN"
   ]
  },
  {
   "cell_type": "code",
   "execution_count": 4,
   "id": "7c4cab90-94d1-4fd8-ad75-d2095d7358b1",
   "metadata": {},
   "outputs": [
    {
     "name": "stdout",
     "output_type": "stream",
     "text": [
      "9999\n"
     ]
    }
   ],
   "source": [
    "#Importing relevant list of links:\n",
    "flattened_links = []\n",
    "\n",
    "with open('rawdata/links_version_2.csv', 'r') as file:\n",
    "    reader = csv.reader(file)\n",
    "    for row in reader:\n",
    "        flattened_links.append(row[0])  # Assuming each link is in the first column\n",
    "\n",
    "print(len(flattened_links))"
   ]
  },
  {
   "cell_type": "code",
   "execution_count": 6,
   "id": "0ef28757-8a25-44e3-a722-e69b0b979dab",
   "metadata": {},
   "outputs": [],
   "source": [
    "op = webdriver.ChromeOptions()\n",
    "op.add_argument('headless')\n",
    "driver = webdriver.Chrome(options=op)"
   ]
  },
  {
   "cell_type": "code",
   "execution_count": 24,
   "id": "4f93de4d-7496-4201-8374-636ee53e06cf",
   "metadata": {},
   "outputs": [
    {
     "name": "stderr",
     "output_type": "stream",
     "text": [
      "  1%|▍                                         | 11/999 [00:17<20:34,  1.25s/it]"
     ]
    },
    {
     "name": "stdout",
     "output_type": "stream",
     "text": [
      "Error occurred for link: https://www.boligsiden.dk/addresses/0a3f50c6-59e4-32b8-e044-0003ba298018 - list index out of range\n"
     ]
    },
    {
     "name": "stderr",
     "output_type": "stream",
     "text": [
      "  3%|█                                         | 25/999 [00:35<20:58,  1.29s/it]"
     ]
    },
    {
     "name": "stdout",
     "output_type": "stream",
     "text": [
      "Error occurred for link: https://www.boligsiden.dk/addresses/0a3f509f-1032-32b8-e044-0003ba298018 - list index out of range\n",
      "Error occurred for link: https://www.boligsiden.dk/addresses/0a3f50ad-a900-32b8-e044-0003ba298018 - list index out of range\n",
      "Error occurred for link: https://www.boligsiden.dk/addresses/0a3f50a5-491f-32b8-e044-0003ba298018 - list index out of range\n"
     ]
    },
    {
     "name": "stderr",
     "output_type": "stream",
     "text": [
      "  8%|███▏                                      | 77/999 [02:03<15:44,  1.02s/it]"
     ]
    },
    {
     "name": "stdout",
     "output_type": "stream",
     "text": [
      "Error occurred for link: https://www.boligsiden.dk/addresses/0a3f50ad-03db-32b8-e044-0003ba298018 - list index out of range\n",
      "Error occurred for link: https://www.boligsiden.dk/addresses/0a3f50bc-48bb-32b8-e044-0003ba298018 - list index out of range\n",
      "Error occurred for link: https://www.boligsiden.dk/addresses/0a3f50bf-0102-32b8-e044-0003ba298018 - list index out of range\n"
     ]
    },
    {
     "name": "stderr",
     "output_type": "stream",
     "text": [
      "  8%|███▎                                      | 78/999 [03:05<45:38,  2.97s/it]"
     ]
    },
    {
     "name": "stdout",
     "output_type": "stream",
     "text": [
      "Error occurred for link: https://www.boligsiden.dk/addresses/0a3f50bd-1484-32b8-e044-0003ba298018 - list index out of range\n"
     ]
    },
    {
     "name": "stderr",
     "output_type": "stream",
     "text": [
      " 13%|█████▏                                   | 127/999 [03:06<15:26,  1.06s/it]"
     ]
    },
    {
     "name": "stdout",
     "output_type": "stream",
     "text": [
      "Error occurred for link: https://www.boligsiden.dk/addresses/f45ede21-3ffa-40ef-bfca-8091e7bd7a98 - list index out of range\n"
     ]
    },
    {
     "name": "stderr",
     "output_type": "stream",
     "text": [
      " 14%|█████▋                                   | 139/999 [03:19<15:20,  1.07s/it]"
     ]
    },
    {
     "name": "stdout",
     "output_type": "stream",
     "text": [
      "Error occurred for link: https://www.boligsiden.dk/addresses/0a3f50a3-da5a-32b8-e044-0003ba298018 - list index out of range\n",
      "Error occurred for link: https://www.boligsiden.dk/addresses/0a3f50bc-2f96-32b8-e044-0003ba298018 - list index out of range\n"
     ]
    },
    {
     "name": "stderr",
     "output_type": "stream",
     "text": [
      " 18%|███████▍                                 | 182/999 [04:10<12:50,  1.06it/s]"
     ]
    },
    {
     "name": "stdout",
     "output_type": "stream",
     "text": [
      "Error occurred for link: https://www.boligsiden.dk/addresses/0a3f50c9-7033-32b8-e044-0003ba298018 - list index out of range\n"
     ]
    },
    {
     "name": "stderr",
     "output_type": "stream",
     "text": [
      " 20%|████████                                 | 197/999 [04:31<25:41,  1.92s/it]"
     ]
    },
    {
     "name": "stdout",
     "output_type": "stream",
     "text": [
      "Error occurred for link: https://www.boligsiden.dk/addresses/0a3f50c9-50d4-32b8-e044-0003ba298018 - list index out of range\n",
      "Error occurred for link: https://www.boligsiden.dk/addresses/0a3f50c6-3d3e-32b8-e044-0003ba298018 - list index out of range\n"
     ]
    },
    {
     "name": "stderr",
     "output_type": "stream",
     "text": [
      " 27%|██████████▌                            | 272/999 [07:28<1:17:05,  6.36s/it]"
     ]
    },
    {
     "name": "stdout",
     "output_type": "stream",
     "text": [
      "Error occurred for link: https://www.boligsiden.dk/addresses/0a3f50b6-c424-32b8-e044-0003ba298018 - list index out of range\n"
     ]
    },
    {
     "name": "stderr",
     "output_type": "stream",
     "text": [
      " 32%|████████████▉                            | 315/999 [07:32<11:19,  1.01it/s]"
     ]
    },
    {
     "name": "stdout",
     "output_type": "stream",
     "text": [
      "Error occurred for link: https://www.boligsiden.dk/addresses/0a3f50bb-1def-32b8-e044-0003ba298018 - list index out of range\n"
     ]
    },
    {
     "name": "stderr",
     "output_type": "stream",
     "text": [
      " 32%|█████████████▏                           | 320/999 [07:38<11:34,  1.02s/it]"
     ]
    },
    {
     "name": "stdout",
     "output_type": "stream",
     "text": [
      "Error occurred for link: https://www.boligsiden.dk/addresses/0a3f50b3-2183-32b8-e044-0003ba298018 - list index out of range\n"
     ]
    },
    {
     "name": "stderr",
     "output_type": "stream",
     "text": [
      " 37%|███████████████▎                         | 373/999 [08:46<15:53,  1.52s/it]"
     ]
    },
    {
     "name": "stdout",
     "output_type": "stream",
     "text": [
      "Error occurred for link: https://www.boligsiden.dk/addresses/0a3f50c4-5b19-32b8-e044-0003ba298018 - list index out of range\n"
     ]
    },
    {
     "name": "stderr",
     "output_type": "stream",
     "text": [
      " 46%|██████████████████▉                      | 460/999 [10:46<18:06,  2.02s/it]"
     ]
    },
    {
     "name": "stdout",
     "output_type": "stream",
     "text": [
      "Error occurred for link: https://www.boligsiden.dk/addresses/0a3f50ca-acde-32b8-e044-0003ba298018 - list index out of range\n"
     ]
    },
    {
     "name": "stderr",
     "output_type": "stream",
     "text": [
      " 49%|████████████████████▏                    | 492/999 [11:24<09:20,  1.11s/it]"
     ]
    },
    {
     "name": "stdout",
     "output_type": "stream",
     "text": [
      "Error occurred for link: https://www.boligsiden.dk/addresses/0a3f50ad-ed27-32b8-e044-0003ba298018 - list index out of range\n"
     ]
    },
    {
     "name": "stderr",
     "output_type": "stream",
     "text": [
      " 50%|████████████████████▍                    | 499/999 [11:31<08:33,  1.03s/it]"
     ]
    },
    {
     "name": "stdout",
     "output_type": "stream",
     "text": [
      "Error occurred for link: https://www.boligsiden.dk/addresses/0a3f50a3-90fc-32b8-e044-0003ba298018 - list index out of range\n"
     ]
    },
    {
     "name": "stderr",
     "output_type": "stream",
     "text": [
      " 56%|███████████████████████                  | 561/999 [12:50<08:38,  1.18s/it]"
     ]
    },
    {
     "name": "stdout",
     "output_type": "stream",
     "text": [
      "Error occurred for link: https://www.boligsiden.dk/addresses/0a3f50bd-7f38-32b8-e044-0003ba298018 - list index out of range\n"
     ]
    },
    {
     "name": "stderr",
     "output_type": "stream",
     "text": [
      " 63%|██████████████████████████               | 634/999 [14:35<08:53,  1.46s/it]"
     ]
    },
    {
     "name": "stdout",
     "output_type": "stream",
     "text": [
      "Error occurred for link: https://www.boligsiden.dk/addresses/0086c48f-72f6-4475-b28f-0846726b8569 - list index out of range\n"
     ]
    },
    {
     "name": "stderr",
     "output_type": "stream",
     "text": [
      " 64%|██████████████████████████▍              | 644/999 [14:47<09:07,  1.54s/it]"
     ]
    },
    {
     "name": "stdout",
     "output_type": "stream",
     "text": [
      "Error occurred for link: https://www.boligsiden.dk/addresses/0a3f50bc-11f8-32b8-e044-0003ba298018 - list index out of range\n"
     ]
    },
    {
     "name": "stderr",
     "output_type": "stream",
     "text": [
      " 72%|█████████████████████████████▌           | 719/999 [16:18<04:41,  1.00s/it]"
     ]
    },
    {
     "name": "stdout",
     "output_type": "stream",
     "text": [
      "Error occurred for link: https://www.boligsiden.dk/addresses/0a3f50c2-283f-32b8-e044-0003ba298018 - list index out of range\n"
     ]
    },
    {
     "name": "stderr",
     "output_type": "stream",
     "text": [
      " 72%|█████████████████████████████▋           | 724/999 [16:23<04:17,  1.07it/s]"
     ]
    },
    {
     "name": "stdout",
     "output_type": "stream",
     "text": [
      "Error occurred for link: https://www.boligsiden.dk/addresses/0a3f50b6-18ef-32b8-e044-0003ba298018 - list index out of range\n"
     ]
    },
    {
     "name": "stderr",
     "output_type": "stream",
     "text": [
      " 78%|███████████████████████████████▉         | 778/999 [17:32<04:54,  1.33s/it]"
     ]
    },
    {
     "name": "stdout",
     "output_type": "stream",
     "text": [
      "Error occurred for link: https://www.boligsiden.dk/addresses/0a3f50b5-f9f4-32b8-e044-0003ba298018 - list index out of range\n"
     ]
    },
    {
     "name": "stderr",
     "output_type": "stream",
     "text": [
      " 82%|█████████████████████████████████▍       | 815/999 [19:32<51:29, 16.79s/it]"
     ]
    },
    {
     "name": "stdout",
     "output_type": "stream",
     "text": [
      "Error occurred for link: https://www.boligsiden.dk/addresses/0a3f50a6-6d9b-32b8-e044-0003ba298018 - list index out of range\n"
     ]
    },
    {
     "name": "stderr",
     "output_type": "stream",
     "text": [
      " 91%|█████████████████████████████████████▏   | 906/999 [20:34<01:41,  1.09s/it]"
     ]
    },
    {
     "name": "stdout",
     "output_type": "stream",
     "text": [
      "Error occurred for link: https://www.boligsiden.dk/addresses/0a3f50c2-206a-32b8-e044-0003ba298018 - list index out of range\n"
     ]
    },
    {
     "name": "stderr",
     "output_type": "stream",
     "text": [
      " 93%|██████████████████████████████████████▏  | 931/999 [21:04<01:29,  1.31s/it]"
     ]
    },
    {
     "name": "stdout",
     "output_type": "stream",
     "text": [
      "Error occurred for link: https://www.boligsiden.dk/addresses/0a3f50c6-fd6f-32b8-e044-0003ba298018 - list index out of range\n",
      "Error occurred for link: https://www.boligsiden.dk/addresses/0a3f50aa-47a5-32b8-e044-0003ba298018 - list index out of range\n",
      "Error occurred for link: https://www.boligsiden.dk/addresses/0a3f50c0-71a1-32b8-e044-0003ba298018 - list index out of range\n"
     ]
    },
    {
     "name": "stderr",
     "output_type": "stream",
     "text": [
      "100%|█████████████████████████████████████████| 999/999 [22:41<00:00,  1.36s/it]\n"
     ]
    }
   ],
   "source": [
    "#Carefull! Runs with X-links at a time\n",
    "#NANNAS VERSION\n",
    "dict = {}\n",
    "links_med_fejl = []\n",
    "\n",
    "def fetch_data(link):\n",
    "    driver = webdriver.Chrome(options=op)\n",
    "    try:\n",
    "        driver.get(link)\n",
    "        soup = BeautifulSoup(driver.page_source, 'html.parser')\n",
    "        time.sleep(random.uniform(2, 3))  # Reducing sleep time slightly\n",
    "        area_size = soup.find_all('span', class_='text-gray-800 whitespace-nowrap cursor-pointer border-b border-gray-400 pb-0.5 border-dotted text-sm')\n",
    "        other = soup.find_all('span', class_=\"text-gray-800 whitespace-nowrap border-dotted text-sm\")\n",
    "        address = soup.find_all('div', class_='font-bold text-sm md:text-base')\n",
    "        pstnr = soup.find_all('div', class_=\"mt-1 text-xs md:text-sm text-gray-600\")\n",
    "        pstnr_ny = re.findall(r'\\d+', pstnr[0].get_text())  # Searching for numbers in postal-code string.\n",
    "        try:\n",
    "            total_address = address[0].get_text() + ',' + pstnr_ny[0]\n",
    "        except:\n",
    "            print('adresseproblem')\n",
    "        #Nannas kode:\n",
    "        try:    \n",
    "            price = soup.find('h2', class_='text-2xl xl:text-3xl text-blue-900 font-bold').get_text()\n",
    "        except:\n",
    "            price = \"fejl\"\n",
    "            \n",
    "        #Finder label hvor afstand er under\n",
    "\n",
    "        try:\n",
    "            boligtype = soup.find('span', class_='text-black text-sm pr-2').get_text()\n",
    "        except:\n",
    "            boligtype = \"fejl\"\n",
    "        #energi = soup.find('svg', id='Lag_1').find('title')\n",
    "        try:\n",
    "            energi = soup.find('title', string=re.compile('Energimærke')).get_text()\n",
    "        except:\n",
    "            energi = \"fejl\"\n",
    "        try:\n",
    "            radon = soup.find('div', class_='h-7 text-sm font-bold').get_text()\n",
    "        except:\n",
    "            radon = \"fejl\"\n",
    "    \n",
    "        #kommune_info og liggetid med text behandling\n",
    "        try:\n",
    "            kommune_info = soup.find('div', class_='sec_municipality_info')\n",
    "            if kommune_info:\n",
    "                kommune_text = kommune_info.get_text()\n",
    "        \n",
    "                if 'Kommuneskatten er på ' in kommune_text:\n",
    "                    kommuneskat = kommune_text.split('Kommuneskatten er på ')[1].split(' ')[0]\n",
    "                else:\n",
    "                    kommuneskat = \"fejl\"\n",
    "        \n",
    "                if 'grundskyldspromillen på ' in kommune_text:\n",
    "                    grundskyldspromillen = kommune_text.split('grundskyldspromillen på ')[1].split(' ')[0]\n",
    "                else:\n",
    "                    grundskyldspromillen = \"fejl\"\n",
    "        except:\n",
    "            kommuneskat = \"fejl\"\n",
    "            grundskyldspromillen = \"fejl\"\n",
    "            \n",
    "            \n",
    "        \n",
    "        try:\n",
    "            liggetid = soup.find('div', class_='pb-0.5 border-dashed border-b border-gray-300 cursor-pointer text-sm text-gray-800')\n",
    "            if liggetid:\n",
    "                liggetid_text = liggetid.get_text(separator=\" \", strip=True).replace(' :', ':')\n",
    "        except:\n",
    "            liggetid_text = \"fejl\"\n",
    "\n",
    "        #################   NY KODE med skoler    ########################\n",
    "        #Skolenavn\n",
    "        #Skolenavn\n",
    "        try:\n",
    "            school_name_1 = soup.find('div', class_='text-sm font-bold text-blue-900').get_text()\n",
    "        except:\n",
    "            school_name_1 = \"fejl\"\n",
    "        try:\n",
    "            school_name_2 = soup.find('div', class_='text-sm font-bold text-blue-900').find_next('div', class_='text-sm font-bold text-blue-900').get_text()\n",
    "        except:\n",
    "            school_name_2 = \"fejl\"\n",
    "        try:\n",
    "            school_name_3 = soup.find('div', class_='text-sm font-bold text-blue-900').find_next('div', class_='text-sm font-bold text-blue-900').find_next('div', class_='text-sm font-bold text-blue-900').get_text()\n",
    "        except:\n",
    "            school_name_3 = \"fejl\"\n",
    "\n",
    "        #Afstand \n",
    "        try:\n",
    "            school_1 = soup.find('div', string='Afstand').find_next_sibling('div').get_text()\n",
    "        except:\n",
    "            school_1 = \"fejl\"\n",
    "        try:\n",
    "            school_2 = soup.find('div', string='Afstand').find_next('div', string='Afstand').find_next_sibling('div').get_text()\n",
    "        except:\n",
    "            school_2 = \"fejl\"\n",
    "        try:\n",
    "            school_3 = soup.find('div', string='Afstand').find_next('div', string='Afstand').find_next('div', string='Afstand').find_next_sibling('div').get_text()\n",
    "        except:\n",
    "            school_3 = \"fejl\"\n",
    "\n",
    "        #Karakterer\n",
    "        try:\n",
    "            grades_1 = soup.find('div', string='Karaktergennemsnit').find_next_sibling('div').find_next_sibling('div').get_text()\n",
    "        except:\n",
    "            grades_1 = \"fejl\"\n",
    "        try:\n",
    "            grades_2 = soup.find('div', string='Karaktergennemsnit').find_next('div', string='Karaktergennemsnit').find_next_sibling('div').find_next_sibling('div').get_text()\n",
    "        except:\n",
    "            grades_2 = \"fejl\"\n",
    "        try:\n",
    "            grades_3 = soup.find('div', string='Karaktergennemsnit').find_next('div', string='Karaktergennemsnit').find_next('div', string='Karaktergennemsnit').find_next_sibling('div').find_next_sibling('div').get_text()\n",
    "        except:\n",
    "            grades_3 = \"fejl\"\n",
    "\n",
    "        #Trivsel\n",
    "        try:\n",
    "            trivsel_1 = soup.find('div', string='Trivsel').find_next_sibling('div').find_next_sibling('div').get_text()\n",
    "        except: \n",
    "            trivsel_1 = \"fejl\"\n",
    "        try:\n",
    "            trivsel_2 = soup.find('div', string='Trivsel').find_next('div', string='Trivsel').find_next_sibling('div').find_next_sibling('div').get_text()\n",
    "        except:\n",
    "            trivsel_2 = \"fejl\"\n",
    "        try:\n",
    "            trivsel_3 = soup.find('div', string='Trivsel').find_next('div', string='Trivsel').find_next('div', string='Trivsel').find_next_sibling('div').find_next_sibling('div').get_text()\n",
    "        except:\n",
    "            trivsel_3 = \"fejl\"\n",
    "\n",
    "        #ENDELIGE \n",
    "        \n",
    "        if grades_1 not in [\"fejl\", \"Ikke oplyst\"]:\n",
    "            school_name=school_name_1\n",
    "            school = school_1\n",
    "            grades = grades_1\n",
    "            trivsel = trivsel_1\n",
    "        elif grades_2 not in [\"fejl\", \"Ikke oplyst\"]:\n",
    "            school_name=school_name_2\n",
    "            school = school_2\n",
    "            grades = grades_2\n",
    "            trivsel = trivsel_2\n",
    "        elif grades_3 not in [\"fejl\", \"Ikke oplyst\"]:\n",
    "            school_name=school_name_3\n",
    "            school = school_3\n",
    "            grades = grades_3\n",
    "            trivsel = trivsel_3\n",
    "        else:\n",
    "            school_name=school_name_1\n",
    "            school = school_1 # Fallback to school_1 if all are \"fejl\" or \"Ikke oplyst\"\n",
    "            grades = grades_1\n",
    "            trivsel = trivsel_1\n",
    "\n",
    "\n",
    "\n",
    "        \n",
    "        try:\n",
    "            if len(area_size) > 2:  # Bolig\n",
    "                dict[total_address] = {'Price': price, 'Schoolname': school_name, 'Distance to school': school, 'School-grades': grades, 'Trivsel': trivsel, 'Boligtype': boligtype, 'Energy-classification': energi, 'Radon': radon, 'Kommuneskat': kommuneskat, 'Grundskyldspromillen': grundskyldspromillen, 'Kommune tekst': kommune_text, 'Liggetid': liggetid_text, 'm2': area_size[0].get_text(), 'Grund': area_size[1].get_text(), 'Ejerudgift': area_size[2].get_text(),\n",
    "                                       'Rooms': other[0].get_text(), 'Build': other[1].get_text(), 'Toilets': other[2].get_text(), 'Postal code': pstnr_ny[0], 'link': link}\n",
    "            else:  # Lejlighed\n",
    "                dict[total_address] = {'Price': price, 'Schoolname': school_name, 'Distance to school': school, 'School-grades': grades, 'Trivsel': trivsel, 'Boligtype': boligtype, 'Energy-classification': energi, 'Radon': radon, 'Kommuneskat': kommuneskat, 'Grundskyldspromillen': grundskyldspromillen, 'Kommune tekst': kommune_text, 'Liggetid': liggetid_text, 'm2': area_size[0].get_text(), 'Ejerudgift': area_size[1].get_text(), 'Elevator': other[0].get_text(),\n",
    "                                       'Rooms': other[1].get_text(), 'Build': other[2].get_text(), 'Toilets': other[3].get_text(),\n",
    "                                       'Altan': other[4].get_text(), 'Terasse': other[5].get_text(), 'Postal code': pstnr_ny[0], 'link': link}\n",
    "        except:\n",
    "            dict[total_address] = {'m2': 'fejl', 'Ejerudgift': 'fejl', 'Elevator': 'fejl', 'Rooms': 'fejl', 'Build': 'fejl', 'Toilet': 'fejl', 'Altan': 'fejl', 'Terasse': 'fejl', 'Postal code': 'fejl', 'link': link}\n",
    "    except Exception as e:\n",
    "        print(f'Error occurred for link: {link} - {e}')\n",
    "        links_med_fejl.append(link)\n",
    "\n",
    "# Using ThreadPoolExecutor to handle multiple requests concurrently\n",
    "with ThreadPoolExecutor(max_workers=5) as executor:\n",
    "    list(tqdm(executor.map(fetch_data, flattened_links[9000:10000]), total=len(flattened_links[9000:10000])))\n"
   ]
  },
  {
   "cell_type": "code",
   "execution_count": 26,
   "id": "b97681fb-94c7-4e4c-b01f-30d984ca60c8",
   "metadata": {},
   "outputs": [
    {
     "name": "stderr",
     "output_type": "stream",
     "text": [
      " 34%|██████████████▊                            | 11/32 [00:59<01:49,  5.23s/it]"
     ]
    },
    {
     "name": "stdout",
     "output_type": "stream",
     "text": [
      "Error occurred for link: https://www.boligsiden.dk/addresses/0a3f50bc-2f96-32b8-e044-0003ba298018 - list index out of range\n"
     ]
    },
    {
     "name": "stderr",
     "output_type": "stream",
     "text": [
      " 56%|████████████████████████▏                  | 18/32 [01:39<01:16,  5.49s/it]"
     ]
    },
    {
     "name": "stdout",
     "output_type": "stream",
     "text": [
      "Error occurred for link: https://www.boligsiden.dk/addresses/0a3f50c4-5b19-32b8-e044-0003ba298018 - list index out of range\n"
     ]
    },
    {
     "name": "stderr",
     "output_type": "stream",
     "text": [
      "100%|███████████████████████████████████████████| 32/32 [03:16<00:00,  6.13s/it]\n"
     ]
    }
   ],
   "source": [
    "#Denne celle henter data på alle links med fejl fra ovenstående celle! Kør derfor efter ovenstående.\n",
    "def fetch_data(link):\n",
    "    driver = webdriver.Chrome(options=op)\n",
    "    try:\n",
    "        driver.get(link)\n",
    "        soup = BeautifulSoup(driver.page_source, 'html.parser')\n",
    "        time.sleep(random.uniform(2, 3))  # Reducing sleep time slightly\n",
    "        area_size = soup.find_all('span', class_='text-gray-800 whitespace-nowrap cursor-pointer border-b border-gray-400 pb-0.5 border-dotted text-sm')\n",
    "        other = soup.find_all('span', class_=\"text-gray-800 whitespace-nowrap border-dotted text-sm\")\n",
    "        address = soup.find_all('div', class_='font-bold text-sm md:text-base')\n",
    "        pstnr = soup.find_all('div', class_=\"mt-1 text-xs md:text-sm text-gray-600\")\n",
    "        pstnr_ny = re.findall(r'\\d+', pstnr[0].get_text())  # Searching for numbers in postal-code string.\n",
    "        try:\n",
    "            total_address = address[0].get_text() + ',' + pstnr_ny[0]\n",
    "        except:\n",
    "            print('adresseproblem')\n",
    "        #Nannas kode:\n",
    "        try:    \n",
    "            price = soup.find('h2', class_='text-2xl xl:text-3xl text-blue-900 font-bold').get_text()\n",
    "        except:\n",
    "            price = \"fejl\"\n",
    "    \n",
    "        try:\n",
    "            boligtype = soup.find('span', class_='text-black text-sm pr-2').get_text()\n",
    "        except:\n",
    "            boligtype = \"fejl\"\n",
    "        #energi = soup.find('svg', id='Lag_1').find('title')\n",
    "        try:\n",
    "            energi = soup.find('title', string=re.compile('Energimærke')).get_text()\n",
    "        except:\n",
    "            energi = \"fejl\"\n",
    "        try:\n",
    "            radon = soup.find('div', class_='h-7 text-sm font-bold').get_text()\n",
    "        except:\n",
    "            radon = \"fejl\"\n",
    "    \n",
    "        #kommune_info og liggetid med text behandling\n",
    "        try:\n",
    "            kommune_info = soup.find('div', class_='sec_municipality_info')\n",
    "            if kommune_info:\n",
    "                kommune_text = kommune_info.get_text()\n",
    "        \n",
    "                if 'Kommuneskatten er på ' in kommune_text:\n",
    "                    kommuneskat = kommune_text.split('Kommuneskatten er på ')[1].split(' ')[0]\n",
    "                else:\n",
    "                    kommuneskat = \"fejl\"\n",
    "        \n",
    "                if 'grundskyldspromillen på ' in kommune_text:\n",
    "                    grundskyldspromillen = kommune_text.split('grundskyldspromillen på ')[1].split(' ')[0]\n",
    "                else:\n",
    "                    grundskyldspromillen = \"fejl\"\n",
    "        except:\n",
    "            kommuneskat = \"fejl\"\n",
    "            grundskyldspromillen = \"fejl\"\n",
    "            \n",
    "            \n",
    "        \n",
    "        try:\n",
    "            liggetid = soup.find('div', class_='pb-0.5 border-dashed border-b border-gray-300 cursor-pointer text-sm text-gray-800')\n",
    "            if liggetid:\n",
    "                liggetid_text = liggetid.get_text(separator=\" \", strip=True).replace(' :', ':')\n",
    "        except:\n",
    "            liggetid_text = \"fejl\"\n",
    "\n",
    "        \n",
    "        #################   NY KODE med skoler    ########################\n",
    "        #Skolenavn\n",
    "        try:\n",
    "            school_name_1 = soup.find('div', class_='text-sm font-bold text-blue-900').get_text()\n",
    "        except:\n",
    "            school_name_1 = \"fejl\"\n",
    "        try:\n",
    "            school_name_2 = soup.find('div', class_='text-sm font-bold text-blue-900').find_next('div', class_='text-sm font-bold text-blue-900').get_text()\n",
    "        except:\n",
    "            school_name_2 = \"fejl\"\n",
    "        try:\n",
    "            school_name_3 = soup.find('div', class_='text-sm font-bold text-blue-900').find_next('div', class_='text-sm font-bold text-blue-900').find_next('div', class_='text-sm font-bold text-blue-900').get_text()\n",
    "        except:\n",
    "            school_name_3 = \"fejl\"\n",
    "\n",
    "        #Afstand \n",
    "        try:\n",
    "            school_1 = soup.find('div', string='Afstand').find_next_sibling('div').get_text()\n",
    "        except:\n",
    "            school_1 = \"fejl\"\n",
    "        try:\n",
    "            school_2 = soup.find('div', string='Afstand').find_next('div', string='Afstand').find_next_sibling('div').get_text()\n",
    "        except:\n",
    "            school_2 = \"fejl\"\n",
    "        try:\n",
    "            school_3 = soup.find('div', string='Afstand').find_next('div', string='Afstand').find_next('div', string='Afstand').find_next_sibling('div').get_text()\n",
    "        except:\n",
    "            school_3 = \"fejl\"\n",
    "\n",
    "        #Karakterer\n",
    "        try:\n",
    "            grades_1 = soup.find('div', string='Karaktergennemsnit').find_next_sibling('div').find_next_sibling('div').get_text()\n",
    "        except:\n",
    "            grades_1 = \"fejl\"\n",
    "        try:\n",
    "            grades_2 = soup.find('div', string='Karaktergennemsnit').find_next('div', string='Karaktergennemsnit').find_next_sibling('div').find_next_sibling('div').get_text()\n",
    "        except:\n",
    "            grades_2 = \"fejl\"\n",
    "        try:\n",
    "            grades_3 = soup.find('div', string='Karaktergennemsnit').find_next('div', string='Karaktergennemsnit').find_next('div', string='Karaktergennemsnit').find_next_sibling('div').find_next_sibling('div').get_text()\n",
    "        except:\n",
    "            grades_3 = \"fejl\"\n",
    "\n",
    "        #Trivsel\n",
    "        try:\n",
    "            trivsel_1 = soup.find('div', string='Trivsel').find_next_sibling('div').find_next_sibling('div').get_text()\n",
    "        except: \n",
    "            trivsel_1 = \"fejl\"\n",
    "        try:\n",
    "            trivsel_2 = soup.find('div', string='Trivsel').find_next('div', string='Trivsel').find_next_sibling('div').find_next_sibling('div').get_text()\n",
    "        except:\n",
    "            trivsel_2 = \"fejl\"\n",
    "        try:\n",
    "            trivsel_3 = soup.find('div', string='Trivsel').find_next('div', string='Trivsel').find_next('div', string='Trivsel').find_next_sibling('div').find_next_sibling('div').get_text()\n",
    "        except:\n",
    "            trivsel_3 = \"fejl\"\n",
    "\n",
    "        #ENDELIGE \n",
    "        \n",
    "        if grades_1 not in [\"fejl\", \"Ikke oplyst\"]:\n",
    "            school_name=school_name_1\n",
    "            school = school_1\n",
    "            grades = grades_1\n",
    "            trivsel = trivsel_1\n",
    "        elif grades_2 not in [\"fejl\", \"Ikke oplyst\"]:\n",
    "            school_name=school_name_2\n",
    "            school = school_2\n",
    "            grades = grades_2\n",
    "            trivsel = trivsel_2\n",
    "        elif grades_3 not in [\"fejl\", \"Ikke oplyst\"]:\n",
    "            school_name=school_name_3\n",
    "            school = school_3\n",
    "            grades = grades_3\n",
    "            trivsel = trivsel_3\n",
    "        else:\n",
    "            school_name=school_name_1\n",
    "            school = school_1 # Fallback to school_1 if all are \"fejl\" or \"Ikke oplyst\"\n",
    "            grades = grades_1\n",
    "            trivsel = trivsel_1\n",
    "\n",
    "\n",
    "        \n",
    "        try:\n",
    "            if len(area_size) > 2:  # Bolig\n",
    "                dict[total_address] = {'Price': price, 'Schoolname': school_name, 'Distance to school': school, 'School-grades': grades, 'Trivsel': trivsel, 'Boligtype': boligtype, 'Energy-classification': energi, 'Radon': radon, 'Kommuneskat': kommuneskat, 'Grundskyldspromillen': grundskyldspromillen, 'Kommune tekst': kommune_text, 'Liggetid': liggetid_text, 'm2': area_size[0].get_text(), 'Grund': area_size[1].get_text(), 'Ejerudgift': area_size[2].get_text(),\n",
    "                                       'Rooms': other[0].get_text(), 'Build': other[1].get_text(), 'Toilets': other[2].get_text(), 'Postal code': pstnr_ny[0], 'link': link}\n",
    "            else:  # Lejlighed\n",
    "                dict[total_address] = {'Price': price, 'Schoolname': school_name, 'Distance to school': school, 'School-grades': grades, 'Trivsel': trivsel, 'Boligtype': boligtype, 'Energy-classification': energi, 'Radon': radon, 'Kommuneskat': kommuneskat, 'Grundskyldspromillen': grundskyldspromillen, 'Kommune tekst': kommune_text, 'Liggetid': liggetid_text, 'm2': area_size[0].get_text(), 'Ejerudgift': area_size[1].get_text(), 'Elevator': other[0].get_text(),\n",
    "                                       'Rooms': other[1].get_text(), 'Build': other[2].get_text(), 'Toilets': other[3].get_text(),\n",
    "                                       'Altan': other[4].get_text(), 'Terasse': other[5].get_text(), 'Postal code': pstnr_ny[0], 'link': link}\n",
    "        except:\n",
    "            dict[total_address] = {'m2': 'fejl', 'Ejerudgift': 'fejl', 'Elevator': 'fejl', 'Rooms': 'fejl', 'Build': 'fejl', 'Toilet': 'fejl', 'Altan': 'fejl', 'Terasse': 'fejl', 'Postal code': 'fejl', 'link': link}\n",
    "    except Exception as e:\n",
    "        print(f'Error occurred for link: {link} - {e}')\n",
    "        links_med_fejl.append(link)\n",
    "\n",
    "# Using ThreadPoolExecutor to handle multiple requests concurrently\n",
    "with ThreadPoolExecutor(max_workers=1) as executor:\n",
    "    list(tqdm(executor.map(fetch_data, links_med_fejl), total=len(links_med_fejl)))\n"
   ]
  },
  {
   "cell_type": "markdown",
   "id": "3f9f556e-2eb1-4938-a401-6fb00ee3c31c",
   "metadata": {},
   "source": [
    "## Lav først til DataFrame og efterfølgende til CSV fil"
   ]
  },
  {
   "cell_type": "code",
   "execution_count": 28,
   "id": "1a23ffd6-0a45-4c73-8b9f-f3a957078a55",
   "metadata": {},
   "outputs": [
    {
     "data": {
      "text/html": [
       "<div>\n",
       "<style scoped>\n",
       "    .dataframe tbody tr th:only-of-type {\n",
       "        vertical-align: middle;\n",
       "    }\n",
       "\n",
       "    .dataframe tbody tr th {\n",
       "        vertical-align: top;\n",
       "    }\n",
       "\n",
       "    .dataframe thead th {\n",
       "        text-align: right;\n",
       "    }\n",
       "</style>\n",
       "<table border=\"1\" class=\"dataframe\">\n",
       "  <thead>\n",
       "    <tr style=\"text-align: right;\">\n",
       "      <th></th>\n",
       "      <th>Price</th>\n",
       "      <th>Schoolname</th>\n",
       "      <th>Distance to school</th>\n",
       "      <th>School-grades</th>\n",
       "      <th>Trivsel</th>\n",
       "      <th>Boligtype</th>\n",
       "      <th>Energy-classification</th>\n",
       "      <th>Radon</th>\n",
       "      <th>Kommuneskat</th>\n",
       "      <th>Grundskyldspromillen</th>\n",
       "      <th>...</th>\n",
       "      <th>Ejerudgift</th>\n",
       "      <th>Rooms</th>\n",
       "      <th>Build</th>\n",
       "      <th>Toilets</th>\n",
       "      <th>Postal code</th>\n",
       "      <th>link</th>\n",
       "      <th>Elevator</th>\n",
       "      <th>Altan</th>\n",
       "      <th>Terasse</th>\n",
       "      <th>Toilet</th>\n",
       "    </tr>\n",
       "  </thead>\n",
       "  <tbody>\n",
       "    <tr>\n",
       "      <th>Enebærvænget 14,4700</th>\n",
       "      <td>1.595.000 kr.</td>\n",
       "      <td>Sydbyskolen</td>\n",
       "      <td>1,83 km</td>\n",
       "      <td>Ikke oplyst</td>\n",
       "      <td>Ikke oplyst</td>\n",
       "      <td>Villa</td>\n",
       "      <td>Energimærke C</td>\n",
       "      <td>Høj</td>\n",
       "      <td>25%</td>\n",
       "      <td>25‰.</td>\n",
       "      <td>...</td>\n",
       "      <td>Ejerudg.: 1.850 kr/md</td>\n",
       "      <td>4 værelser</td>\n",
       "      <td>Opført 1971</td>\n",
       "      <td>1 toilet</td>\n",
       "      <td>4700</td>\n",
       "      <td>https://www.boligsiden.dk/addresses/0a3f50b0-71bc-32b8-e044-0003ba298018</td>\n",
       "      <td>NaN</td>\n",
       "      <td>NaN</td>\n",
       "      <td>NaN</td>\n",
       "      <td>NaN</td>\n",
       "    </tr>\n",
       "    <tr>\n",
       "      <th>Nordre Strandvej 27,8700</th>\n",
       "      <td>1.698.000 kr.</td>\n",
       "      <td>Horsens Byskole</td>\n",
       "      <td>1,29 km</td>\n",
       "      <td>Ikke oplyst</td>\n",
       "      <td>Ikke oplyst</td>\n",
       "      <td>Villa</td>\n",
       "      <td>Energimærke C</td>\n",
       "      <td>Høj</td>\n",
       "      <td>25,39%</td>\n",
       "      <td>22,56‰.</td>\n",
       "      <td>...</td>\n",
       "      <td>Ejerudg.: 1.848 kr/md</td>\n",
       "      <td>5 værelser</td>\n",
       "      <td>Opført 1877</td>\n",
       "      <td>1 toilet</td>\n",
       "      <td>8700</td>\n",
       "      <td>https://www.boligsiden.dk/addresses/0a3f50bb-7735-32b8-e044-0003ba298018</td>\n",
       "      <td>NaN</td>\n",
       "      <td>NaN</td>\n",
       "      <td>NaN</td>\n",
       "      <td>NaN</td>\n",
       "    </tr>\n",
       "    <tr>\n",
       "      <th>Øresunds Alle 33,2791</th>\n",
       "      <td>25.500.000 kr.</td>\n",
       "      <td>Dragør Skole</td>\n",
       "      <td>521 m</td>\n",
       "      <td>8.1</td>\n",
       "      <td>3.8</td>\n",
       "      <td>Villa</td>\n",
       "      <td>Energimærke A2015</td>\n",
       "      <td>Mellem</td>\n",
       "      <td>24,8%</td>\n",
       "      <td>24,47‰.</td>\n",
       "      <td>...</td>\n",
       "      <td>Ejerudg.: 8.462 kr/md</td>\n",
       "      <td>6 værelser</td>\n",
       "      <td>Opført 2018</td>\n",
       "      <td>5 toiletter</td>\n",
       "      <td>2791</td>\n",
       "      <td>https://www.boligsiden.dk/addresses/0a3f50a3-98a8-32b8-e044-0003ba298018</td>\n",
       "      <td>NaN</td>\n",
       "      <td>NaN</td>\n",
       "      <td>NaN</td>\n",
       "      <td>NaN</td>\n",
       "    </tr>\n",
       "    <tr>\n",
       "      <th>Kongelysvej 19,2640</th>\n",
       "      <td>2.995.000 kr.</td>\n",
       "      <td>Læringshuset</td>\n",
       "      <td>280 m</td>\n",
       "      <td>6.5</td>\n",
       "      <td>3.4</td>\n",
       "      <td>Rækkehus</td>\n",
       "      <td>Energimærke A2015</td>\n",
       "      <td>Høj</td>\n",
       "      <td>24,6%</td>\n",
       "      <td>24,4‰.</td>\n",
       "      <td>...</td>\n",
       "      <td>Ejerudg.: 2.747 kr/md</td>\n",
       "      <td>3 værelser</td>\n",
       "      <td>Opført 2018</td>\n",
       "      <td>1 toilet</td>\n",
       "      <td>2640</td>\n",
       "      <td>https://www.boligsiden.dk/addresses/1fda6ad3-6ab3-41d4-9f36-8eafe8fe3463</td>\n",
       "      <td>NaN</td>\n",
       "      <td>NaN</td>\n",
       "      <td>NaN</td>\n",
       "      <td>NaN</td>\n",
       "    </tr>\n",
       "    <tr>\n",
       "      <th>Peter Heises Kvarter 9,9700</th>\n",
       "      <td>1.795.000 kr.</td>\n",
       "      <td>Søndergades Skole</td>\n",
       "      <td>1,42 km</td>\n",
       "      <td>Ikke oplyst</td>\n",
       "      <td>Ikke oplyst</td>\n",
       "      <td>Villa</td>\n",
       "      <td>Energimærke C</td>\n",
       "      <td>Mellem</td>\n",
       "      <td>26,3%</td>\n",
       "      <td>31,23‰.</td>\n",
       "      <td>...</td>\n",
       "      <td>Ejerudg.: 1.851 kr/md</td>\n",
       "      <td>4 værelser</td>\n",
       "      <td>Opført 1999</td>\n",
       "      <td>2 toiletter</td>\n",
       "      <td>9700</td>\n",
       "      <td>https://www.boligsiden.dk/addresses/0a3f50c6-f55d-32b8-e044-0003ba298018</td>\n",
       "      <td>NaN</td>\n",
       "      <td>NaN</td>\n",
       "      <td>NaN</td>\n",
       "      <td>NaN</td>\n",
       "    </tr>\n",
       "    <tr>\n",
       "      <th>...</th>\n",
       "      <td>...</td>\n",
       "      <td>...</td>\n",
       "      <td>...</td>\n",
       "      <td>...</td>\n",
       "      <td>...</td>\n",
       "      <td>...</td>\n",
       "      <td>...</td>\n",
       "      <td>...</td>\n",
       "      <td>...</td>\n",
       "      <td>...</td>\n",
       "      <td>...</td>\n",
       "      <td>...</td>\n",
       "      <td>...</td>\n",
       "      <td>...</td>\n",
       "      <td>...</td>\n",
       "      <td>...</td>\n",
       "      <td>...</td>\n",
       "      <td>...</td>\n",
       "      <td>...</td>\n",
       "      <td>...</td>\n",
       "      <td>...</td>\n",
       "    </tr>\n",
       "    <tr>\n",
       "      <th>Rishøjvej 17,8983</th>\n",
       "      <td>895.000 kr.</td>\n",
       "      <td>Grønhøjskolen</td>\n",
       "      <td>4,94 km</td>\n",
       "      <td>6.2</td>\n",
       "      <td>3.6</td>\n",
       "      <td>Villa</td>\n",
       "      <td>Energimærke F</td>\n",
       "      <td>Høj</td>\n",
       "      <td>25,8%</td>\n",
       "      <td>27,93‰.</td>\n",
       "      <td>...</td>\n",
       "      <td>Ejerudg.: 1.459 kr/md</td>\n",
       "      <td>5 værelser</td>\n",
       "      <td>Opført 1911</td>\n",
       "      <td>1 toilet</td>\n",
       "      <td>8983</td>\n",
       "      <td>https://www.boligsiden.dk/addresses/0a3f50c0-71a1-32b8-e044-0003ba298018</td>\n",
       "      <td>NaN</td>\n",
       "      <td>NaN</td>\n",
       "      <td>NaN</td>\n",
       "      <td>NaN</td>\n",
       "    </tr>\n",
       "    <tr>\n",
       "      <th>Vesterhavsgade 67, st. 3.,6700</th>\n",
       "      <td>NaN</td>\n",
       "      <td>NaN</td>\n",
       "      <td>NaN</td>\n",
       "      <td>NaN</td>\n",
       "      <td>NaN</td>\n",
       "      <td>NaN</td>\n",
       "      <td>NaN</td>\n",
       "      <td>NaN</td>\n",
       "      <td>NaN</td>\n",
       "      <td>NaN</td>\n",
       "      <td>...</td>\n",
       "      <td>fejl</td>\n",
       "      <td>fejl</td>\n",
       "      <td>fejl</td>\n",
       "      <td>NaN</td>\n",
       "      <td>fejl</td>\n",
       "      <td>https://www.boligsiden.dk/addresses/0a3f50b9-5c39-32b8-e044-0003ba298018</td>\n",
       "      <td>fejl</td>\n",
       "      <td>fejl</td>\n",
       "      <td>fejl</td>\n",
       "      <td>fejl</td>\n",
       "    </tr>\n",
       "    <tr>\n",
       "      <th>Selmers Vænge 4,2970</th>\n",
       "      <td>NaN</td>\n",
       "      <td>NaN</td>\n",
       "      <td>NaN</td>\n",
       "      <td>NaN</td>\n",
       "      <td>NaN</td>\n",
       "      <td>NaN</td>\n",
       "      <td>NaN</td>\n",
       "      <td>NaN</td>\n",
       "      <td>NaN</td>\n",
       "      <td>NaN</td>\n",
       "      <td>...</td>\n",
       "      <td>fejl</td>\n",
       "      <td>fejl</td>\n",
       "      <td>fejl</td>\n",
       "      <td>NaN</td>\n",
       "      <td>fejl</td>\n",
       "      <td>https://www.boligsiden.dk/addresses/0a3f50aa-1f5e-32b8-e044-0003ba298018</td>\n",
       "      <td>fejl</td>\n",
       "      <td>fejl</td>\n",
       "      <td>fejl</td>\n",
       "      <td>fejl</td>\n",
       "    </tr>\n",
       "    <tr>\n",
       "      <th>Munkebjergvej 84,2770</th>\n",
       "      <td>NaN</td>\n",
       "      <td>NaN</td>\n",
       "      <td>NaN</td>\n",
       "      <td>NaN</td>\n",
       "      <td>NaN</td>\n",
       "      <td>NaN</td>\n",
       "      <td>NaN</td>\n",
       "      <td>NaN</td>\n",
       "      <td>NaN</td>\n",
       "      <td>NaN</td>\n",
       "      <td>...</td>\n",
       "      <td>fejl</td>\n",
       "      <td>fejl</td>\n",
       "      <td>fejl</td>\n",
       "      <td>NaN</td>\n",
       "      <td>fejl</td>\n",
       "      <td>https://www.boligsiden.dk/addresses/0a3f50a7-57be-32b8-e044-0003ba298018</td>\n",
       "      <td>fejl</td>\n",
       "      <td>fejl</td>\n",
       "      <td>fejl</td>\n",
       "      <td>fejl</td>\n",
       "    </tr>\n",
       "    <tr>\n",
       "      <th>Brahesborgvej 30,7000</th>\n",
       "      <td>NaN</td>\n",
       "      <td>NaN</td>\n",
       "      <td>NaN</td>\n",
       "      <td>NaN</td>\n",
       "      <td>NaN</td>\n",
       "      <td>NaN</td>\n",
       "      <td>NaN</td>\n",
       "      <td>NaN</td>\n",
       "      <td>NaN</td>\n",
       "      <td>NaN</td>\n",
       "      <td>...</td>\n",
       "      <td>fejl</td>\n",
       "      <td>fejl</td>\n",
       "      <td>fejl</td>\n",
       "      <td>NaN</td>\n",
       "      <td>fejl</td>\n",
       "      <td>https://www.boligsiden.dk/addresses/0a3f50ba-87e6-32b8-e044-0003ba298018</td>\n",
       "      <td>fejl</td>\n",
       "      <td>fejl</td>\n",
       "      <td>fejl</td>\n",
       "      <td>fejl</td>\n",
       "    </tr>\n",
       "  </tbody>\n",
       "</table>\n",
       "<p>997 rows × 24 columns</p>\n",
       "</div>"
      ],
      "text/plain": [
       "                                         Price         Schoolname  \\\n",
       "Enebærvænget 14,4700             1.595.000 kr.        Sydbyskolen   \n",
       "Nordre Strandvej 27,8700         1.698.000 kr.    Horsens Byskole   \n",
       "Øresunds Alle 33,2791           25.500.000 kr.       Dragør Skole   \n",
       "Kongelysvej 19,2640              2.995.000 kr.       Læringshuset   \n",
       "Peter Heises Kvarter 9,9700      1.795.000 kr.  Søndergades Skole   \n",
       "...                                        ...                ...   \n",
       "Rishøjvej 17,8983                  895.000 kr.      Grønhøjskolen   \n",
       "Vesterhavsgade 67, st. 3.,6700             NaN                NaN   \n",
       "Selmers Vænge 4,2970                       NaN                NaN   \n",
       "Munkebjergvej 84,2770                      NaN                NaN   \n",
       "Brahesborgvej 30,7000                      NaN                NaN   \n",
       "\n",
       "                               Distance to school School-grades      Trivsel  \\\n",
       "Enebærvænget 14,4700                      1,83 km   Ikke oplyst  Ikke oplyst   \n",
       "Nordre Strandvej 27,8700                  1,29 km   Ikke oplyst  Ikke oplyst   \n",
       "Øresunds Alle 33,2791                       521 m           8.1          3.8   \n",
       "Kongelysvej 19,2640                         280 m           6.5          3.4   \n",
       "Peter Heises Kvarter 9,9700               1,42 km   Ikke oplyst  Ikke oplyst   \n",
       "...                                           ...           ...          ...   \n",
       "Rishøjvej 17,8983                         4,94 km           6.2          3.6   \n",
       "Vesterhavsgade 67, st. 3.,6700                NaN           NaN          NaN   \n",
       "Selmers Vænge 4,2970                          NaN           NaN          NaN   \n",
       "Munkebjergvej 84,2770                         NaN           NaN          NaN   \n",
       "Brahesborgvej 30,7000                         NaN           NaN          NaN   \n",
       "\n",
       "                               Boligtype Energy-classification   Radon  \\\n",
       "Enebærvænget 14,4700               Villa         Energimærke C     Høj   \n",
       "Nordre Strandvej 27,8700           Villa         Energimærke C     Høj   \n",
       "Øresunds Alle 33,2791              Villa     Energimærke A2015  Mellem   \n",
       "Kongelysvej 19,2640             Rækkehus     Energimærke A2015     Høj   \n",
       "Peter Heises Kvarter 9,9700        Villa         Energimærke C  Mellem   \n",
       "...                                  ...                   ...     ...   \n",
       "Rishøjvej 17,8983                  Villa         Energimærke F     Høj   \n",
       "Vesterhavsgade 67, st. 3.,6700       NaN                   NaN     NaN   \n",
       "Selmers Vænge 4,2970                 NaN                   NaN     NaN   \n",
       "Munkebjergvej 84,2770                NaN                   NaN     NaN   \n",
       "Brahesborgvej 30,7000                NaN                   NaN     NaN   \n",
       "\n",
       "                               Kommuneskat Grundskyldspromillen  ...  \\\n",
       "Enebærvænget 14,4700                   25%                 25‰.  ...   \n",
       "Nordre Strandvej 27,8700            25,39%              22,56‰.  ...   \n",
       "Øresunds Alle 33,2791                24,8%              24,47‰.  ...   \n",
       "Kongelysvej 19,2640                  24,6%               24,4‰.  ...   \n",
       "Peter Heises Kvarter 9,9700          26,3%              31,23‰.  ...   \n",
       "...                                    ...                  ...  ...   \n",
       "Rishøjvej 17,8983                    25,8%              27,93‰.  ...   \n",
       "Vesterhavsgade 67, st. 3.,6700         NaN                  NaN  ...   \n",
       "Selmers Vænge 4,2970                   NaN                  NaN  ...   \n",
       "Munkebjergvej 84,2770                  NaN                  NaN  ...   \n",
       "Brahesborgvej 30,7000                  NaN                  NaN  ...   \n",
       "\n",
       "                                           Ejerudgift       Rooms  \\\n",
       "Enebærvænget 14,4700            Ejerudg.: 1.850 kr/md  4 værelser   \n",
       "Nordre Strandvej 27,8700        Ejerudg.: 1.848 kr/md  5 værelser   \n",
       "Øresunds Alle 33,2791           Ejerudg.: 8.462 kr/md  6 værelser   \n",
       "Kongelysvej 19,2640             Ejerudg.: 2.747 kr/md  3 værelser   \n",
       "Peter Heises Kvarter 9,9700     Ejerudg.: 1.851 kr/md  4 værelser   \n",
       "...                                               ...         ...   \n",
       "Rishøjvej 17,8983               Ejerudg.: 1.459 kr/md  5 værelser   \n",
       "Vesterhavsgade 67, st. 3.,6700                   fejl        fejl   \n",
       "Selmers Vænge 4,2970                             fejl        fejl   \n",
       "Munkebjergvej 84,2770                            fejl        fejl   \n",
       "Brahesborgvej 30,7000                            fejl        fejl   \n",
       "\n",
       "                                      Build      Toilets Postal code  \\\n",
       "Enebærvænget 14,4700            Opført 1971     1 toilet        4700   \n",
       "Nordre Strandvej 27,8700        Opført 1877     1 toilet        8700   \n",
       "Øresunds Alle 33,2791           Opført 2018  5 toiletter        2791   \n",
       "Kongelysvej 19,2640             Opført 2018     1 toilet        2640   \n",
       "Peter Heises Kvarter 9,9700     Opført 1999  2 toiletter        9700   \n",
       "...                                     ...          ...         ...   \n",
       "Rishøjvej 17,8983               Opført 1911     1 toilet        8983   \n",
       "Vesterhavsgade 67, st. 3.,6700         fejl          NaN        fejl   \n",
       "Selmers Vænge 4,2970                   fejl          NaN        fejl   \n",
       "Munkebjergvej 84,2770                  fejl          NaN        fejl   \n",
       "Brahesborgvej 30,7000                  fejl          NaN        fejl   \n",
       "\n",
       "                                                                                                    link  \\\n",
       "Enebærvænget 14,4700            https://www.boligsiden.dk/addresses/0a3f50b0-71bc-32b8-e044-0003ba298018   \n",
       "Nordre Strandvej 27,8700        https://www.boligsiden.dk/addresses/0a3f50bb-7735-32b8-e044-0003ba298018   \n",
       "Øresunds Alle 33,2791           https://www.boligsiden.dk/addresses/0a3f50a3-98a8-32b8-e044-0003ba298018   \n",
       "Kongelysvej 19,2640             https://www.boligsiden.dk/addresses/1fda6ad3-6ab3-41d4-9f36-8eafe8fe3463   \n",
       "Peter Heises Kvarter 9,9700     https://www.boligsiden.dk/addresses/0a3f50c6-f55d-32b8-e044-0003ba298018   \n",
       "...                                                                                                  ...   \n",
       "Rishøjvej 17,8983               https://www.boligsiden.dk/addresses/0a3f50c0-71a1-32b8-e044-0003ba298018   \n",
       "Vesterhavsgade 67, st. 3.,6700  https://www.boligsiden.dk/addresses/0a3f50b9-5c39-32b8-e044-0003ba298018   \n",
       "Selmers Vænge 4,2970            https://www.boligsiden.dk/addresses/0a3f50aa-1f5e-32b8-e044-0003ba298018   \n",
       "Munkebjergvej 84,2770           https://www.boligsiden.dk/addresses/0a3f50a7-57be-32b8-e044-0003ba298018   \n",
       "Brahesborgvej 30,7000           https://www.boligsiden.dk/addresses/0a3f50ba-87e6-32b8-e044-0003ba298018   \n",
       "\n",
       "                               Elevator Altan Terasse Toilet  \n",
       "Enebærvænget 14,4700                NaN   NaN     NaN    NaN  \n",
       "Nordre Strandvej 27,8700            NaN   NaN     NaN    NaN  \n",
       "Øresunds Alle 33,2791               NaN   NaN     NaN    NaN  \n",
       "Kongelysvej 19,2640                 NaN   NaN     NaN    NaN  \n",
       "Peter Heises Kvarter 9,9700         NaN   NaN     NaN    NaN  \n",
       "...                                 ...   ...     ...    ...  \n",
       "Rishøjvej 17,8983                   NaN   NaN     NaN    NaN  \n",
       "Vesterhavsgade 67, st. 3.,6700     fejl  fejl    fejl   fejl  \n",
       "Selmers Vænge 4,2970               fejl  fejl    fejl   fejl  \n",
       "Munkebjergvej 84,2770              fejl  fejl    fejl   fejl  \n",
       "Brahesborgvej 30,7000              fejl  fejl    fejl   fejl  \n",
       "\n",
       "[997 rows x 24 columns]"
      ]
     },
     "execution_count": 28,
     "metadata": {},
     "output_type": "execute_result"
    }
   ],
   "source": [
    "#Converting dict to dataframe:\n",
    "DF_NAME = 'index_19000_20000' #Her kalder du din Dataframe/CSV-fil noget unikt.\n",
    "\n",
    "df_DF_NAME = pd.DataFrame.from_dict(dict, orient='index')\n",
    "pd.set_option('display.max_colwidth', None)\n",
    "df_DF_NAME\n",
    "\n"
   ]
  },
  {
   "cell_type": "code",
   "execution_count": 30,
   "id": "dade692a-cb7a-4ec1-91e1-d8edb502fadf",
   "metadata": {},
   "outputs": [],
   "source": [
    "#Converts to csv-file and save in \"Rawdata\"\n",
    "df_DF_NAME.to_csv(f'rawdata/{DF_NAME}.csv', index=True)\n",
    "\n"
   ]
  },
  {
   "cell_type": "code",
   "execution_count": null,
   "id": "2a0f944e-d1d3-48bc-8dd1-46e411f9955c",
   "metadata": {},
   "outputs": [],
   "source": []
  }
 ],
 "metadata": {
  "kernelspec": {
   "display_name": "Python 3 (ipykernel)",
   "language": "python",
   "name": "python3"
  },
  "language_info": {
   "codemirror_mode": {
    "name": "ipython",
    "version": 3
   },
   "file_extension": ".py",
   "mimetype": "text/x-python",
   "name": "python",
   "nbconvert_exporter": "python",
   "pygments_lexer": "ipython3",
   "version": "3.12.4"
  }
 },
 "nbformat": 4,
 "nbformat_minor": 5
}

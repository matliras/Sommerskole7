{
 "cells": [
  {
   "cell_type": "markdown",
   "id": "f10f7eac-1fc4-48fc-bf70-2f4eb39d89bb",
   "metadata": {},
   "source": [
    "# MACHINE LEARNING, LASSO"
   ]
  },
  {
   "cell_type": "code",
   "execution_count": 80,
   "id": "98cbd422-7082-4558-8a61-8d83d9783006",
   "metadata": {},
   "outputs": [],
   "source": [
    "#Importing libaries\n",
    "import pandas as pd\n",
    "import matplotlib.pyplot as plt\n",
    "import numpy as np \n",
    "import pandas as pd\n",
    "import seaborn as sns\n",
    "from matplotlib.ticker import FuncFormatter\n",
    "from scipy import stats\n",
    "import warnings\n",
    "from sklearn.exceptions import ConvergenceWarning\n",
    "warnings.filterwarnings(action='ignore', category=ConvergenceWarning)\n",
    "from sklearn.model_selection import train_test_split\n",
    "from sklearn.metrics import mean_squared_error as mse\n",
    "from sklearn.pipeline import make_pipeline\n",
    "from sklearn.preprocessing import PolynomialFeatures, StandardScaler\n",
    "from sklearn.linear_model import LinearRegression, Lasso\n",
    "from sklearn.model_selection import KFold\n",
    "from sklearn.metrics import r2_score"
   ]
  },
  {
   "cell_type": "code",
   "execution_count": 60,
   "id": "d40fd6a4-05c2-43be-b931-726d9609b8ba",
   "metadata": {},
   "outputs": [
    {
     "name": "stdout",
     "output_type": "stream",
     "text": [
      "19848\n"
     ]
    }
   ],
   "source": [
    "#Importing data\n",
    "pd.set_option('display.max_rows', 150)\n",
    "pd.set_option('display.max_column', None)\n",
    "pd.set_option('display.max_colwidth', None)\n",
    "csv_file_path = '../Modeldata/data_ready.csv'\n",
    "df_final = pd.read_csv(csv_file_path)\n",
    "df_final\n",
    "df_final.set_index('Unnamed: 0', inplace=True)\n",
    "df_final.index.name = None\n",
    "print(len(df_final))"
   ]
  },
  {
   "cell_type": "code",
   "execution_count": 62,
   "id": "863d4708-3401-49a3-bd66-77780eee2c0e",
   "metadata": {},
   "outputs": [
    {
     "name": "stdout",
     "output_type": "stream",
     "text": [
      "19845\n",
      "97\n",
      "19631\n",
      "19631\n"
     ]
    }
   ],
   "source": [
    "##Deleting observations with less than 20 m2 -> To avoid \"non-appartments\"\n",
    "outliers_m2 = df_final[(df_final['m2'] < 20) | ((df_final['m2'] < 50) & (df_final['Boligtype_Landejendom'] == 1))]\n",
    "#print(outliers_m2)\n",
    "df_final = df_final.drop(outliers_m2.index)\n",
    "\n",
    "#Square meter price:\n",
    "df_final['price/m2'] = df_final['Price']/df_final['m2']\n",
    "\n",
    "print(len(df_final))\n",
    "########################################################################\n",
    "# Calculate Z-scores for each value in the column\n",
    "df_final['z_score_price_m2'] = stats.zscore(df_final['price/m2'])\n",
    "\n",
    "# Define outliers as any points with a Z-score > 4 or < -4\n",
    "outliers = df_final[(df_final['z_score_price_m2'] > 4) | (df_final['z_score_price_m2'] < -4)]\n",
    "#print(outliers.sort_values(by='price/m2', ascending=False))\n",
    "\n",
    "df_final = df_final.drop(outliers.index)\n",
    "df_final.drop(columns='price/m2', inplace=True)\n",
    "########################################################################\n",
    "# Calculate Z-scores for m2\n",
    "df_final['z_score_m2'] = stats.zscore(df_final['m2'])\n",
    "\n",
    "# Define outliers as any points with a Z-score > 4 or < -4\n",
    "outliers_m2 = df_final[(df_final['z_score_m2'] > 4) | (df_final['z_score_m2'] < -4)]\n",
    "#print(outliers_m2.sort_values(by='m2', ascending=True))\n",
    "print(len(outliers_m2))\n",
    "df_final = df_final.drop(outliers_m2.index)\n",
    "print(len(df_final))\n",
    "\n",
    "########################################################################\n",
    "\"\"\"\n",
    "#Calculate Z-scores for price\n",
    "df_final['z_score_price'] = stats.zscore(df_final['Price'])\n",
    "# Define outliers as any points with a Z-score > 4 or < -4\n",
    "outliers_price = df_final[(df_final['z_score_price'] > 4) | (df_final['z_score_price'] < -4)]\n",
    "#print(outliers_m2.sort_values(by='m2', ascending=True))\n",
    "df_final = df_final.drop(outliers_price.index)\n",
    "\n",
    "\"\"\"\n",
    "print(len(df_final))\n",
    "\n",
    "df_final = df_final.drop('z_score_m2', axis=1)\n",
    "df_final = df_final.drop('z_score_price_m2', axis=1)\n",
    "\n",
    "#print(df_final.sort_values(by='price/m2', ascending=True))"
   ]
  },
  {
   "cell_type": "code",
   "execution_count": 64,
   "id": "491a069f-d402-4cc9-a806-50676c53b52d",
   "metadata": {},
   "outputs": [],
   "source": [
    "y = df_final['Price']\n",
    "X = df_final.drop(columns=['Price'])"
   ]
  },
  {
   "cell_type": "code",
   "execution_count": 66,
   "id": "6b16d470-f13f-4637-8009-ab3534f51597",
   "metadata": {},
   "outputs": [],
   "source": [
    "X_dev, X_test, y_dev, y_test = train_test_split(X, y, test_size=1/3, random_state=1) #The random_state works as a seed\n",
    "\n",
    "#2\n",
    "X_train, X_val, y_train, y_val = train_test_split(X_dev, y_dev, test_size=0.5, random_state=1)"
   ]
  },
  {
   "cell_type": "code",
   "execution_count": 68,
   "id": "ea2d439c-e765-442a-9525-6942c76f5778",
   "metadata": {},
   "outputs": [],
   "source": [
    "lambdas = np.logspace(0, 7, 40)\n",
    "kfolds = KFold(n_splits=2)\n",
    "folds = list(kfolds.split(X_dev, y_dev))\n",
    "pipe_lasso = make_pipeline(PolynomialFeatures(degree=1, include_bias=False),                           \n",
    "                           StandardScaler(),\n",
    "                           Lasso(random_state=1,))"
   ]
  },
  {
   "cell_type": "code",
   "execution_count": 70,
   "id": "a034fe4c-16f8-402f-943a-a2779bddae36",
   "metadata": {},
   "outputs": [
    {
     "name": "stdout",
     "output_type": "stream",
     "text": [
      "lambda\n",
      "492.388263    2.792569e+12\n",
      "Name: Validation, dtype: float64\n"
     ]
    }
   ],
   "source": [
    "from sklearn.model_selection import validation_curve\n",
    "\n",
    "# FIT AND EVALUATE FOR DIFFERENT LAMBDAS\n",
    "train_scores, test_scores = \\\n",
    "    validation_curve(estimator=pipe_lasso,\n",
    "                     X=X_dev,\n",
    "                     y=y_dev,\n",
    "                     param_name='lasso__alpha', #built-in name of hyperparameter\n",
    "                     param_range=lambdas, #values to consider\n",
    "                     scoring='neg_mean_squared_error',                 \n",
    "                     cv=2)\n",
    "\n",
    "# OBTAIN MSE FOR DIFFERENT LAMBDAS AND PRINT BEST\n",
    "mse_score = pd.DataFrame({'Train':-train_scores.mean(axis=1),\n",
    "                          'Validation':-test_scores.mean(axis=1),\n",
    "                          'lambda':lambdas})\\\n",
    "              .set_index('lambda')   \n",
    "print(mse_score.Validation.nsmallest(1))"
   ]
  },
  {
   "cell_type": "code",
   "execution_count": 72,
   "id": "e73e5423-d033-4749-98c1-112594ac39ab",
   "metadata": {},
   "outputs": [
    {
     "data": {
      "image/png": "[encoded data removed]",
      "text/plain": [
       "<Figure size 1000x600 with 1 Axes>"
      ]
     },
     "metadata": {},
     "output_type": "display_data"
    }
   ],
   "source": [
    "np.sqrt(mse_score).plot(logx=True, figsize=(10,6));"
   ]
  },
  {
   "cell_type": "code",
   "execution_count": 74,
   "id": "94dadd88-6ba0-4f7d-8937-bff1498faffd",
   "metadata": {},
   "outputs": [
    {
     "name": "stdout",
     "output_type": "stream",
     "text": [
      "lambda\n",
      "492.388263    2.792569e+12\n",
      "Name: Validation, dtype: float64\n"
     ]
    }
   ],
   "source": [
    "print(mse_score.Validation.nsmallest(1))"
   ]
  },
  {
   "cell_type": "code",
   "execution_count": 76,
   "id": "a9f3aaea-d92e-49ef-8ea8-2bf54b76cd8c",
   "metadata": {},
   "outputs": [
    {
     "name": "stdout",
     "output_type": "stream",
     "text": [
      "29215676.874987293\n"
     ]
    }
   ],
   "source": [
    "optimal_alpha = 492.388263\n",
    "\n",
    "\n",
    "# RETRAIN/RE-ESTIMATE MODEL USING OPTIMAL HYPERPARAMETERS AND COMPARE PERFORMANCE\n",
    "pipe_lasso = make_pipeline(PolynomialFeatures(include_bias=False), \n",
    "                             StandardScaler(),\n",
    "                             Lasso(alpha=optimal_alpha, random_state=1))\n",
    "\n",
    "pipe_lasso.fit(X_dev,y_dev) #fit optimal lambda to entire development set: likely to improve performance slightly since we use more oberservations\n",
    "\n",
    "y_test_pred = pipe_lasso.predict(X_test)\n",
    "\n",
    "mean_squared_error = mse(y_test, y_test_pred)\n",
    "\n",
    "print(np.sqrt(mean_squared_error))\n",
    "                \n",
    "\n"
   ]
  },
  {
   "cell_type": "code",
   "execution_count": 82,
   "id": "2b2cce20-8b0b-4a71-aa6d-ba9707c6fea4",
   "metadata": {},
   "outputs": [],
   "source": [
    "r2_lasso = r2_score(y_test_pred, y_test)"
   ]
  },
  {
   "cell_type": "code",
   "execution_count": 84,
   "id": "77471f36-4b42-4bac-a38b-337428d49846",
   "metadata": {},
   "outputs": [
    {
     "name": "stdout",
     "output_type": "stream",
     "text": [
      "4.206378638105246e-05\n"
     ]
    }
   ],
   "source": [
    "print(r2_lasso)"
   ]
  },
  {
   "cell_type": "code",
   "execution_count": 78,
   "id": "4e370a6c-86b2-4bac-b494-4cdbee1c5b13",
   "metadata": {},
   "outputs": [
    {
     "data": {
      "text/plain": [
       "Strandvejen 92B,7120   -1.737041e+07\n",
       "Ibækvej 141,7100       -1.512369e+07\n",
       "Kellerisvej 96,3490    -1.125483e+07\n",
       "Bygaden 20,2690        -1.108853e+07\n",
       "Elverodvej 41,5462     -1.103129e+07\n",
       "                            ...     \n",
       "Æblevej 5,7250          7.659951e+08\n",
       "Ladefogedvej 4,4180     7.885866e+08\n",
       "Åbrinken 5,7200         7.973580e+08\n",
       "Brogade 4,8620          9.307354e+08\n",
       "Kirkevej 2,5464         1.302775e+09\n",
       "Name: Price, Length: 6544, dtype: float64"
      ]
     },
     "execution_count": 78,
     "metadata": {},
     "output_type": "execute_result"
    }
   ],
   "source": [
    "np.set_printoptions(suppress=True, precision=3)\n",
    "\n",
    "diff = y_test_pred-y_test \n",
    "\n",
    "diff.sort_values(ascending=True)"
   ]
  },
  {
   "cell_type": "code",
   "execution_count": null,
   "id": "ef079a2d-0e80-4f22-ab95-bf00ee960f02",
   "metadata": {},
   "outputs": [],
   "source": []
  },
  {
   "cell_type": "code",
   "execution_count": null,
   "id": "8ff879e8-e481-4c05-af83-fee6d917d3d8",
   "metadata": {},
   "outputs": [],
   "source": []
  }
 ],
 "metadata": {
  "kernelspec": {
   "display_name": "Python 3 (ipykernel)",
   "language": "python",
   "name": "python3"
  },
  "language_info": {
   "codemirror_mode": {
    "name": "ipython",
    "version": 3
   },
   "file_extension": ".py",
   "mimetype": "text/x-python",
   "name": "python",
   "nbconvert_exporter": "python",
   "pygments_lexer": "ipython3",
   "version": "3.12.4"
  }
 },
 "nbformat": 4,
 "nbformat_minor": 5
}

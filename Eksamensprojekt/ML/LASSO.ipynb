{
 "cells": [
  {
   "cell_type": "markdown",
   "id": "f10f7eac-1fc4-48fc-bf70-2f4eb39d89bb",
   "metadata": {},
   "source": [
    "# MACHINE LEARNING, LASSO"
   ]
  },
  {
   "cell_type": "code",
   "execution_count": null,
   "id": "98cbd422-7082-4558-8a61-8d83d9783006",
   "metadata": {},
   "outputs": [],
   "source": []
  }
 ],
 "metadata": {
  "kernelspec": {
   "display_name": "Python 3 (ipykernel)",
   "language": "python",
   "name": "python3"
  },
  "language_info": {
   "codemirror_mode": {
    "name": "ipython",
    "version": 3
   },
   "file_extension": ".py",
   "mimetype": "text/x-python",
   "name": "python",
   "nbconvert_exporter": "python",
   "pygments_lexer": "ipython3",
   "version": "3.12.4"
  }
 },
 "nbformat": 4,
 "nbformat_minor": 5
}

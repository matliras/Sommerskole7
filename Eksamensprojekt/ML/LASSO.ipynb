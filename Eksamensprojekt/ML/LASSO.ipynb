{
 "cells": [
  {
   "cell_type": "markdown",
   "id": "f10f7eac-1fc4-48fc-bf70-2f4eb39d89bb",
   "metadata": {},
   "source": [
    "# MACHINE LEARNING, LASSO"
   ]
  },
  {
   "cell_type": "code",
   "execution_count": 9,
   "id": "98cbd422-7082-4558-8a61-8d83d9783006",
   "metadata": {},
   "outputs": [],
   "source": [
    "#Importing libaries\n",
    "import pandas as pd\n",
    "import matplotlib.pyplot as plt\n",
    "import numpy as np \n",
    "import pandas as pd\n",
    "import seaborn as sns\n",
    "from matplotlib.ticker import FuncFormatter\n",
    "from scipy import stats\n",
    "import warnings\n",
    "from sklearn.exceptions import ConvergenceWarning\n",
    "warnings.filterwarnings(action='ignore', category=ConvergenceWarning)\n",
    "from sklearn.model_selection import train_test_split\n",
    "from sklearn.metrics import mean_squared_error as mse\n",
    "from sklearn.pipeline import make_pipeline\n",
    "from sklearn.preprocessing import PolynomialFeatures, StandardScaler\n",
    "from sklearn.linear_model import LinearRegression, Lasso\n",
    "from sklearn.model_selection import KFold"
   ]
  },
  {
   "cell_type": "code",
   "execution_count": 29,
   "id": "d40fd6a4-05c2-43be-b931-726d9609b8ba",
   "metadata": {},
   "outputs": [
    {
     "name": "stdout",
     "output_type": "stream",
     "text": [
      "19848\n"
     ]
    }
   ],
   "source": [
    "#Importing data\n",
    "pd.set_option('display.max_rows', 150)\n",
    "pd.set_option('display.max_column', None)\n",
    "pd.set_option('display.max_colwidth', None)\n",
    "csv_file_path = '../Modeldata/data_ready.csv'\n",
    "df_final = pd.read_csv(csv_file_path)\n",
    "df_final\n",
    "df_final.set_index('Unnamed: 0', inplace=True)\n",
    "df_final.index.name = None\n",
    "print(len(df_final))"
   ]
  },
  {
   "cell_type": "code",
   "execution_count": 31,
   "id": "863d4708-3401-49a3-bd66-77780eee2c0e",
   "metadata": {},
   "outputs": [
    {
     "name": "stdout",
     "output_type": "stream",
     "text": [
      "19845\n",
      "97\n",
      "19631\n",
      "19631\n"
     ]
    }
   ],
   "source": [
    "##Deleting observations with less than 20 m2 -> To avoid \"non-appartments\"\n",
    "outliers_m2 = df_final[(df_final['m2'] < 20) | ((df_final['m2'] < 50) & (df_final['Boligtype_Landejendom'] == 1))]\n",
    "#print(outliers_m2)\n",
    "df_final = df_final.drop(outliers_m2.index)\n",
    "\n",
    "#Square meter price:\n",
    "df_final['price/m2'] = df_final['Price']/df_final['m2']\n",
    "\n",
    "print(len(df_final))\n",
    "########################################################################\n",
    "# Calculate Z-scores for each value in the column\n",
    "df_final['z_score_price_m2'] = stats.zscore(df_final['price/m2'])\n",
    "\n",
    "# Define outliers as any points with a Z-score > 4 or < -4\n",
    "outliers = df_final[(df_final['z_score_price_m2'] > 4) | (df_final['z_score_price_m2'] < -4)]\n",
    "#print(outliers.sort_values(by='price/m2', ascending=False))\n",
    "\n",
    "df_final = df_final.drop(outliers.index)\n",
    "df_final.drop(columns='price/m2', inplace=True)\n",
    "########################################################################\n",
    "# Calculate Z-scores for m2\n",
    "df_final['z_score_m2'] = stats.zscore(df_final['m2'])\n",
    "\n",
    "# Define outliers as any points with a Z-score > 4 or < -4\n",
    "outliers_m2 = df_final[(df_final['z_score_m2'] > 4) | (df_final['z_score_m2'] < -4)]\n",
    "#print(outliers_m2.sort_values(by='m2', ascending=True))\n",
    "print(len(outliers_m2))\n",
    "df_final = df_final.drop(outliers_m2.index)\n",
    "print(len(df_final))\n",
    "\n",
    "########################################################################\n",
    "\"\"\"\n",
    "#Calculate Z-scores for price\n",
    "df_final['z_score_price'] = stats.zscore(df_final['Price'])\n",
    "# Define outliers as any points with a Z-score > 4 or < -4\n",
    "outliers_price = df_final[(df_final['z_score_price'] > 4) | (df_final['z_score_price'] < -4)]\n",
    "#print(outliers_m2.sort_values(by='m2', ascending=True))\n",
    "df_final = df_final.drop(outliers_price.index)\n",
    "\n",
    "\"\"\"\n",
    "print(len(df_final))\n",
    "\n",
    "#print(df_final.sort_values(by='price/m2', ascending=True))"
   ]
  },
  {
   "cell_type": "code",
   "execution_count": 33,
   "id": "491a069f-d402-4cc9-a806-50676c53b52d",
   "metadata": {},
   "outputs": [],
   "source": [
    "y = df_final['Price']\n",
    "X = df_final.drop(columns=['Price'])"
   ]
  },
  {
   "cell_type": "code",
   "execution_count": 35,
   "id": "6b16d470-f13f-4637-8009-ab3534f51597",
   "metadata": {},
   "outputs": [],
   "source": [
    "X_dev, X_test, y_dev, y_test = train_test_split(X, y, test_size=1/3, random_state=1) #The random_state works as a seed\n",
    "\n",
    "#2\n",
    "X_train, X_val, y_train, y_val = train_test_split(X_dev, y_dev, test_size=0.5, random_state=1)"
   ]
  },
  {
   "cell_type": "code",
   "execution_count": 37,
   "id": "ea2d439c-e765-442a-9525-6942c76f5778",
   "metadata": {},
   "outputs": [],
   "source": [
    "lambdas = np.logspace(0, 7, 40)\n",
    "kfolds = KFold(n_splits=2)\n",
    "folds = list(kfolds.split(X_dev, y_dev))\n",
    "pipe_lasso = make_pipeline(PolynomialFeatures(degree=1, include_bias=False),                           \n",
    "                           StandardScaler(),\n",
    "                           Lasso(random_state=1,))"
   ]
  },
  {
   "cell_type": "code",
   "execution_count": 39,
   "id": "a034fe4c-16f8-402f-943a-a2779bddae36",
   "metadata": {},
   "outputs": [
    {
     "name": "stdout",
     "output_type": "stream",
     "text": [
      "lambda\n",
      "2571.913809    9.641667e+11\n",
      "Name: Validation, dtype: float64\n"
     ]
    }
   ],
   "source": [
    "from sklearn.model_selection import validation_curve\n",
    "\n",
    "# FIT AND EVALUATE FOR DIFFERENT LAMBDAS\n",
    "train_scores, test_scores = \\\n",
    "    validation_curve(estimator=pipe_lasso,\n",
    "                     X=X_dev,\n",
    "                     y=y_dev,\n",
    "                     param_name='lasso__alpha', #built-in name of hyperparameter\n",
    "                     param_range=lambdas, #values to consider\n",
    "                     scoring='neg_mean_squared_error',                 \n",
    "                     cv=5)\n",
    "\n",
    "# OBTAIN MSE FOR DIFFERENT LAMBDAS AND PRINT BEST\n",
    "mse_score = pd.DataFrame({'Train':-train_scores.mean(axis=1),\n",
    "                          'Validation':-test_scores.mean(axis=1),\n",
    "                          'lambda':lambdas})\\\n",
    "              .set_index('lambda')   \n",
    "print(mse_score.Validation.nsmallest(1))"
   ]
  },
  {
   "cell_type": "code",
   "execution_count": 41,
   "id": "e73e5423-d033-4749-98c1-112594ac39ab",
   "metadata": {},
   "outputs": [
    {
     "data": {
      "image/png": "[encoded data removed]",
      "text/plain": [
       "<Figure size 1000x600 with 1 Axes>"
      ]
     },
     "metadata": {},
     "output_type": "display_data"
    }
   ],
   "source": [
    "np.sqrt(mse_score).plot(logx=True, figsize=(10,6));"
   ]
  },
  {
   "cell_type": "code",
   "execution_count": null,
   "id": "94dadd88-6ba0-4f7d-8937-bff1498faffd",
   "metadata": {},
   "outputs": [],
   "source": [
    "print(mse_score.Validation.nsmallest(1))"
   ]
  },
  {
   "cell_type": "code",
   "execution_count": 53,
   "id": "a9f3aaea-d92e-49ef-8ea8-2bf54b76cd8c",
   "metadata": {},
   "outputs": [
    {
     "ename": "AttributeError",
     "evalue": "'Pipeline' object has no attribute 'coef_'",
     "output_type": "error",
     "traceback": [
      "\u001b[1;31m---------------------------------------------------------------------------\u001b[0m",
      "\u001b[1;31mAttributeError\u001b[0m                            Traceback (most recent call last)",
      "Cell \u001b[1;32mIn[53], line 15\u001b[0m\n\u001b[0;32m     11\u001b[0m y_test_pred \u001b[38;5;241m=\u001b[39m pipe_lasso\u001b[38;5;241m.\u001b[39mpredict(X_test)\n\u001b[0;32m     13\u001b[0m mean_squared_error \u001b[38;5;241m=\u001b[39m mse(y_test, y_test_pred)\n\u001b[1;32m---> 15\u001b[0m weights \u001b[38;5;241m=\u001b[39m pipe_lasso\u001b[38;5;241m.\u001b[39mcoef_\n\u001b[0;32m     17\u001b[0m \u001b[38;5;28mprint\u001b[39m(np\u001b[38;5;241m.\u001b[39msqrt(mean_squared_error))\n",
      "\u001b[1;31mAttributeError\u001b[0m: 'Pipeline' object has no attribute 'coef_'"
     ]
    }
   ],
   "source": [
    "optimal_alpha = 2571.913809\n",
    "\n",
    "\n",
    "# RETRAIN/RE-ESTIMATE MODEL USING OPTIMAL HYPERPARAMETERS AND COMPARE PERFORMANCE\n",
    "pipe_lasso = make_pipeline(PolynomialFeatures(include_bias=False), \n",
    "                             StandardScaler(),\n",
    "                             Lasso(alpha=optimal_alpha, random_state=1))\n",
    "\n",
    "pipe_lasso.fit(X_train,y_train) #fit optimal lambda to entire development set: likely to improve performance slightly since we use more oberservations\n",
    "\n",
    "y_test_pred = pipe_lasso.predict(X_test)\n",
    "\n",
    "mean_squared_error = mse(y_test, y_test_pred)\n",
    "\n",
    "print(np.sqrt(mean_squared_error))\n",
    "                \n",
    "\n"
   ]
  },
  {
   "cell_type": "code",
   "execution_count": 51,
   "id": "4e370a6c-86b2-4bac-b494-4cdbee1c5b13",
   "metadata": {},
   "outputs": [
    {
     "data": {
      "text/plain": [
       "Overgaden Oven Vandet 22,1415        -76315.215341\n",
       "Frederiksberg Alle 26, 4. tv.,1820   -72715.076650\n",
       "Dronningensvej 29,2000               -69965.616376\n",
       "Strandvejen 92B,7120                 -60703.350918\n",
       "Strandgade 24A, 1.,1401              -56709.538712\n",
       "                                          ...     \n",
       "Rugkrogvej 2,4250                     24151.879006\n",
       "Risumvej 43,8600                      25339.463083\n",
       "Byvej 23,4591                         25828.363712\n",
       "Flytterupgyden 58A,5471               28823.237891\n",
       "Strandgade 44F, st. tv.,1401          31727.288562\n",
       "Name: Price, Length: 6544, dtype: float64"
      ]
     },
     "execution_count": 51,
     "metadata": {},
     "output_type": "execute_result"
    }
   ],
   "source": [
    "np.set_printoptions(suppress=True, precision=3)\n",
    "\n",
    "diff = y_test_pred-y_test \n",
    "\n",
    "diff.sort_values(ascending=True)"
   ]
  },
  {
   "cell_type": "code",
   "execution_count": null,
   "id": "ef079a2d-0e80-4f22-ab95-bf00ee960f02",
   "metadata": {},
   "outputs": [],
   "source": []
  },
  {
   "cell_type": "code",
   "execution_count": null,
   "id": "8ff879e8-e481-4c05-af83-fee6d917d3d8",
   "metadata": {},
   "outputs": [],
   "source": []
  }
 ],
 "metadata": {
  "kernelspec": {
   "display_name": "Python 3 (ipykernel)",
   "language": "python",
   "name": "python3"
  },
  "language_info": {
   "codemirror_mode": {
    "name": "ipython",
    "version": 3
   },
   "file_extension": ".py",
   "mimetype": "text/x-python",
   "name": "python",
   "nbconvert_exporter": "python",
   "pygments_lexer": "ipython3",
   "version": "3.12.4"
  }
 },
 "nbformat": 4,
 "nbformat_minor": 5
}

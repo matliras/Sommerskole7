{
 "cells": [
  {
   "cell_type": "markdown",
   "id": "f6656ffb-7142-4d42-8d76-0e76c615b717",
   "metadata": {},
   "source": [
    "# MACHINE LEARNING OLS"
   ]
  },
  {
   "cell_type": "code",
   "execution_count": null,
   "id": "54cd2384-ca2a-4e83-acd3-4c9c3ff4d462",
   "metadata": {},
   "outputs": [],
   "source": []
  }
 ],
 "metadata": {
  "kernelspec": {
   "display_name": "Python 3 (ipykernel)",
   "language": "python",
   "name": "python3"
  },
  "language_info": {
   "codemirror_mode": {
    "name": "ipython",
    "version": 3
   },
   "file_extension": ".py",
   "mimetype": "text/x-python",
   "name": "python",
   "nbconvert_exporter": "python",
   "pygments_lexer": "ipython3",
   "version": "3.12.4"
  }
 },
 "nbformat": 4,
 "nbformat_minor": 5
}

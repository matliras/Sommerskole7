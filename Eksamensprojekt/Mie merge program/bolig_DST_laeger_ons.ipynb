{
 "cells": [
  {
   "cell_type": "code",
   "execution_count": 2,
   "id": "cc3b2659-9e2a-44a1-8055-ac2863981ad1",
   "metadata": {},
   "outputs": [],
   "source": [
    "from selenium import webdriver\n",
    "import numpy as np\n",
    "from webdriver_manager.chrome import ChromeDriverManager\n",
    "from selenium.webdriver.chrome.service import Service\n",
    "import pandas as pd\n",
    "import requests\n",
    "from bs4 import BeautifulSoup\n",
    "import os\n",
    "from selenium.webdriver.common.keys import Keys\n",
    "from selenium.webdriver.common.by import By\n",
    "import time\n",
    "from selenium.webdriver.support import expected_conditions as EC\n",
    "from selenium.webdriver.support.ui import WebDriverWait\n",
    "from selenium.webdriver.chrome.options import Options\n",
    "import pandas as pd\n",
    "import requests\n",
    "from bs4 import BeautifulSoup\n",
    "import os\n",
    "import re\n",
    "import itertools\n",
    "import csv\n",
    "import json\n",
    "from collections import Counter\n",
    "import jwt\n",
    "import datetime\n",
    "import requests\n",
    "from lxml import html\n",
    "import re\n",
    "import dask.dataframe as dd # pip install dask\n",
    "\n",
    "NaN = np.nan\n",
    "\n",
    "\n",
    "headers = {\n",
    "    'User-Agent': 'Mie Damgaard',\n",
    "    'mail' : 'rks516@alumni.ku.dk'\n",
    "}\n",
    "\n",
    "pd.set_option('display.max_columns', None)\n",
    "pd.set_option('display.max_rows', 10)"
   ]
  },
  {
   "cell_type": "code",
   "execution_count": 26,
   "id": "2e709831-376f-484a-9075-c70daf344d80",
   "metadata": {},
   "outputs": [],
   "source": [
    "DST_df = pd.read_csv('CSV_output/DST.csv')\n",
    "laeger_st_post_df = pd.read_csv('CSV_output/laeger_stationer_post.csv')\n",
    "postnummer_by_df = pd.read_csv('CSV_input/postnumre.csv', encoding='ISO-8859-1', delimiter=';', header=None)\n",
    "boligsiden_10000_df = pd.read_csv('CSV_input/boligsiden_10000.csv')\n",
    "boligsiden_20000_df = pd.read_csv('CSV_input/df_final_1123.csv')"
   ]
  },
  {
   "cell_type": "code",
   "execution_count": 8,
   "id": "3d88916c-5c24-46b5-bbdc-ef56299e470b",
   "metadata": {},
   "outputs": [
    {
     "data": {
      "text/plain": [
       "19851"
      ]
     },
     "execution_count": 8,
     "metadata": {},
     "output_type": "execute_result"
    }
   ],
   "source": []
  },
  {
   "cell_type": "code",
   "execution_count": 10,
   "id": "f63bd405-8daf-4fc9-9c7e-2fef5681686f",
   "metadata": {},
   "outputs": [],
   "source": [
    "postnummer_by_df = pd.read_csv('CSV_input/postnumre.csv', encoding='ISO-8859-1', delimiter=';', header=None)\n",
    "postnummer_by_df = postnummer_by_df.iloc[:, 2]\n",
    "#Split kolonnen til 'Postal code', 'By_fra_DST', 'Kommune_fra_DST'\n",
    "extracted_data = postnummer_by_df.str.extract(r'(\\d+)\\s+(.+)\\s\\((.+)\\)')\n",
    "extracted_data.columns = ['Postal code', 'By_fra_DST', 'Kommune_fra_DST']\n",
    "extracted_data = extracted_data.dropna(how='all')\n",
    "extracted_data['Postal code'] = extracted_data['Postal code'].astype('int32') \n",
    "postnr_by_kommune = extracted_data"
   ]
  },
  {
   "cell_type": "code",
   "execution_count": 12,
   "id": "51f3d5be-e1f7-45ac-9988-b71aa0fc8427",
   "metadata": {},
   "outputs": [
    {
     "name": "stdout",
     "output_type": "stream",
     "text": [
      "19851\n",
      "19851\n"
     ]
    }
   ],
   "source": [
    "# MERGE POSTNUMRE OG BY PÅ DF_10000\n",
    "postnummer_by_boligsiden_df = pd.merge(boligsiden_20000_df, postnr_by_kommune, on='Postal code', how = 'outer') \n",
    "postnummer_by_boligsiden_df = postnummer_by_boligsiden_df.dropna(subset=['Price'])  #Så dropper vi de postnumre, hvor der ikke er noget til salg\n",
    "print(len(postnummer_by_boligsiden_df))\n",
    "print(len(boligsiden_20000_df))"
   ]
  },
  {
   "cell_type": "code",
   "execution_count": 14,
   "id": "b0f60a11-5b02-48ce-8ee2-0ad187e63898",
   "metadata": {},
   "outputs": [
    {
     "name": "stdout",
     "output_type": "stream",
     "text": [
      "19897\n"
     ]
    }
   ],
   "source": [
    "bolig_st_laeger_DST_df = pd.merge(postnummer_by_boligsiden_df, laeger_st_post_df, on = 'Postal code', how = 'outer')\n",
    "#bolig_st_laeger_DST_df = bolig_st_laeger_DST_df.dropna(subset=['Price'])  #Så dropper vi de postnumre, hvor der ikke er noget til salg\n",
    "print(len(bolig_st_laeger_DST_df))"
   ]
  },
  {
   "cell_type": "code",
   "execution_count": 16,
   "id": "795dadeb-ebc1-4ccd-b857-daafaf5f7cf8",
   "metadata": {},
   "outputs": [
    {
     "name": "stdout",
     "output_type": "stream",
     "text": [
      "19930\n"
     ]
    }
   ],
   "source": [
    "bolig_st_laeger_DST_df_2 = pd.merge(bolig_st_laeger_DST_df, DST_df, on = 'By_fra_DST', how = 'outer')\n",
    "#bolig_st_laeger_DST_df_2 = bolig_st_laeger_DST_df_2.dropna(subset=['Price'])\n",
    "print(len(bolig_st_laeger_DST_df_2))"
   ]
  },
  {
   "cell_type": "code",
   "execution_count": 18,
   "id": "856c32eb-34d1-4acb-9f29-52b5a8ce71fb",
   "metadata": {},
   "outputs": [],
   "source": [
    "bolig_laeger_st_DST_df = bolig_st_laeger_DST_df_2"
   ]
  },
  {
   "cell_type": "code",
   "execution_count": 20,
   "id": "1a30cecd-7cad-4e0b-947a-a45a6525baa2",
   "metadata": {},
   "outputs": [],
   "source": [
    "bolig_laeger_st_DST_df = bolig_laeger_st_DST_df.dropna(subset=['Price'])"
   ]
  },
  {
   "cell_type": "code",
   "execution_count": 22,
   "id": "f658fbf8-a166-4488-84ae-b618535a97b6",
   "metadata": {},
   "outputs": [],
   "source": [
    "bolig_laeger_st_DST_df.to_csv('CSV_output/bolig_laeger_st_DST.csv', index=False) "
   ]
  },
  {
   "cell_type": "code",
   "execution_count": 24,
   "id": "076356fb-7497-4b13-9984-685b5cdb005c",
   "metadata": {},
   "outputs": [
    {
     "data": {
      "text/plain": [
       "19851"
      ]
     },
     "execution_count": 24,
     "metadata": {},
     "output_type": "execute_result"
    }
   ],
   "source": [
    "len(bolig_laeger_st_DST_df)"
   ]
  },
  {
   "cell_type": "code",
   "execution_count": null,
   "id": "90ab5090-6278-4704-8544-8e781ec7c61b",
   "metadata": {},
   "outputs": [],
   "source": []
  }
 ],
 "metadata": {
  "kernelspec": {
   "display_name": "Python 3 (ipykernel)",
   "language": "python",
   "name": "python3"
  },
  "language_info": {
   "codemirror_mode": {
    "name": "ipython",
    "version": 3
   },
   "file_extension": ".py",
   "mimetype": "text/x-python",
   "name": "python",
   "nbconvert_exporter": "python",
   "pygments_lexer": "ipython3",
   "version": "3.11.7"
  }
 },
 "nbformat": 4,
 "nbformat_minor": 5
}

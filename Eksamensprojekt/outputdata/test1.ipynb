{
 "cells": [
  {
   "cell_type": "code",
   "execution_count": null,
   "id": "2b299fa2-a680-4aad-8037-e8f81c3ff0f3",
   "metadata": {},
   "outputs": [],
   "source": []
  }
 ],
 "metadata": {
  "kernelspec": {
   "display_name": "Python 3 (ipykernel)",
   "language": "python",
   "name": "python3"
  },
  "language_info": {
   "name": ""
  }
 },
 "nbformat": 4,
 "nbformat_minor": 5
}

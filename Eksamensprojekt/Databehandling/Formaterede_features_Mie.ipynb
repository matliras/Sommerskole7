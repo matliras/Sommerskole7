{
 "cells": [
  {
   "cell_type": "code",
   "execution_count": 222,
   "id": "a8ae1d50-5a04-4e95-906c-4294874ec9a4",
   "metadata": {},
   "outputs": [],
   "source": [
    "from selenium import webdriver\n",
    "import numpy as np\n",
    "from webdriver_manager.chrome import ChromeDriverManager\n",
    "from selenium.webdriver.chrome.service import Service\n",
    "import pandas as pd\n",
    "import requests\n",
    "from bs4 import BeautifulSoup\n",
    "import os\n",
    "from selenium.webdriver.common.keys import Keys\n",
    "from selenium.webdriver.common.by import By\n",
    "import time\n",
    "from selenium.webdriver.support import expected_conditions as EC\n",
    "from selenium.webdriver.support.ui import WebDriverWait\n",
    "from selenium.webdriver.chrome.options import Options\n",
    "import pandas as pd\n",
    "import requests\n",
    "from bs4 import BeautifulSoup\n",
    "import os\n",
    "import re\n",
    "import itertools\n",
    "import csv\n",
    "import json\n",
    "from collections import Counter\n",
    "import \n",
    "\n",
    "pd.set_option('display.max_colwidth', None)\n",
    "\n",
    "headers = {\n",
    "    'User-Agent': 'Mie Damgaard',\n",
    "    'mail' : 'rks516@alumni.ku.dk'\n",
    "}"
   ]
  },
  {
   "cell_type": "code",
   "execution_count": 226,
   "id": "b36040f1-96d9-4e88-b98c-67e07f0876bb",
   "metadata": {},
   "outputs": [
    {
     "data": {
      "text/html": [
       "<div>\n",
       "<style scoped>\n",
       "    .dataframe tbody tr th:only-of-type {\n",
       "        vertical-align: middle;\n",
       "    }\n",
       "\n",
       "    .dataframe tbody tr th {\n",
       "        vertical-align: top;\n",
       "    }\n",
       "\n",
       "    .dataframe thead th {\n",
       "        text-align: right;\n",
       "    }\n",
       "</style>\n",
       "<table border=\"1\" class=\"dataframe\">\n",
       "  <thead>\n",
       "    <tr style=\"text-align: right;\">\n",
       "      <th></th>\n",
       "      <th>Unnamed: 0</th>\n",
       "      <th>Price</th>\n",
       "      <th>Schoolname</th>\n",
       "      <th>Distance to school</th>\n",
       "      <th>School-grades</th>\n",
       "      <th>Trivsel</th>\n",
       "      <th>Boligtype</th>\n",
       "      <th>Energy-classification</th>\n",
       "      <th>Radon</th>\n",
       "      <th>Kommuneskat</th>\n",
       "      <th>...</th>\n",
       "      <th>Ejerudgift</th>\n",
       "      <th>Rooms</th>\n",
       "      <th>Build</th>\n",
       "      <th>Toilets</th>\n",
       "      <th>Postal code</th>\n",
       "      <th>link</th>\n",
       "      <th>Elevator</th>\n",
       "      <th>Altan</th>\n",
       "      <th>Terasse</th>\n",
       "      <th>Toilet</th>\n",
       "    </tr>\n",
       "  </thead>\n",
       "  <tbody>\n",
       "    <tr>\n",
       "      <th>999</th>\n",
       "      <td>Stationsvej 12M,4681</td>\n",
       "      <td>NaN</td>\n",
       "      <td>NaN</td>\n",
       "      <td>NaN</td>\n",
       "      <td>NaN</td>\n",
       "      <td>NaN</td>\n",
       "      <td>NaN</td>\n",
       "      <td>NaN</td>\n",
       "      <td>NaN</td>\n",
       "      <td>NaN</td>\n",
       "      <td>...</td>\n",
       "      <td>fejl</td>\n",
       "      <td>fejl</td>\n",
       "      <td>fejl</td>\n",
       "      <td>NaN</td>\n",
       "      <td>fejl</td>\n",
       "      <td>https://www.boligsiden.dk/addresses/0c65634c-d1d8-30a3-e044-0003ba298018</td>\n",
       "      <td>fejl</td>\n",
       "      <td>fejl</td>\n",
       "      <td>fejl</td>\n",
       "      <td>fejl</td>\n",
       "    </tr>\n",
       "  </tbody>\n",
       "</table>\n",
       "<p>1 rows × 25 columns</p>\n",
       "</div>"
      ],
      "text/plain": [
       "               Unnamed: 0 Price Schoolname Distance to school School-grades  \\\n",
       "999  Stationsvej 12M,4681   NaN        NaN                NaN           NaN   \n",
       "\n",
       "    Trivsel Boligtype Energy-classification Radon Kommuneskat  ... Ejerudgift  \\\n",
       "999     NaN       NaN                   NaN   NaN         NaN  ...       fejl   \n",
       "\n",
       "    Rooms Build Toilets Postal code  \\\n",
       "999  fejl  fejl     NaN        fejl   \n",
       "\n",
       "                                                                         link  \\\n",
       "999  https://www.boligsiden.dk/addresses/0c65634c-d1d8-30a3-e044-0003ba298018   \n",
       "\n",
       "    Elevator Altan Terasse Toilet  \n",
       "999     fejl  fejl    fejl   fejl  \n",
       "\n",
       "[1 rows x 25 columns]"
      ]
     },
     "execution_count": 226,
     "metadata": {},
     "output_type": "execute_result"
    }
   ],
   "source": [
    "df = pd.read_csv('index_0_1000.csv')\n",
    "df_pris_fejl = df[pd.isna(df['Price'])]\n",
    "df_pris_fejl\n",
    "# Drop rows where any column contains the string 'fejl'\n",
    "#df = df[~df.apply(lambda row: row.astype(str).str.contains('fejl').any(), axis=1)]"
   ]
  },
  {
   "cell_type": "code",
   "execution_count": 250,
   "id": "ad633e36-ec67-4fe3-b8dc-1162dcbe6f9b",
   "metadata": {},
   "outputs": [
    {
     "name": "stdout",
     "output_type": "stream",
     "text": [
      "Original length: 1000\n",
      "Cleaned length: 992\n"
     ]
    }
   ],
   "source": [
    "#### CELLE TIL AT FINDE UD AF, HVOR DER ER FEJL. \n",
    "\n",
    "# Load the original dataset\n",
    "df = pd.read_csv('index_0_1000.csv')\n",
    "print(\"Original length:\", len(df))\n",
    "\n",
    "# Identify rows with \"fejl\" in any column\n",
    "rows_with_fejl = df.apply(lambda row: row.astype(str).str.contains('fejl').any(), axis=1)\n",
    "\n",
    "# Identify rows where the 'Price' column is NaN\n",
    "rows_with_nan_price = df['Price'].isna()\n",
    "\n",
    "pd.set_option('display.max_colwidth', None)\n",
    "# Combine both conditions to get the rows that will be dropped\n",
    "dropped_rows = df[rows_with_fejl | rows_with_nan_price]\n",
    "\n",
    "# Drop those rows from the original dataset\n",
    "df_cleaned = df[~(rows_with_fejl | rows_with_nan_price)]\n",
    "\n",
    "# Output the length of the cleaned dataset\n",
    "print(\"Cleaned length:\", len(df_cleaned))\n",
    "\n",
    "# Save the dropped rows as a new dataset\n",
    "dropped_rows.to_csv('dropped_rows.csv', index=False)\n",
    "\n",
    "# Optionally, save the cleaned dataset as well\n",
    "df_cleaned.to_csv('cleaned_dataset.csv', index=False)"
   ]
  },
  {
   "cell_type": "code",
   "execution_count": 252,
   "id": "a6da9359-fd0f-4712-a131-31e7b23fe65c",
   "metadata": {},
   "outputs": [],
   "source": [
    "df_uden_fejl = df.drop(df_pris_fejl.index) #dropper alle hvor price er NaN"
   ]
  },
  {
   "cell_type": "code",
   "execution_count": 254,
   "id": "79e037f3-58f7-4f79-bf34-9b7f07a3b702",
   "metadata": {},
   "outputs": [
    {
     "name": "stdout",
     "output_type": "stream",
     "text": [
      "object\n"
     ]
    }
   ],
   "source": [
    "#Kommuneskat\n",
    "print(df['Kommuneskat'].dtype)\n",
    "df_uden_fejl['Kommuneskat'] = df_uden_fejl['Kommuneskat'].astype(str)\n",
    "df_uden_fejl['Kommuneskat'] = df_uden_fejl['Kommuneskat'].str.replace(',', '.').str.replace('%', '') #komma til punktum og procenttegn væk\n",
    "df_uden_fejl['Kommuneskat'] = df_uden_fejl['Kommuneskat'].astype(float)"
   ]
  },
  {
   "cell_type": "code",
   "execution_count": 382,
   "id": "ce9cb47b-4f06-4c37-9244-ff546fe93b81",
   "metadata": {},
   "outputs": [
    {
     "name": "stdout",
     "output_type": "stream",
     "text": [
      "float64\n"
     ]
    }
   ],
   "source": [
    "print(df_uden_fejl['Ejerudgift'].dtype)\n",
    "df_uden_fejl['Ejerudgift'] = df_uden_fejl['Ejerudgift'].astype(str)\n",
    "df_uden_fejl['Ejerudgift'] = df_uden_fejl['Ejerudgift'].str.replace('Ejerudg.:', '').str.replace('kr/md', '') #komma til punktum og procenttegn væk\n",
    "df_uden_fejl['Ejerudgift'] = df_uden_fejl['Ejerudgift'].astype(float)   #JEG HAR UDSKIFTET FEJL MED MISSING VALUES"
   ]
  },
  {
   "cell_type": "code",
   "execution_count": 290,
   "id": "134e9788-5a22-4171-b7df-79fbba1becc6",
   "metadata": {},
   "outputs": [
    {
     "name": "stdout",
     "output_type": "stream",
     "text": [
      "float64\n"
     ]
    }
   ],
   "source": [
    "print(df_uden_fejl['Grundskyldspromillen'].dtype)\n",
    "df_uden_fejl['Grundskyldspromillen'] = df_uden_fejl['Grundskyldspromillen'].astype(str)\n",
    "df_uden_fejl['Grundskyldspromillen'] = df_uden_fejl['Grundskyldspromillen'].str.replace(',', '.').str.replace('‰', '') #komma til punktum og procenttegn væk\n",
    "df_uden_fejl['Grundskyldspromillen'] = df_uden_fejl['Grundskyldspromillen'].str.rstrip('.')\n",
    "df_uden_fejl['Grundskyldspromillen'] = df_uden_fejl['Grundskyldspromillen'].astype(float)"
   ]
  },
  {
   "cell_type": "code",
   "execution_count": 320,
   "id": "b842e854-291d-4244-8ce8-daca00700343",
   "metadata": {},
   "outputs": [
    {
     "name": "stdout",
     "output_type": "stream",
     "text": [
      "float64\n"
     ]
    }
   ],
   "source": [
    "print(df_uden_fejl['Liggetid'].dtype)\n",
    "df_uden_fejl['Liggetid'] = df_uden_fejl['Liggetid'].astype(str)\n",
    "df_uden_fejl['Liggetid'] = df_uden_fejl['Liggetid'].str.lstrip('Til salg i alt:').str.rstrip('e').str.rstrip('dag')\n",
    "df_uden_fejl['Liggetid'] = df_uden_fejl['Liggetid'].astype(float)"
   ]
  },
  {
   "cell_type": "code",
   "execution_count": 378,
   "id": "755f9a3e-0806-4c71-af13-727f19bd06e1",
   "metadata": {},
   "outputs": [
    {
     "name": "stdout",
     "output_type": "stream",
     "text": [
      "float64\n"
     ]
    }
   ],
   "source": [
    "print(df_uden_fejl['m2'].dtype)\n",
    "df_uden_fejl['m2'] = df_uden_fejl['m2'].astype(str)\n",
    "df_uden_fejl['m2'] = df_uden_fejl['m2'].str.rstrip('m²')\n",
    "df_uden_fejl['m2'] = df_uden_fejl['m2'].astype(float)"
   ]
  },
  {
   "cell_type": "code",
   "execution_count": 368,
   "id": "a7375987-3096-419d-8944-958beac60b3f",
   "metadata": {},
   "outputs": [
    {
     "name": "stdout",
     "output_type": "stream",
     "text": [
      "float64\n"
     ]
    }
   ],
   "source": [
    "#OBS VED MANGLENDE GRUNDSTØRRELSE HAR JEG INDSAT LEJLIGHEDENS AREAL FRA M2\n",
    "print(df_uden_fejl['Grund'].dtype)\n",
    "df_uden_fejl['Grund'] = df_uden_fejl['Grund'].astype(str)\n",
    "df_uden_fejl['Grund'] = df_uden_fejl['Grund'].str.extract(r'(\\d+)').astype(float)\n",
    "df_uden_fejl['Grund'] = df_uden_fejl['Grund'].fillna(df_uden_fejl['m2'])"
   ]
  },
  {
   "cell_type": "code",
   "execution_count": 380,
   "id": "38778fee-3bd0-4a88-8e50-6d9757268a68",
   "metadata": {},
   "outputs": [
    {
     "name": "stdout",
     "output_type": "stream",
     "text": [
      "float64\n"
     ]
    }
   ],
   "source": [
    "print(df_uden_fejl['Rooms'].dtype)\n",
    "df_uden_fejl['Rooms'] = df_uden_fejl['Rooms'].astype(str)\n",
    "df_uden_fejl['Rooms'] = df_uden_fejl['Rooms'].str.rstrip('værelser').astype(float)"
   ]
  },
  {
   "cell_type": "code",
   "execution_count": null,
   "id": "bac4a8da-a995-4ef8-b2bb-6e2225b7f5cc",
   "metadata": {},
   "outputs": [],
   "source": []
  }
 ],
 "metadata": {
  "kernelspec": {
   "display_name": "Python 3 (ipykernel)",
   "language": "python",
   "name": "python3"
  },
  "language_info": {
   "codemirror_mode": {
    "name": "ipython",
    "version": 3
   },
   "file_extension": ".py",
   "mimetype": "text/x-python",
   "name": "python",
   "nbconvert_exporter": "python",
   "pygments_lexer": "ipython3",
   "version": "3.11.7"
  }
 },
 "nbformat": 4,
 "nbformat_minor": 5
}

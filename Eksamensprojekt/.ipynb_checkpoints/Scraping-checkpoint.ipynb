{
 "cells": [
  {
   "cell_type": "code",
   "execution_count": 10,
   "id": "a2909086-7bc0-4f98-98c0-b45d7cce02b7",
   "metadata": {},
   "outputs": [],
   "source": [
    "#SCRAPING ENVOIREMENT"
   ]
  },
  {
   "cell_type": "code",
   "execution_count": 209,
   "id": "2e628849-07f4-49dd-ae68-e08466c744a4",
   "metadata": {},
   "outputs": [],
   "source": [
    "#Importing libaries\n",
    "from selenium import webdriver\n",
    "from webdriver_manager.chrome import ChromeDriverManager\n",
    "from selenium.webdriver.chrome.service import Service\n",
    "import pandas as pd\n",
    "import requests\n",
    "from bs4 import BeautifulSoup\n",
    "import os\n",
    "from selenium.webdriver.common.keys import Keys\n",
    "from selenium.webdriver.common.by import By\n",
    "import time\n",
    "from selenium.webdriver.support import expected_conditions as EC\n",
    "from selenium.webdriver.support.ui import WebDriverWait\n",
    "from selenium.webdriver.chrome.options import Options\n",
    "import pandas as pd\n",
    "import requests\n",
    "from bs4 import BeautifulSoup\n",
    "import os\n",
    "import re\n",
    "import itertools"
   ]
  },
  {
   "cell_type": "code",
   "execution_count": 197,
   "id": "a2cd2b85-bd55-4968-8a0d-4782b31f9ed6",
   "metadata": {},
   "outputs": [
    {
     "data": {
      "text/plain": [
       "['https://www.boligsiden.dk/tilsalg/villa,ejerlejlighed,raekkehus,landejendom?page=2', 'https://www.boligsiden.dk/tilsalg/villa,ejerlejlighed,raekkehus,landejendom?page=3']"
      ]
     },
     "execution_count": 197,
     "metadata": {},
     "output_type": "execute_result"
    }
   ],
   "source": [
    "#Importing page-links\n",
    "list_url = []\n",
    "for page in range(2,4,1):\n",
    "    url = f'https://www.boligsiden.dk/tilsalg/villa,ejerlejlighed,raekkehus,landejendom?page={page}'\n",
    "    list_url.append(url)\n",
    "\n",
    "list_url\n",
    "\n",
    "\n",
    "\n"
   ]
  },
  {
   "cell_type": "code",
   "execution_count": 199,
   "id": "6c06a894-60e0-4873-ac99-4468a6c56477",
   "metadata": {},
   "outputs": [],
   "source": [
    "#Retriving HTMLS\n",
    "list_htmls =[]\n",
    "for url in list_url:\n",
    "    response = requests.get(url, headers={'name': 'Mathias Rasmussen', 'email': 'kbd655@alumni.ku.dk'})\n",
    "    list_htmls.append(response.text)\n",
    "    time.sleep(0.5)\n",
    "\n",
    "\n",
    "    "
   ]
  },
  {
   "cell_type": "code",
   "execution_count": 213,
   "id": "1bf1bca4-b76d-49a5-91de-c2c5c7c7ebe9",
   "metadata": {},
   "outputs": [
    {
     "name": "stdout",
     "output_type": "stream",
     "text": [
      "100\n"
     ]
    }
   ],
   "source": [
    "# Initializing soup\n",
    "links = []\n",
    "for html in list_htmls:\n",
    "    soup = BeautifulSoup(html, 'lxml')\n",
    "    pattern = re.compile(r'href\\\":\\\"(/addresses/[^\\\"]+)')\n",
    "    matches = pattern.findall(str(soup))\n",
    "\n",
    "    apartments_list = list(set(matches))\n",
    "\n",
    "\n",
    "    base_url = \"https://www.boligsiden.dk\"\n",
    "    apartment_links = [base_url + link for link in apartments_list] #This list contains appartments\n",
    "    links.append(apartment_links)\n",
    "\n",
    "flattened_links = list(itertools.chain(*links))\n",
    "print(len(flattened_links))"
   ]
  },
  {
   "cell_type": "code",
   "execution_count": null,
   "id": "420e5746-4044-4212-95ef-bf704aba0310",
   "metadata": {},
   "outputs": [],
   "source": []
  },
  {
   "cell_type": "code",
   "execution_count": null,
   "id": "1a23ffd6-0a45-4c73-8b9f-f3a957078a55",
   "metadata": {},
   "outputs": [],
   "source": []
  },
  {
   "cell_type": "code",
   "execution_count": null,
   "id": "e7607f53-e3f9-484f-86d6-4cfcc66e92f5",
   "metadata": {},
   "outputs": [],
   "source": []
  },
  {
   "cell_type": "code",
   "execution_count": null,
   "id": "305b234f-bcf9-4af5-8b52-93604a885b5e",
   "metadata": {},
   "outputs": [],
   "source": []
  }
 ],
 "metadata": {
  "kernelspec": {
   "display_name": "Python 3 (ipykernel)",
   "language": "python",
   "name": "python3"
  },
  "language_info": {
   "codemirror_mode": {
    "name": "ipython",
    "version": 3
   },
   "file_extension": ".py",
   "mimetype": "text/x-python",
   "name": "python",
   "nbconvert_exporter": "python",
   "pygments_lexer": "ipython3",
   "version": "3.12.4"
  }
 },
 "nbformat": 4,
 "nbformat_minor": 5
}

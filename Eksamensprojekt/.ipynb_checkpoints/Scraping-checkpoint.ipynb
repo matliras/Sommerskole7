{
 "cells": [
  {
   "cell_type": "code",
   "execution_count": 10,
   "id": "a2909086-7bc0-4f98-98c0-b45d7cce02b7",
   "metadata": {},
   "outputs": [],
   "source": [
    "#SCRAPING ENVOIREMENT"
   ]
  },
  {
   "cell_type": "code",
   "execution_count": 3,
   "id": "2e628849-07f4-49dd-ae68-e08466c744a4",
   "metadata": {},
   "outputs": [],
   "source": [
    "#Importing libaries\n",
    "from selenium import webdriver\n",
    "from webdriver_manager.chrome import ChromeDriverManager\n",
    "from selenium.webdriver.chrome.service import Service\n",
    "import pandas as pd\n",
    "import requests\n",
    "from bs4 import BeautifulSoup\n",
    "import os\n",
    "from selenium.webdriver.common.keys import Keys\n",
    "from selenium.webdriver.common.by import By\n",
    "import time\n",
    "from selenium.webdriver.support import expected_conditions as EC\n",
    "from selenium.webdriver.support.ui import WebDriverWait\n",
    "from selenium.webdriver.chrome.options import Options\n",
    "import pandas as pd\n",
    "import requests\n",
    "from bs4 import BeautifulSoup\n",
    "import os\n",
    "import re\n",
    "import itertools\n",
    "import random\n",
    "import threading\n",
    "from concurrent.futures import ThreadPoolExecutor\n",
    "from tqdm import tqdm\n",
    "import csv"
   ]
  },
  {
   "cell_type": "markdown",
   "id": "c0607183-c8ba-463f-a772-cb24bb168734",
   "metadata": {},
   "source": [
    "## De følgende celler skal IKKE køres"
   ]
  },
  {
   "cell_type": "code",
   "execution_count": 447,
   "id": "a2cd2b85-bd55-4968-8a0d-4782b31f9ed6",
   "metadata": {},
   "outputs": [
    {
     "name": "stdout",
     "output_type": "stream",
     "text": [
      "200\n"
     ]
    }
   ],
   "source": [
    "#Importing page-links\n",
    "\"\"\"\n",
    "list_url = []\n",
    "for page in range(1,201,1):\n",
    "    url = f'https://www.boligsiden.dk/tilsalg/villa,ejerlejlighed,raekkehus,landejendom?page={page}'\n",
    "    list_url.append(url)\n",
    "\n",
    "print(len(list_url))\n",
    "\"\"\"\n",
    "\n",
    "\n"
   ]
  },
  {
   "cell_type": "code",
   "execution_count": 449,
   "id": "6c06a894-60e0-4873-ac99-4468a6c56477",
   "metadata": {},
   "outputs": [],
   "source": [
    "#Retriving HTMLS\n",
    "\"\"\"\n",
    "list_htmls =[]\n",
    "for url in list_url:\n",
    "    response = requests.get(url, headers={'name': 'Mathias Rasmussen', 'email': 'kbd655@alumni.ku.dk'})\n",
    "    list_htmls.append(response.text)\n",
    "    time.sleep(0.5)\n",
    "\n",
    "\"\"\"\n",
    "    "
   ]
  },
  {
   "cell_type": "code",
   "execution_count": 451,
   "id": "1bf1bca4-b76d-49a5-91de-c2c5c7c7ebe9",
   "metadata": {},
   "outputs": [
    {
     "name": "stdout",
     "output_type": "stream",
     "text": [
      "9996\n"
     ]
    }
   ],
   "source": [
    "# Finding links on appartments\n",
    "\"\"\"\n",
    "links = []\n",
    "for html in list_htmls:\n",
    "    soup = BeautifulSoup(html, 'lxml')\n",
    "    pattern = re.compile(r'href\\\":\\\"(/addresses/[^\\\"]+)')\n",
    "    matches = pattern.findall(str(soup))\n",
    "\n",
    "    apartments_list = list(set(matches))\n",
    "\n",
    "\n",
    "    base_url = \"https://www.boligsiden.dk\"\n",
    "    apartment_links = [base_url + link for link in apartments_list] #This list contains appartments\n",
    "    links.append(apartment_links)\n",
    "\n",
    "flattened_links = list(itertools.chain(*links))\n",
    "print(len(flattened_links)) #Counting number of links\n",
    "\"\"\""
   ]
  },
  {
   "cell_type": "code",
   "execution_count": 453,
   "id": "7a1fbde1-75b9-44fe-8d4e-cb87b50aec55",
   "metadata": {},
   "outputs": [],
   "source": [
    "#Saving list of links to be scrapped\n",
    "\"\"\"\n",
    "with open('rawdata/links.csv', 'w', newline='') as file:\n",
    "    writer = csv.writer(file)\n",
    "    for link in flattened_links:\n",
    "        writer.writerow([link])\n",
    "\"\"\"\n"
   ]
  },
  {
   "cell_type": "markdown",
   "id": "5763414c-2a21-49ec-82fb-593fd578ab3d",
   "metadata": {},
   "source": [
    "# HER STARTER SCRAPING PROCESSEN"
   ]
  },
  {
   "cell_type": "code",
   "execution_count": 6,
   "id": "7c4cab90-94d1-4fd8-ad75-d2095d7358b1",
   "metadata": {},
   "outputs": [
    {
     "name": "stdout",
     "output_type": "stream",
     "text": [
      "9996\n"
     ]
    }
   ],
   "source": [
    "#Importing relevant list of links:\n",
    "flattened_links = []\n",
    "\n",
    "with open('rawdata/links.csv', 'r') as file:\n",
    "    reader = csv.reader(file)\n",
    "    for row in reader:\n",
    "        flattened_links.append(row[0])  # Assuming each link is in the first column\n",
    "\n",
    "print(len(flattened_links))"
   ]
  },
  {
   "cell_type": "code",
   "execution_count": 8,
   "id": "0ef28757-8a25-44e3-a722-e69b0b979dab",
   "metadata": {},
   "outputs": [],
   "source": [
    "op = webdriver.ChromeOptions()\n",
    "op.add_argument('headless')\n",
    "driver = webdriver.Chrome(options=op)"
   ]
  },
  {
   "cell_type": "code",
   "execution_count": 26,
   "id": "4f93de4d-7496-4201-8374-636ee53e06cf",
   "metadata": {},
   "outputs": [
    {
     "name": "stderr",
     "output_type": "stream",
     "text": [
      "  0%|          | 5/1000 [00:40<1:15:11,  4.53s/it]"
     ]
    },
    {
     "name": "stdout",
     "output_type": "stream",
     "text": [
      "Error occurred for link: https://www.boligsiden.dk/addresses/0a3f50b9-b72e-32b8-e044-0003ba298018 - list index out of range\n"
     ]
    },
    {
     "name": "stderr",
     "output_type": "stream",
     "text": [
      "  3%|▎         | 30/1000 [03:30<1:41:20,  6.27s/it]"
     ]
    },
    {
     "name": "stdout",
     "output_type": "stream",
     "text": [
      "Error occurred for link: https://www.boligsiden.dk/addresses/0a3f50a5-cea3-32b8-e044-0003ba298018 - list index out of range\n"
     ]
    },
    {
     "name": "stderr",
     "output_type": "stream",
     "text": [
      "  5%|▍         | 47/1000 [05:19<2:12:47,  8.36s/it]"
     ]
    },
    {
     "name": "stdout",
     "output_type": "stream",
     "text": [
      "Error occurred for link: https://www.boligsiden.dk/addresses/0a3f50aa-06a3-32b8-e044-0003ba298018 - list index out of range\n"
     ]
    },
    {
     "name": "stderr",
     "output_type": "stream",
     "text": [
      "  5%|▌         | 51/1000 [05:40<1:48:09,  6.84s/it]"
     ]
    },
    {
     "name": "stdout",
     "output_type": "stream",
     "text": [
      "Error occurred for link: https://www.boligsiden.dk/addresses/0a3f50ba-714d-32b8-e044-0003ba298018 - list index out of range\n"
     ]
    },
    {
     "name": "stderr",
     "output_type": "stream",
     "text": [
      "  7%|▋         | 72/1000 [07:53<1:44:12,  6.74s/it]"
     ]
    },
    {
     "name": "stdout",
     "output_type": "stream",
     "text": [
      "Error occurred for link: https://www.boligsiden.dk/addresses/0a3f50c9-4f92-32b8-e044-0003ba298018 - list index out of range\n"
     ]
    },
    {
     "name": "stderr",
     "output_type": "stream",
     "text": [
      "  7%|▋         | 74/1000 [07:56<1:07:13,  4.36s/it]"
     ]
    },
    {
     "name": "stdout",
     "output_type": "stream",
     "text": [
      "Error occurred for link: https://www.boligsiden.dk/addresses/0a3f50a4-403a-32b8-e044-0003ba298018 - list index out of range\n",
      "Error occurred for link: https://www.boligsiden.dk/addresses/0a3f509e-11f9-32b8-e044-0003ba298018 - list index out of range\n"
     ]
    },
    {
     "name": "stderr",
     "output_type": "stream",
     "text": [
      "  8%|▊         | 77/1000 [08:28<1:58:59,  7.74s/it]"
     ]
    },
    {
     "name": "stdout",
     "output_type": "stream",
     "text": [
      "Error occurred for link: https://www.boligsiden.dk/addresses/0a3f50c4-f91b-32b8-e044-0003ba298018 - list index out of range\n"
     ]
    },
    {
     "name": "stderr",
     "output_type": "stream",
     "text": [
      "  9%|▉         | 91/1000 [09:47<1:15:25,  4.98s/it]"
     ]
    },
    {
     "name": "stdout",
     "output_type": "stream",
     "text": [
      "Error occurred for link: https://www.boligsiden.dk/addresses/0a3f50a8-efb1-32b8-e044-0003ba298018 - list index out of range\n"
     ]
    },
    {
     "name": "stderr",
     "output_type": "stream",
     "text": [
      " 10%|█         | 100/1000 [10:40<1:04:40,  4.31s/it]"
     ]
    },
    {
     "name": "stdout",
     "output_type": "stream",
     "text": [
      "Error occurred for link: https://www.boligsiden.dk/addresses/0a3f50ba-d34b-32b8-e044-0003ba298018 - list index out of range\n"
     ]
    },
    {
     "name": "stderr",
     "output_type": "stream",
     "text": [
      " 12%|█▏        | 115/1000 [12:19<1:25:09,  5.77s/it]"
     ]
    },
    {
     "name": "stdout",
     "output_type": "stream",
     "text": [
      "Error occurred for link: https://www.boligsiden.dk/addresses/0a3f509f-053a-32b8-e044-0003ba298018 - list index out of range\n"
     ]
    },
    {
     "name": "stderr",
     "output_type": "stream",
     "text": [
      " 16%|█▌        | 160/1000 [16:44<39:03,  2.79s/it]  "
     ]
    },
    {
     "name": "stdout",
     "output_type": "stream",
     "text": [
      "Error occurred for link: https://www.boligsiden.dk/addresses/0a3f50bd-f96e-32b8-e044-0003ba298018 - list index out of range\n"
     ]
    },
    {
     "name": "stderr",
     "output_type": "stream",
     "text": [
      " 16%|█▋        | 163/1000 [17:00<52:28,  3.76s/it]  "
     ]
    },
    {
     "name": "stdout",
     "output_type": "stream",
     "text": [
      "Error occurred for link: https://www.boligsiden.dk/addresses/19910d90-143d-41c9-e044-0003ba298018 - list index out of range\n",
      "Error occurred for link: https://www.boligsiden.dk/addresses/363cc2db-6e57-1eb8-e044-0003ba298018 - list index out of range\n"
     ]
    },
    {
     "name": "stderr",
     "output_type": "stream",
     "text": [
      " 18%|█▊        | 176/1000 [18:08<1:31:59,  6.70s/it]"
     ]
    },
    {
     "name": "stdout",
     "output_type": "stream",
     "text": [
      "Error occurred for link: https://www.boligsiden.dk/addresses/0a3f50b8-07f6-32b8-e044-0003ba298018 - list index out of range\n"
     ]
    },
    {
     "name": "stderr",
     "output_type": "stream",
     "text": [
      " 19%|█▊        | 187/1000 [18:23<37:51,  2.79s/it]  "
     ]
    },
    {
     "name": "stdout",
     "output_type": "stream",
     "text": [
      "Error occurred for link: https://www.boligsiden.dk/addresses/0a3f50b3-c1bf-32b8-e044-0003ba298018 - list index out of range\n"
     ]
    },
    {
     "name": "stderr",
     "output_type": "stream",
     "text": [
      " 21%|██        | 206/1000 [19:46<1:57:35,  8.89s/it]"
     ]
    },
    {
     "name": "stdout",
     "output_type": "stream",
     "text": [
      "Error occurred for link: https://www.boligsiden.dk/addresses/0a3f50b2-1117-32b8-e044-0003ba298018 - list index out of range\n"
     ]
    },
    {
     "name": "stderr",
     "output_type": "stream",
     "text": [
      " 26%|██▌       | 258/1000 [22:34<45:39,  3.69s/it]  "
     ]
    },
    {
     "name": "stdout",
     "output_type": "stream",
     "text": [
      "Error occurred for link: https://www.boligsiden.dk/addresses/0a3f50b8-8bc4-32b8-e044-0003ba298018 - list index out of range\n"
     ]
    },
    {
     "name": "stderr",
     "output_type": "stream",
     "text": [
      " 27%|██▋       | 269/1000 [23:06<33:36,  2.76s/it]"
     ]
    },
    {
     "name": "stdout",
     "output_type": "stream",
     "text": [
      "Error occurred for link: https://www.boligsiden.dk/addresses/0a3f50c2-1356-32b8-e044-0003ba298018 - list index out of range\n"
     ]
    },
    {
     "name": "stderr",
     "output_type": "stream",
     "text": [
      " 29%|██▉       | 294/1000 [24:33<38:40,  3.29s/it]  "
     ]
    },
    {
     "name": "stdout",
     "output_type": "stream",
     "text": [
      "Error occurred for link: https://www.boligsiden.dk/addresses/a7354f5f-56ee-4d65-8ca4-a73e13fbc5f6 - list index out of range\n"
     ]
    },
    {
     "name": "stderr",
     "output_type": "stream",
     "text": [
      " 30%|███       | 302/1000 [25:02<51:29,  4.43s/it]"
     ]
    },
    {
     "name": "stdout",
     "output_type": "stream",
     "text": [
      "Error occurred for link: https://www.boligsiden.dk/addresses/0a3f50b5-32c2-32b8-e044-0003ba298018 - list index out of range\n"
     ]
    },
    {
     "name": "stderr",
     "output_type": "stream",
     "text": [
      " 31%|███       | 310/1000 [25:24<28:56,  2.52s/it]  "
     ]
    },
    {
     "name": "stdout",
     "output_type": "stream",
     "text": [
      "Error occurred for link: https://www.boligsiden.dk/addresses/0a3f50c1-209f-32b8-e044-0003ba298018 - list index out of range\n",
      "Error occurred for link: https://www.boligsiden.dk/addresses/0a3f50c0-b660-32b8-e044-0003ba298018 - list index out of range\n"
     ]
    },
    {
     "name": "stderr",
     "output_type": "stream",
     "text": [
      " 34%|███▍      | 344/1000 [27:33<42:28,  3.88s/it]  "
     ]
    },
    {
     "name": "stdout",
     "output_type": "stream",
     "text": [
      "Error occurred for link: https://www.boligsiden.dk/addresses/0a3f50b1-ff40-32b8-e044-0003ba298018 - list index out of range\n"
     ]
    },
    {
     "name": "stderr",
     "output_type": "stream",
     "text": [
      " 35%|███▍      | 346/1000 [27:37<30:08,  2.77s/it]"
     ]
    },
    {
     "name": "stdout",
     "output_type": "stream",
     "text": [
      "Error occurred for link: https://www.boligsiden.dk/addresses/0a3f50c2-cb5d-32b8-e044-0003ba298018 - list index out of range\n"
     ]
    },
    {
     "name": "stderr",
     "output_type": "stream",
     "text": [
      " 35%|███▍      | 349/1000 [27:50<39:56,  3.68s/it]"
     ]
    },
    {
     "name": "stdout",
     "output_type": "stream",
     "text": [
      "Error occurred for link: https://www.boligsiden.dk/addresses/0a3f50a2-9cc9-32b8-e044-0003ba298018 - list index out of range\n"
     ]
    },
    {
     "name": "stderr",
     "output_type": "stream",
     "text": [
      " 36%|███▌      | 358/1000 [28:21<34:49,  3.25s/it]"
     ]
    },
    {
     "name": "stdout",
     "output_type": "stream",
     "text": [
      "Error occurred for link: https://www.boligsiden.dk/addresses/0a3f50af-25f9-32b8-e044-0003ba298018 - list index out of range\n"
     ]
    },
    {
     "name": "stderr",
     "output_type": "stream",
     "text": [
      " 36%|███▌      | 360/1000 [28:28<35:11,  3.30s/it]"
     ]
    },
    {
     "name": "stdout",
     "output_type": "stream",
     "text": [
      "Error occurred for link: https://www.boligsiden.dk/addresses/0a3f50ba-f05e-32b8-e044-0003ba298018 - list index out of range\n"
     ]
    },
    {
     "name": "stderr",
     "output_type": "stream",
     "text": [
      " 37%|███▋      | 372/1000 [29:11<42:30,  4.06s/it]"
     ]
    },
    {
     "name": "stdout",
     "output_type": "stream",
     "text": [
      "Error occurred for link: https://www.boligsiden.dk/addresses/0a3f50c6-f08f-32b8-e044-0003ba298018 - list index out of range\n"
     ]
    },
    {
     "name": "stderr",
     "output_type": "stream",
     "text": [
      " 38%|███▊      | 381/1000 [29:44<40:42,  3.95s/it]  "
     ]
    },
    {
     "name": "stdout",
     "output_type": "stream",
     "text": [
      "Error occurred for link: https://www.boligsiden.dk/addresses/0a3f509e-76a5-32b8-e044-0003ba298018 - list index out of range\n"
     ]
    },
    {
     "name": "stderr",
     "output_type": "stream",
     "text": [
      " 40%|████      | 403/1000 [31:03<37:05,  3.73s/it]  "
     ]
    },
    {
     "name": "stdout",
     "output_type": "stream",
     "text": [
      "Error occurred for link: https://www.boligsiden.dk/addresses/a32b0119-9194-4334-9f34-e77a4e82683a - list index out of range\n"
     ]
    },
    {
     "name": "stderr",
     "output_type": "stream",
     "text": [
      " 43%|████▎     | 433/1000 [32:49<26:36,  2.81s/it]  "
     ]
    },
    {
     "name": "stdout",
     "output_type": "stream",
     "text": [
      "Error occurred for link: https://www.boligsiden.dk/addresses/0a3f50b3-2a1e-32b8-e044-0003ba298018 - list index out of range\n"
     ]
    },
    {
     "name": "stderr",
     "output_type": "stream",
     "text": [
      " 44%|████▎     | 435/1000 [33:01<38:14,  4.06s/it]"
     ]
    },
    {
     "name": "stdout",
     "output_type": "stream",
     "text": [
      "Error occurred for link: https://www.boligsiden.dk/addresses/0a3f50c8-fc4c-32b8-e044-0003ba298018 - list index out of range\n"
     ]
    },
    {
     "name": "stderr",
     "output_type": "stream",
     "text": [
      " 44%|████▍     | 438/1000 [33:14<43:53,  4.69s/it]"
     ]
    },
    {
     "name": "stdout",
     "output_type": "stream",
     "text": [
      "Error occurred for link: https://www.boligsiden.dk/addresses/0a3f509e-bb53-32b8-e044-0003ba298018 - list index out of range\n"
     ]
    },
    {
     "name": "stderr",
     "output_type": "stream",
     "text": [
      " 45%|████▍     | 446/1000 [33:36<21:02,  2.28s/it]"
     ]
    },
    {
     "name": "stdout",
     "output_type": "stream",
     "text": [
      "Error occurred for link: https://www.boligsiden.dk/addresses/0a3f50b5-97e9-32b8-e044-0003ba298018 - list index out of range\n",
      "Error occurred for link: https://www.boligsiden.dk/addresses/0a3f50b7-d8d6-32b8-e044-0003ba298018 - list index out of range\n"
     ]
    },
    {
     "name": "stderr",
     "output_type": "stream",
     "text": [
      " 47%|████▋     | 469/1000 [35:09<24:58,  2.82s/it]  "
     ]
    },
    {
     "name": "stdout",
     "output_type": "stream",
     "text": [
      "Error occurred for link: https://www.boligsiden.dk/addresses/3cb0a0c6-32c2-0e4a-e044-0003ba298018 - list index out of range\n"
     ]
    },
    {
     "name": "stderr",
     "output_type": "stream",
     "text": [
      " 47%|████▋     | 470/1000 [35:36<1:14:36,  8.45s/it]"
     ]
    },
    {
     "name": "stdout",
     "output_type": "stream",
     "text": [
      "Error occurred for link: https://www.boligsiden.dk/addresses/0a3f50b6-0ee5-32b8-e044-0003ba298018 - list index out of range\n"
     ]
    },
    {
     "name": "stderr",
     "output_type": "stream",
     "text": [
      " 49%|████▉     | 491/1000 [36:33<22:32,  2.66s/it]  "
     ]
    },
    {
     "name": "stdout",
     "output_type": "stream",
     "text": [
      "Error occurred for link: https://www.boligsiden.dk/addresses/0a3f50ba-8468-32b8-e044-0003ba298018 - list index out of range\n"
     ]
    },
    {
     "name": "stderr",
     "output_type": "stream",
     "text": [
      " 51%|█████     | 507/1000 [37:38<26:49,  3.27s/it]  "
     ]
    },
    {
     "name": "stdout",
     "output_type": "stream",
     "text": [
      "Error occurred for link: https://www.boligsiden.dk/addresses/0a3f50b3-f9d6-32b8-e044-0003ba298018 - list index out of range\n"
     ]
    },
    {
     "name": "stderr",
     "output_type": "stream",
     "text": [
      " 52%|█████▏    | 517/1000 [38:21<26:55,  3.34s/it]  "
     ]
    },
    {
     "name": "stdout",
     "output_type": "stream",
     "text": [
      "Error occurred for link: https://www.boligsiden.dk/addresses/0a3f50c3-aebf-32b8-e044-0003ba298018 - list index out of range\n",
      "Error occurred for link: https://www.boligsiden.dk/addresses/0a3f50c7-92f6-32b8-e044-0003ba298018 - list index out of range\n"
     ]
    },
    {
     "name": "stderr",
     "output_type": "stream",
     "text": [
      " 52%|█████▏    | 520/1000 [38:31<28:38,  3.58s/it]"
     ]
    },
    {
     "name": "stdout",
     "output_type": "stream",
     "text": [
      "Error occurred for link: https://www.boligsiden.dk/addresses/0a3f50c1-d05f-32b8-e044-0003ba298018 - list index out of range\n"
     ]
    },
    {
     "name": "stderr",
     "output_type": "stream",
     "text": [
      " 53%|█████▎    | 526/1000 [38:56<34:09,  4.32s/it]"
     ]
    },
    {
     "name": "stdout",
     "output_type": "stream",
     "text": [
      "Error occurred for link: https://www.boligsiden.dk/addresses/0a3f50c1-06a3-32b8-e044-0003ba298018 - list index out of range\n"
     ]
    },
    {
     "name": "stderr",
     "output_type": "stream",
     "text": [
      " 55%|█████▍    | 545/1000 [40:10<38:41,  5.10s/it]"
     ]
    },
    {
     "name": "stdout",
     "output_type": "stream",
     "text": [
      "Error occurred for link: https://www.boligsiden.dk/addresses/0a3f50b1-5b8a-32b8-e044-0003ba298018 - list index out of range\n"
     ]
    },
    {
     "name": "stderr",
     "output_type": "stream",
     "text": [
      " 55%|█████▍    | 549/1000 [40:18<21:40,  2.88s/it]"
     ]
    },
    {
     "name": "stdout",
     "output_type": "stream",
     "text": [
      "Error occurred for link: https://www.boligsiden.dk/addresses/0a3f509e-e010-32b8-e044-0003ba298018 - list index out of range\n"
     ]
    },
    {
     "name": "stderr",
     "output_type": "stream",
     "text": [
      " 55%|█████▌    | 550/1000 [40:48<1:11:10,  9.49s/it]"
     ]
    },
    {
     "name": "stdout",
     "output_type": "stream",
     "text": [
      "Error occurred for link: https://www.boligsiden.dk/addresses/0a3f50a9-453e-32b8-e044-0003ba298018 - list index out of range\n"
     ]
    },
    {
     "name": "stderr",
     "output_type": "stream",
     "text": [
      " 55%|█████▌    | 554/1000 [41:01<43:00,  5.79s/it]  "
     ]
    },
    {
     "name": "stdout",
     "output_type": "stream",
     "text": [
      "Error occurred for link: https://www.boligsiden.dk/addresses/0a3f50a5-e503-32b8-e044-0003ba298018 - list index out of range\n"
     ]
    },
    {
     "name": "stderr",
     "output_type": "stream",
     "text": [
      " 56%|█████▌    | 558/1000 [41:05<26:54,  3.65s/it]"
     ]
    },
    {
     "name": "stdout",
     "output_type": "stream",
     "text": [
      "Error occurred for link: https://www.boligsiden.dk/addresses/0a3f50c0-88c4-32b8-e044-0003ba298018 - list index out of range\n"
     ]
    },
    {
     "name": "stderr",
     "output_type": "stream",
     "text": [
      " 57%|█████▋    | 574/1000 [42:07<31:50,  4.48s/it]"
     ]
    },
    {
     "name": "stdout",
     "output_type": "stream",
     "text": [
      "Error occurred for link: https://www.boligsiden.dk/addresses/0a3f50ae-c87e-32b8-e044-0003ba298018 - list index out of range\n"
     ]
    },
    {
     "name": "stderr",
     "output_type": "stream",
     "text": [
      " 58%|█████▊    | 579/1000 [42:23<26:08,  3.73s/it]"
     ]
    },
    {
     "name": "stdout",
     "output_type": "stream",
     "text": [
      "Error occurred for link: https://www.boligsiden.dk/addresses/0a3f50c2-e220-32b8-e044-0003ba298018 - list index out of range\n"
     ]
    },
    {
     "name": "stderr",
     "output_type": "stream",
     "text": [
      " 59%|█████▉    | 592/1000 [43:21<28:50,  4.24s/it]  "
     ]
    },
    {
     "name": "stdout",
     "output_type": "stream",
     "text": [
      "Error occurred for link: https://www.boligsiden.dk/addresses/0a3f50ca-5c62-32b8-e044-0003ba298018 - list index out of range\n"
     ]
    },
    {
     "name": "stderr",
     "output_type": "stream",
     "text": [
      " 62%|██████▎   | 625/1000 [45:23<19:15,  3.08s/it]  "
     ]
    },
    {
     "name": "stdout",
     "output_type": "stream",
     "text": [
      "Error occurred for link: https://www.boligsiden.dk/addresses/0a3f50a9-a089-32b8-e044-0003ba298018 - list index out of range\n"
     ]
    },
    {
     "name": "stderr",
     "output_type": "stream",
     "text": [
      " 63%|██████▎   | 633/1000 [45:55<17:33,  2.87s/it]"
     ]
    },
    {
     "name": "stdout",
     "output_type": "stream",
     "text": [
      "Error occurred for link: https://www.boligsiden.dk/addresses/0a3f50be-0565-32b8-e044-0003ba298018 - list index out of range\n"
     ]
    },
    {
     "name": "stderr",
     "output_type": "stream",
     "text": [
      " 65%|██████▍   | 646/1000 [46:54<32:11,  5.46s/it]"
     ]
    },
    {
     "name": "stdout",
     "output_type": "stream",
     "text": [
      "Error occurred for link: https://www.boligsiden.dk/addresses/5c085eed-fce0-06b9-e044-0003ba298018 - list index out of range\n"
     ]
    },
    {
     "name": "stderr",
     "output_type": "stream",
     "text": [
      " 67%|██████▋   | 667/1000 [48:09<18:02,  3.25s/it]"
     ]
    },
    {
     "name": "stdout",
     "output_type": "stream",
     "text": [
      "Error occurred for link: https://www.boligsiden.dk/addresses/0a3f50c0-7d63-32b8-e044-0003ba298018 - list index out of range\n"
     ]
    },
    {
     "name": "stderr",
     "output_type": "stream",
     "text": [
      " 67%|██████▋   | 674/1000 [48:33<14:57,  2.75s/it]"
     ]
    },
    {
     "name": "stdout",
     "output_type": "stream",
     "text": [
      "Error occurred for link: https://www.boligsiden.dk/addresses/0a3f50bc-ef09-32b8-e044-0003ba298018 - list index out of range\n",
      "Error occurred for link: https://www.boligsiden.dk/addresses/0a3f50b6-c0de-32b8-e044-0003ba298018 - list index out of range\n"
     ]
    },
    {
     "name": "stderr",
     "output_type": "stream",
     "text": [
      " 68%|██████▊   | 678/1000 [48:56<27:21,  5.10s/it]"
     ]
    },
    {
     "name": "stdout",
     "output_type": "stream",
     "text": [
      "Error occurred for link: https://www.boligsiden.dk/addresses/17b61265-edf6-4025-8d3a-f0c925fb6536 - list index out of range\n"
     ]
    },
    {
     "name": "stderr",
     "output_type": "stream",
     "text": [
      " 68%|██████▊   | 684/1000 [49:33<44:48,  8.51s/it]"
     ]
    },
    {
     "name": "stdout",
     "output_type": "stream",
     "text": [
      "Error occurred for link: https://www.boligsiden.dk/addresses/0a3f50c1-f0f8-32b8-e044-0003ba298018 - list index out of range\n"
     ]
    },
    {
     "name": "stderr",
     "output_type": "stream",
     "text": [
      " 70%|███████   | 700/1000 [50:17<22:29,  4.50s/it]"
     ]
    },
    {
     "name": "stdout",
     "output_type": "stream",
     "text": [
      "Error occurred for link: https://www.boligsiden.dk/addresses/0a3f50c1-158f-32b8-e044-0003ba298018 - list index out of range\n"
     ]
    },
    {
     "name": "stderr",
     "output_type": "stream",
     "text": [
      " 70%|███████   | 701/1000 [50:33<36:33,  7.34s/it]"
     ]
    },
    {
     "name": "stdout",
     "output_type": "stream",
     "text": [
      "Error occurred for link: https://www.boligsiden.dk/addresses/f69ad306-16bf-4d09-9b18-b584014528cd - list index out of range\n"
     ]
    },
    {
     "name": "stderr",
     "output_type": "stream",
     "text": [
      " 70%|███████   | 705/1000 [50:35<16:22,  3.33s/it]"
     ]
    },
    {
     "name": "stdout",
     "output_type": "stream",
     "text": [
      "Error occurred for link: https://www.boligsiden.dk/addresses/0a3f50c5-d1e3-32b8-e044-0003ba298018 - list index out of range\n"
     ]
    },
    {
     "name": "stderr",
     "output_type": "stream",
     "text": [
      " 71%|███████   | 709/1000 [50:58<23:38,  4.88s/it]"
     ]
    },
    {
     "name": "stdout",
     "output_type": "stream",
     "text": [
      "Error occurred for link: https://www.boligsiden.dk/addresses/0a3f50a6-4512-32b8-e044-0003ba298018 - list index out of range\n"
     ]
    },
    {
     "name": "stderr",
     "output_type": "stream",
     "text": [
      " 72%|███████▏  | 718/1000 [51:23<12:14,  2.60s/it]"
     ]
    },
    {
     "name": "stdout",
     "output_type": "stream",
     "text": [
      "Error occurred for link: https://www.boligsiden.dk/addresses/0a3f50c9-ec2b-32b8-e044-0003ba298018 - list index out of range\n"
     ]
    },
    {
     "name": "stderr",
     "output_type": "stream",
     "text": [
      " 72%|███████▏  | 723/1000 [51:46<14:45,  3.20s/it]"
     ]
    },
    {
     "name": "stdout",
     "output_type": "stream",
     "text": [
      "Error occurred for link: https://www.boligsiden.dk/addresses/0a3f50a9-955c-32b8-e044-0003ba298018 - list index out of range\n",
      "Error occurred for link: https://www.boligsiden.dk/addresses/0a3f50ad-857b-32b8-e044-0003ba298018 - list index out of range\n"
     ]
    },
    {
     "name": "stderr",
     "output_type": "stream",
     "text": [
      " 78%|███████▊  | 783/1000 [55:50<18:26,  5.10s/it]"
     ]
    },
    {
     "name": "stdout",
     "output_type": "stream",
     "text": [
      "Error occurred for link: https://www.boligsiden.dk/addresses/39ff92cd-eee1-0991-e044-0003ba298018 - list index out of range\n",
      "Error occurred for link: https://www.boligsiden.dk/addresses/0a3f50c3-3a24-32b8-e044-0003ba298018 - list index out of range\n"
     ]
    },
    {
     "name": "stderr",
     "output_type": "stream",
     "text": [
      " 80%|████████  | 804/1000 [57:14<13:56,  4.27s/it]"
     ]
    },
    {
     "name": "stdout",
     "output_type": "stream",
     "text": [
      "Error occurred for link: https://www.boligsiden.dk/addresses/0a3f50af-50d1-32b8-e044-0003ba298018 - list index out of range\n"
     ]
    },
    {
     "name": "stderr",
     "output_type": "stream",
     "text": [
      " 81%|████████  | 810/1000 [57:33<11:11,  3.53s/it]"
     ]
    },
    {
     "name": "stdout",
     "output_type": "stream",
     "text": [
      "Error occurred for link: https://www.boligsiden.dk/addresses/0a3f50c5-78d8-32b8-e044-0003ba298018 - list index out of range\n"
     ]
    },
    {
     "name": "stderr",
     "output_type": "stream",
     "text": [
      " 82%|████████▏ | 817/1000 [58:02<12:34,  4.12s/it]"
     ]
    },
    {
     "name": "stdout",
     "output_type": "stream",
     "text": [
      "Error occurred for link: https://www.boligsiden.dk/addresses/0a3f50ca-7733-32b8-e044-0003ba298018 - list index out of range\n"
     ]
    },
    {
     "name": "stderr",
     "output_type": "stream",
     "text": [
      " 83%|████████▎ | 826/1000 [58:38<11:07,  3.84s/it]"
     ]
    },
    {
     "name": "stdout",
     "output_type": "stream",
     "text": [
      "Error occurred for link: https://www.boligsiden.dk/addresses/0a3f50c8-747d-32b8-e044-0003ba298018 - list index out of range\n"
     ]
    },
    {
     "name": "stderr",
     "output_type": "stream",
     "text": [
      " 84%|████████▎ | 836/1000 [59:19<11:40,  4.27s/it]"
     ]
    },
    {
     "name": "stdout",
     "output_type": "stream",
     "text": [
      "Error occurred for link: https://www.boligsiden.dk/addresses/0a3f50c8-4ace-32b8-e044-0003ba298018 - list index out of range\n"
     ]
    },
    {
     "name": "stderr",
     "output_type": "stream",
     "text": [
      " 84%|████████▍ | 842/1000 [59:39<08:48,  3.35s/it]"
     ]
    },
    {
     "name": "stdout",
     "output_type": "stream",
     "text": [
      "Error occurred for link: https://www.boligsiden.dk/addresses/0a3f50ac-428d-32b8-e044-0003ba298018 - list index out of range\n"
     ]
    },
    {
     "name": "stderr",
     "output_type": "stream",
     "text": [
      " 84%|████████▍ | 844/1000 [59:47<08:52,  3.41s/it]"
     ]
    },
    {
     "name": "stdout",
     "output_type": "stream",
     "text": [
      "Error occurred for link: https://www.boligsiden.dk/addresses/0a3f50c2-2d67-32b8-e044-0003ba298018 - list index out of range\n"
     ]
    },
    {
     "name": "stderr",
     "output_type": "stream",
     "text": [
      " 86%|████████▋ | 865/1000 [1:01:05<05:56,  2.64s/it]"
     ]
    },
    {
     "name": "stdout",
     "output_type": "stream",
     "text": [
      "Error occurred for link: https://www.boligsiden.dk/addresses/0a3f50a5-faa3-32b8-e044-0003ba298018 - list index out of range\n"
     ]
    },
    {
     "name": "stderr",
     "output_type": "stream",
     "text": [
      " 87%|████████▋ | 866/1000 [1:01:19<11:59,  5.37s/it]"
     ]
    },
    {
     "name": "stdout",
     "output_type": "stream",
     "text": [
      "Error occurred for link: https://www.boligsiden.dk/addresses/0a3f50c1-9354-32b8-e044-0003ba298018 - list index out of range\n"
     ]
    },
    {
     "name": "stderr",
     "output_type": "stream",
     "text": [
      " 87%|████████▋ | 869/1000 [1:01:26<08:18,  3.80s/it]"
     ]
    },
    {
     "name": "stdout",
     "output_type": "stream",
     "text": [
      "Error occurred for link: https://www.boligsiden.dk/addresses/0a3f50c4-d28d-32b8-e044-0003ba298018 - list index out of range\n"
     ]
    },
    {
     "name": "stderr",
     "output_type": "stream",
     "text": [
      " 87%|████████▋ | 873/1000 [1:01:41<06:46,  3.20s/it]"
     ]
    },
    {
     "name": "stdout",
     "output_type": "stream",
     "text": [
      "Error occurred for link: https://www.boligsiden.dk/addresses/680770ad-8a90-4329-b294-ced8f3c37d13 - list index out of range\n",
      "Error occurred for link: https://www.boligsiden.dk/addresses/0a3f50ab-1ea2-32b8-e044-0003ba298018 - list index out of range\n",
      "Error occurred for link: https://www.boligsiden.dk/addresses/0a3f50b5-6f87-32b8-e044-0003ba298018 - list index out of range\n"
     ]
    },
    {
     "name": "stderr",
     "output_type": "stream",
     "text": [
      " 88%|████████▊ | 884/1000 [1:02:24<06:16,  3.25s/it]"
     ]
    },
    {
     "name": "stdout",
     "output_type": "stream",
     "text": [
      "Error occurred for link: https://www.boligsiden.dk/addresses/0a3f509f-6dd2-32b8-e044-0003ba298018 - list index out of range\n"
     ]
    },
    {
     "name": "stderr",
     "output_type": "stream",
     "text": [
      " 89%|████████▉ | 892/1000 [1:02:57<06:25,  3.57s/it]"
     ]
    },
    {
     "name": "stdout",
     "output_type": "stream",
     "text": [
      "Error occurred for link: https://www.boligsiden.dk/addresses/0a3f50c3-d8da-32b8-e044-0003ba298018 - list index out of range\n"
     ]
    },
    {
     "name": "stderr",
     "output_type": "stream",
     "text": [
      " 93%|█████████▎| 926/1000 [1:05:21<04:49,  3.91s/it]"
     ]
    },
    {
     "name": "stdout",
     "output_type": "stream",
     "text": [
      "Error occurred for link: https://www.boligsiden.dk/addresses/0a3f50ab-bc8d-32b8-e044-0003ba298018 - list index out of range\n"
     ]
    },
    {
     "name": "stderr",
     "output_type": "stream",
     "text": [
      " 95%|█████████▌| 953/1000 [1:07:28<05:56,  7.58s/it]"
     ]
    },
    {
     "name": "stdout",
     "output_type": "stream",
     "text": [
      "Error occurred for link: https://www.boligsiden.dk/addresses/0a3f50b0-b705-32b8-e044-0003ba298018 - list index out of range\n"
     ]
    },
    {
     "name": "stderr",
     "output_type": "stream",
     "text": [
      " 98%|█████████▊| 975/1000 [1:08:32<01:19,  3.20s/it]"
     ]
    },
    {
     "name": "stdout",
     "output_type": "stream",
     "text": [
      "Error occurred for link: https://www.boligsiden.dk/addresses/0a3f50b1-5bf2-32b8-e044-0003ba298018 - list index out of range\n"
     ]
    },
    {
     "name": "stderr",
     "output_type": "stream",
     "text": [
      " 98%|█████████▊| 982/1000 [1:09:01<01:04,  3.58s/it]"
     ]
    },
    {
     "name": "stdout",
     "output_type": "stream",
     "text": [
      "Error occurred for link: https://www.boligsiden.dk/addresses/0a3f50c7-fd9c-32b8-e044-0003ba298018 - list index out of range\n",
      "Error occurred for link: https://www.boligsiden.dk/addresses/0a3f50b5-7b1e-32b8-e044-0003ba298018 - list index out of range\n"
     ]
    },
    {
     "name": "stderr",
     "output_type": "stream",
     "text": [
      " 99%|█████████▉| 993/1000 [1:09:41<00:18,  2.60s/it]"
     ]
    },
    {
     "name": "stdout",
     "output_type": "stream",
     "text": [
      "Error occurred for link: https://www.boligsiden.dk/addresses/0a3f50c9-edc3-32b8-e044-0003ba298018 - list index out of range\n"
     ]
    },
    {
     "name": "stderr",
     "output_type": "stream",
     "text": [
      "100%|█████████▉| 997/1000 [1:10:03<00:12,  4.13s/it]"
     ]
    },
    {
     "name": "stdout",
     "output_type": "stream",
     "text": [
      "Error occurred for link: https://www.boligsiden.dk/addresses/0a3f509d-6468-32b8-e044-0003ba298018 - list index out of range\n"
     ]
    },
    {
     "name": "stderr",
     "output_type": "stream",
     "text": [
      "100%|██████████| 1000/1000 [1:10:07<00:00,  4.21s/it]\n"
     ]
    }
   ],
   "source": [
    "#Carefull! Runs with X-links at a time\n",
    "#NANNAS VERSION\n",
    "dict = {}\n",
    "links_med_fejl = []\n",
    "\n",
    "def fetch_data(link):\n",
    "    driver = webdriver.Chrome(options=op)\n",
    "    try:\n",
    "        driver.get(link)\n",
    "        soup = BeautifulSoup(driver.page_source, 'html.parser')\n",
    "        time.sleep(random.uniform(2, 3))  # Reducing sleep time slightly\n",
    "        area_size = soup.find_all('span', class_='text-gray-800 whitespace-nowrap cursor-pointer border-b border-gray-400 pb-0.5 border-dotted text-sm')\n",
    "        other = soup.find_all('span', class_=\"text-gray-800 whitespace-nowrap border-dotted text-sm\")\n",
    "        address = soup.find_all('div', class_='font-bold text-sm md:text-base')\n",
    "        pstnr = soup.find_all('div', class_=\"mt-1 text-xs md:text-sm text-gray-600\")\n",
    "        pstnr_ny = re.findall(r'\\d+', pstnr[0].get_text())  # Searching for numbers in postal-code string.\n",
    "        try:\n",
    "            total_address = address[0].get_text() + ',' + pstnr_ny[0]\n",
    "        except:\n",
    "            print('adresseproblem')\n",
    "        #Nannas kode:\n",
    "        try:    \n",
    "            price = soup.find('h2', class_='text-2xl xl:text-3xl text-blue-900 font-bold').get_text()\n",
    "        except:\n",
    "            price = \"fejl\"\n",
    "            \n",
    "        #Finder label hvor afstand er under\n",
    "        \"\"\"\n",
    "        try:\n",
    "            school = soup.find('div', string='Afstand').find_next_sibling('div').get_text()\n",
    "        except:\n",
    "            school = \"fejl\"\n",
    "        #Karakter\n",
    "        try:\n",
    "            grades = soup.find('div', string='Karaktergennemsnit').find_next_sibling('div').find_next_sibling('div').get_text()\n",
    "        except:\n",
    "            grades = \"fejl\"\n",
    "        #Trivsel\n",
    "        try:\n",
    "            trivsel = soup.find('div', string='Trivsel').find_next_sibling('div').find_next_sibling('div').get_text()\n",
    "        except:\n",
    "            trivsel = \"fejl\"\n",
    "        \"\"\"\n",
    "        try:\n",
    "            boligtype = soup.find('span', class_='text-black text-sm pr-2').get_text()\n",
    "        except:\n",
    "            boligtype = \"fejl\"\n",
    "        #energi = soup.find('svg', id='Lag_1').find('title')\n",
    "        try:\n",
    "            energi = soup.find('title', string=re.compile('Energimærke')).get_text()\n",
    "        except:\n",
    "            energi = \"fejl\"\n",
    "        try:\n",
    "            radon = soup.find('div', class_='h-7 text-sm font-bold').get_text()\n",
    "        except:\n",
    "            radon = \"fejl\"\n",
    "    \n",
    "        #kommune_info og liggetid med text behandling\n",
    "        try:\n",
    "            kommune_info = soup.find('div', class_='sec_municipality_info')\n",
    "            if kommune_info:\n",
    "                kommune_text = kommune_info.get_text()\n",
    "        \n",
    "                if 'Kommuneskatten er på ' in kommune_text:\n",
    "                    kommuneskat = kommune_text.split('Kommuneskatten er på ')[1].split(' ')[0]\n",
    "                else:\n",
    "                    kommuneskat = \"fejl\"\n",
    "        \n",
    "                if 'grundskyldspromillen på ' in kommune_text:\n",
    "                    grundskyldspromillen = kommune_text.split('grundskyldspromillen på ')[1].split(' ')[0]\n",
    "                else:\n",
    "                    grundskyldspromillen = \"fejl\"\n",
    "        except:\n",
    "            kommuneskat = \"fejl\"\n",
    "            grundskyldspromillen = \"fejl\"\n",
    "            \n",
    "            \n",
    "        \n",
    "        try:\n",
    "            liggetid = soup.find('div', class_='pb-0.5 border-dashed border-b border-gray-300 cursor-pointer text-sm text-gray-800')\n",
    "            if liggetid:\n",
    "                liggetid_text = liggetid.get_text(separator=\" \", strip=True).replace(' :', ':')\n",
    "        except:\n",
    "            liggetid_text = \"fejl\"\n",
    "\n",
    "        #################   NY KODE med skoler    ########################\n",
    "        #Skolenavn\n",
    "        #Skolenavn\n",
    "        try:\n",
    "            school_name_1 = soup.find('div', class_='text-sm font-bold text-blue-900').get_text()\n",
    "        except:\n",
    "            school_name_1 = \"fejl\"\n",
    "        try:\n",
    "            school_name_2 = soup.find('div', class_='text-sm font-bold text-blue-900').find_next('div', class_='text-sm font-bold text-blue-900').get_text()\n",
    "        except:\n",
    "            school_name_2 = \"fejl\"\n",
    "        try:\n",
    "            school_name_3 = soup.find('div', class_='text-sm font-bold text-blue-900').find_next('div', class_='text-sm font-bold text-blue-900').find_next('div', class_='text-sm font-bold text-blue-900').get_text()\n",
    "        except:\n",
    "            school_name_3 = \"fejl\"\n",
    "\n",
    "        #Afstand \n",
    "        try:\n",
    "            school_1 = soup.find('div', string='Afstand').find_next_sibling('div').get_text()\n",
    "        except:\n",
    "            school_1 = \"fejl\"\n",
    "        try:\n",
    "            school_2 = soup.find('div', string='Afstand').find_next('div', string='Afstand').find_next_sibling('div').get_text()\n",
    "        except:\n",
    "            school_2 = \"fejl\"\n",
    "        try:\n",
    "            school_3 = soup.find('div', string='Afstand').find_next('div', string='Afstand').find_next('div', string='Afstand').find_next_sibling('div').get_text()\n",
    "        except:\n",
    "            school_3 = \"fejl\"\n",
    "\n",
    "        #Karakterer\n",
    "        try:\n",
    "            grades_1 = soup.find('div', string='Karaktergennemsnit').find_next_sibling('div').find_next_sibling('div').get_text()\n",
    "        except:\n",
    "            grades_1 = \"fejl\"\n",
    "        try:\n",
    "            grades_2 = soup.find('div', string='Karaktergennemsnit').find_next('div', string='Karaktergennemsnit').find_next_sibling('div').find_next_sibling('div').get_text()\n",
    "        except:\n",
    "            grades_2 = \"fejl\"\n",
    "        try:\n",
    "            grades_3 = soup.find('div', string='Karaktergennemsnit').find_next('div', string='Karaktergennemsnit').find_next('div', string='Karaktergennemsnit').find_next_sibling('div').find_next_sibling('div').get_text()\n",
    "        except:\n",
    "            grades_3 = \"fejl\"\n",
    "\n",
    "        #Trivsel\n",
    "        try:\n",
    "            trivsel_1 = soup.find('div', string='Trivsel').find_next_sibling('div').find_next_sibling('div').get_text()\n",
    "        except: \n",
    "            trivsel_1 = \"fejl\"\n",
    "        try:\n",
    "            trivsel_2 = soup.find('div', string='Trivsel').find_next('div', string='Trivsel').find_next_sibling('div').find_next_sibling('div').get_text()\n",
    "        except:\n",
    "            trivsel_2 = \"fejl\"\n",
    "        try:\n",
    "            trivsel_3 = soup.find('div', string='Trivsel').find_next('div', string='Trivsel').find_next('div', string='Trivsel').find_next_sibling('div').find_next_sibling('div').get_text()\n",
    "        except:\n",
    "            trivsel_3 = \"fejl\"\n",
    "\n",
    "        #ENDELIGE \n",
    "        \n",
    "        if grades_1 not in [\"fejl\", \"Ikke oplyst\"]:\n",
    "            school_name=school_name_1\n",
    "            school = school_1\n",
    "            grades = grades_1\n",
    "            trivsel = trivsel_1\n",
    "        elif grades_2 not in [\"fejl\", \"Ikke oplyst\"]:\n",
    "            school_name=school_name_2\n",
    "            school = school_2\n",
    "            grades = grades_2\n",
    "            trivsel = trivsel_2\n",
    "        elif grades_3 not in [\"fejl\", \"Ikke oplyst\"]:\n",
    "            school_name=school_name_3\n",
    "            school = school_3\n",
    "            grades = grades_3\n",
    "            trivsel = trivsel_3\n",
    "        else:\n",
    "            school_name=school_name_1\n",
    "            school = school_1 # Fallback to school_1 if all are \"fejl\" or \"Ikke oplyst\"\n",
    "            grades = grades_1\n",
    "            trivsel = trivsel_1\n",
    "\n",
    "\n",
    "\n",
    "        \n",
    "        try:\n",
    "            if len(area_size) > 2:  # Bolig\n",
    "                dict[total_address] = {'Price': price, 'Schoolname': school_name, 'Distance to school': school, 'School-grades': grades, 'Trivsel': trivsel, 'Boligtype': boligtype, 'Energy-classification': energi, 'Radon': radon, 'Kommuneskat': kommuneskat, 'Grundskyldspromillen': grundskyldspromillen, 'Kommune tekst': kommune_text, 'Liggetid': liggetid_text, 'm2': area_size[0].get_text(), 'Grund': area_size[1].get_text(), 'Ejerudgift': area_size[2].get_text(),\n",
    "                                       'Rooms': other[0].get_text(), 'Build': other[1].get_text(), 'Toilets': other[2].get_text(), 'Postal code': pstnr_ny[0], 'link': link}\n",
    "            else:  # Lejlighed\n",
    "                dict[total_address] = {'Price': price, 'Schoolname': school_name, 'Distance to school': school, 'School-grades': grades, 'Trivsel': trivsel, 'Boligtype': boligtype, 'Energy-classification': energi, 'Radon': radon, 'Kommuneskat': kommuneskat, 'Grundskyldspromillen': grundskyldspromillen, 'Kommune tekst': kommune_text, 'Liggetid': liggetid_text, 'm2': area_size[0].get_text(), 'Ejerudgift': area_size[1].get_text(), 'Elevator': other[0].get_text(),\n",
    "                                       'Rooms': other[1].get_text(), 'Build': other[2].get_text(), 'Toilets': other[3].get_text(),\n",
    "                                       'Altan': other[4].get_text(), 'Terasse': other[5].get_text(), 'Postal code': pstnr_ny[0], 'link': link}\n",
    "        except:\n",
    "            dict[total_address] = {'m2': 'fejl', 'Ejerudgift': 'fejl', 'Elevator': 'fejl', 'Rooms': 'fejl', 'Build': 'fejl', 'Toilet': 'fejl', 'Altan': 'fejl', 'Terasse': 'fejl', 'Postal code': 'fejl', 'link': link}\n",
    "    except Exception as e:\n",
    "        print(f'Error occurred for link: {link} - {e}')\n",
    "        links_med_fejl.append(link)\n",
    "\n",
    "# Using ThreadPoolExecutor to handle multiple requests concurrently\n",
    "with ThreadPoolExecutor(max_workers=5) as executor:\n",
    "    list(tqdm(executor.map(fetch_data, flattened_links[:1000]), total=len(flattened_links[:1000])))\n"
   ]
  },
  {
   "cell_type": "code",
   "execution_count": 2,
   "id": "6cb2c708-694c-429b-b1e1-0f58cc7372ec",
   "metadata": {},
   "outputs": [
    {
     "ename": "NameError",
     "evalue": "name 'ThreadPoolExecutor' is not defined",
     "output_type": "error",
     "traceback": [
      "\u001b[0;31m---------------------------------------------------------------------------\u001b[0m",
      "\u001b[0;31mNameError\u001b[0m                                 Traceback (most recent call last)",
      "Cell \u001b[0;32mIn[2], line 102\u001b[0m\n\u001b[1;32m     99\u001b[0m         links_med_fejl\u001b[38;5;241m.\u001b[39mappend(link)\n\u001b[1;32m    101\u001b[0m \u001b[38;5;66;03m# Using ThreadPoolExecutor to handle multiple requests concurrently\u001b[39;00m\n\u001b[0;32m--> 102\u001b[0m \u001b[38;5;28;01mwith\u001b[39;00m ThreadPoolExecutor(max_workers\u001b[38;5;241m=\u001b[39m\u001b[38;5;241m5\u001b[39m) \u001b[38;5;28;01mas\u001b[39;00m executor:\n\u001b[1;32m    103\u001b[0m     \u001b[38;5;28mlist\u001b[39m(tqdm(executor\u001b[38;5;241m.\u001b[39mmap(fetch_data, flattened_links[\u001b[38;5;241m0\u001b[39m:\u001b[38;5;241m50\u001b[39m]), total\u001b[38;5;241m=\u001b[39m\u001b[38;5;28mlen\u001b[39m(flattened_links)))\n",
      "\u001b[0;31mNameError\u001b[0m: name 'ThreadPoolExecutor' is not defined"
     ]
    }
   ],
   "source": [
    "#Sikkerhedskopi\n",
    "\"\"\"\n",
    "#Carefull! Runs with X-links at a time\n",
    "dict = {}\n",
    "links_med_fejl = []\n",
    "\n",
    "def fetch_data(link):\n",
    "    #service = Service(ChromeDriverManager().install())\n",
    "    #driver = webdriver.Chrome(service=service)\n",
    "    driver = webdriver.Chrome(options=op)\n",
    "    try:\n",
    "        driver.get(link)\n",
    "        soup = BeautifulSoup(driver.page_source, 'html.parser')\n",
    "        time.sleep(random.uniform(2, 3))  # Reducing sleep time slightly\n",
    "        area_size = soup.find_all('span', class_='text-gray-800 whitespace-nowrap cursor-pointer border-b border-gray-400 pb-0.5 border-dotted text-sm')\n",
    "        other = soup.find_all('span', class_=\"text-gray-800 whitespace-nowrap border-dotted text-sm\")\n",
    "        address = soup.find_all('div', class_='font-bold text-sm md:text-base')\n",
    "        pstnr = soup.find_all('div', class_=\"mt-1 text-xs md:text-sm text-gray-600\")\n",
    "        pstnr_ny = re.findall(r'\\d+', pstnr[0].get_text())  # Searching for numbers in postal-code string.\n",
    "        try:\n",
    "            total_address = address[0].get_text() + ',' + pstnr_ny[0]\n",
    "        except:\n",
    "            print('adresseproblem')\n",
    "        \n",
    "        #Nannas kode:\n",
    "        try:    \n",
    "            price = soup.find('h2', class_='text-2xl xl:text-3xl text-blue-900 font-bold').get_text()\n",
    "        except:\n",
    "            price = \"fejl\"\n",
    "        #Finder label hvor afstand er under\n",
    "        try:\n",
    "            school = soup.find('div', string='Afstand').find_next_sibling('div').get_text()\n",
    "        except:\n",
    "            school = \"fejl\"\n",
    "        #Karakter\n",
    "        try:\n",
    "            grades = soup.find('div', string='Karaktergennemsnit').find_next_sibling('div').find_next_sibling('div').get_text()\n",
    "        except:\n",
    "            grades = \"fejl\"\n",
    "        #Trivsel\n",
    "        try:\n",
    "            trivsel = soup.find('div', string='Trivsel').find_next_sibling('div').find_next_sibling('div').get_text()\n",
    "        except:\n",
    "            trivsel = \"fejl\"\n",
    "        try:\n",
    "            boligtype = soup.find('span', class_='text-black text-sm pr-2').get_text()\n",
    "        except:\n",
    "            boligtype = \"fejl\"\n",
    "        #energi = soup.find('svg', id='Lag_1').find('title')\n",
    "        try:\n",
    "            energi = soup.find('title', string=re.compile('Energimærke')).get_text()\n",
    "        except:\n",
    "            energi = \"fejl\"\n",
    "        try:\n",
    "            radon = soup.find('div', class_='h-7 text-sm font-bold').get_text()\n",
    "        except:\n",
    "            radon = \"fejl\"\n",
    "    \n",
    "        #kommune_info og liggetid med text behandling\n",
    "        try:\n",
    "            kommune_info = soup.find('div', class_='sec_municipality_info')\n",
    "            if kommune_info:\n",
    "                kommune_text = kommune_info.get_text()\n",
    "        \n",
    "                if 'Kommuneskatten er på ' in kommune_text:\n",
    "                    kommuneskat = kommune_text.split('Kommuneskatten er på ')[1].split(' ')[0]\n",
    "                else:\n",
    "                    kommuneskat = \"fejl\"\n",
    "        \n",
    "                if 'grundskyldspromillen på ' in kommune_text:\n",
    "                    grundskyldspromillen = kommune_text.split('grundskyldspromillen på ')[1].split(' ')[0]\n",
    "                else:\n",
    "                    grundskyldspromillen = \"fejl\"\n",
    "        except:\n",
    "            kommuneskat = \"fejl\"\n",
    "            grundskyldspromillen = \"fejl\"\n",
    "            \n",
    "            \n",
    "        \n",
    "        try:\n",
    "            liggetid = soup.find('div', class_='pb-0.5 border-dashed border-b border-gray-300 cursor-pointer text-sm text-gray-800')\n",
    "            if liggetid:\n",
    "                liggetid_text = liggetid.get_text(separator=\" \", strip=True).replace(' :', ':')\n",
    "        except:\n",
    "            liggetid_text = \"fejl\"\n",
    "\n",
    "\n",
    "        \n",
    "        try:\n",
    "            if len(area_size) > 2:  # Bolig\n",
    "                dict[total_address] = {'Price': price, 'Distance to school': school, 'School-grades': grades, 'Trivsel': trivsel, 'Boligtype': boligtype, 'Energy-classification': energi, 'Radon': radon, 'Kommuneskat': kommuneskat, 'Grundskyldspromillen': grundskyldspromillen, 'Liggetid': liggetid_text, 'Kommune_tekst': kommune_text, 'm2': area_size[0].get_text(), 'Grund': area_size[1].get_text(), 'Ejerudgift': area_size[2].get_text(),\n",
    "                                       'Rooms': other[0].get_text(), 'Build': other[1].get_text(), 'Toilets': other[2].get_text(), 'Postal code': pstnr_ny[0], 'link': link}\n",
    "            else:  # Lejlighed\n",
    "                dict[total_address] = {'Price': price, 'Distance to school': school, 'School-grades': grades, 'Trivsel': trivsel, 'Boligtype': boligtype, 'Energy-classification': energi, 'Radon': radon, 'Kommuneskat': kommuneskat, 'Grundskyldspromillen': grundskyldspromillen, 'Liggetid': liggetid_text, 'Kommune_tekst': kommune_text, 'm2': area_size[0].get_text(), 'Ejerudgift': area_size[1].get_text(), 'Elevator': other[0].get_text(),\n",
    "                                       'Rooms': other[1].get_text(), 'Build': other[2].get_text(), 'Toilets': other[3].get_text(),\n",
    "                                       'Altan': other[4].get_text(), 'Terasse': other[5].get_text(), 'Postal code': pstnr_ny[0], 'link': link}\n",
    "        except:\n",
    "            dict[total_address] = {'m2': 'fejl', 'Ejerudgift': 'fejl', 'Elevator': 'fejl', 'Rooms': 'fejl', 'Build': 'fejl', 'Toilet': 'fejl', 'Altan': 'fejl', 'Terasse': 'fejl', 'Postal code': 'fejl', 'link': link}\n",
    "    except Exception as e:\n",
    "        print(f'Error occurred for link: {link} - {e}')\n",
    "        links_med_fejl.append(link)\n",
    "\n",
    "# Using ThreadPoolExecutor to handle multiple requests concurrently\n",
    "with ThreadPoolExecutor(max_workers=5) as executor:\n",
    "    list(tqdm(executor.map(fetch_data, flattened_links[0:50]), total=len(flattened_links)))\n",
    "\"\"\""
   ]
  },
  {
   "cell_type": "code",
   "execution_count": 28,
   "id": "b97681fb-94c7-4e4c-b01f-30d984ca60c8",
   "metadata": {},
   "outputs": [
    {
     "name": "stderr",
     "output_type": "stream",
     "text": [
      "100%|██████████| 91/91 [19:55<00:00, 13.14s/it]\n"
     ]
    }
   ],
   "source": [
    "#Denne celle henter data på alle links med fejl fra ovenstående celle! Kør derfor efter ovenstående.\n",
    "def fetch_data(link):\n",
    "    driver = webdriver.Chrome(options=op)\n",
    "    try:\n",
    "        driver.get(link)\n",
    "        soup = BeautifulSoup(driver.page_source, 'html.parser')\n",
    "        time.sleep(random.uniform(2, 3))  # Reducing sleep time slightly\n",
    "        area_size = soup.find_all('span', class_='text-gray-800 whitespace-nowrap cursor-pointer border-b border-gray-400 pb-0.5 border-dotted text-sm')\n",
    "        other = soup.find_all('span', class_=\"text-gray-800 whitespace-nowrap border-dotted text-sm\")\n",
    "        address = soup.find_all('div', class_='font-bold text-sm md:text-base')\n",
    "        pstnr = soup.find_all('div', class_=\"mt-1 text-xs md:text-sm text-gray-600\")\n",
    "        pstnr_ny = re.findall(r'\\d+', pstnr[0].get_text())  # Searching for numbers in postal-code string.\n",
    "        try:\n",
    "            total_address = address[0].get_text() + ',' + pstnr_ny[0]\n",
    "        except:\n",
    "            print('adresseproblem')\n",
    "        #Nannas kode:\n",
    "        try:    \n",
    "            price = soup.find('h2', class_='text-2xl xl:text-3xl text-blue-900 font-bold').get_text()\n",
    "        except:\n",
    "            price = \"fejl\"\n",
    "    \n",
    "        try:\n",
    "            boligtype = soup.find('span', class_='text-black text-sm pr-2').get_text()\n",
    "        except:\n",
    "            boligtype = \"fejl\"\n",
    "        #energi = soup.find('svg', id='Lag_1').find('title')\n",
    "        try:\n",
    "            energi = soup.find('title', string=re.compile('Energimærke')).get_text()\n",
    "        except:\n",
    "            energi = \"fejl\"\n",
    "        try:\n",
    "            radon = soup.find('div', class_='h-7 text-sm font-bold').get_text()\n",
    "        except:\n",
    "            radon = \"fejl\"\n",
    "    \n",
    "        #kommune_info og liggetid med text behandling\n",
    "        try:\n",
    "            kommune_info = soup.find('div', class_='sec_municipality_info')\n",
    "            if kommune_info:\n",
    "                kommune_text = kommune_info.get_text()\n",
    "        \n",
    "                if 'Kommuneskatten er på ' in kommune_text:\n",
    "                    kommuneskat = kommune_text.split('Kommuneskatten er på ')[1].split(' ')[0]\n",
    "                else:\n",
    "                    kommuneskat = \"fejl\"\n",
    "        \n",
    "                if 'grundskyldspromillen på ' in kommune_text:\n",
    "                    grundskyldspromillen = kommune_text.split('grundskyldspromillen på ')[1].split(' ')[0]\n",
    "                else:\n",
    "                    grundskyldspromillen = \"fejl\"\n",
    "        except:\n",
    "            kommuneskat = \"fejl\"\n",
    "            grundskyldspromillen = \"fejl\"\n",
    "            \n",
    "            \n",
    "        \n",
    "        try:\n",
    "            liggetid = soup.find('div', class_='pb-0.5 border-dashed border-b border-gray-300 cursor-pointer text-sm text-gray-800')\n",
    "            if liggetid:\n",
    "                liggetid_text = liggetid.get_text(separator=\" \", strip=True).replace(' :', ':')\n",
    "        except:\n",
    "            liggetid_text = \"fejl\"\n",
    "\n",
    "        \n",
    "        #################   NY KODE med skoler    ########################\n",
    "        #Skolenavn\n",
    "        try:\n",
    "            school_name_1 = soup.find('div', class_='text-sm font-bold text-blue-900').get_text()\n",
    "        except:\n",
    "            school_name_1 = \"fejl\"\n",
    "        try:\n",
    "            school_name_2 = soup.find('div', class_='text-sm font-bold text-blue-900').find_next('div', class_='text-sm font-bold text-blue-900').get_text()\n",
    "        except:\n",
    "            school_name_2 = \"fejl\"\n",
    "        try:\n",
    "            school_name_3 = soup.find('div', class_='text-sm font-bold text-blue-900').find_next('div', class_='text-sm font-bold text-blue-900').find_next('div', class_='text-sm font-bold text-blue-900').get_text()\n",
    "        except:\n",
    "            school_name_3 = \"fejl\"\n",
    "\n",
    "        #Afstand \n",
    "        try:\n",
    "            school_1 = soup.find('div', string='Afstand').find_next_sibling('div').get_text()\n",
    "        except:\n",
    "            school_1 = \"fejl\"\n",
    "        try:\n",
    "            school_2 = soup.find('div', string='Afstand').find_next('div', string='Afstand').find_next_sibling('div').get_text()\n",
    "        except:\n",
    "            school_2 = \"fejl\"\n",
    "        try:\n",
    "            school_3 = soup.find('div', string='Afstand').find_next('div', string='Afstand').find_next('div', string='Afstand').find_next_sibling('div').get_text()\n",
    "        except:\n",
    "            school_3 = \"fejl\"\n",
    "\n",
    "        #Karakterer\n",
    "        try:\n",
    "            grades_1 = soup.find('div', string='Karaktergennemsnit').find_next_sibling('div').find_next_sibling('div').get_text()\n",
    "        except:\n",
    "            grades_1 = \"fejl\"\n",
    "        try:\n",
    "            grades_2 = soup.find('div', string='Karaktergennemsnit').find_next('div', string='Karaktergennemsnit').find_next_sibling('div').find_next_sibling('div').get_text()\n",
    "        except:\n",
    "            grades_2 = \"fejl\"\n",
    "        try:\n",
    "            grades_3 = soup.find('div', string='Karaktergennemsnit').find_next('div', string='Karaktergennemsnit').find_next('div', string='Karaktergennemsnit').find_next_sibling('div').find_next_sibling('div').get_text()\n",
    "        except:\n",
    "            grades_3 = \"fejl\"\n",
    "\n",
    "        #Trivsel\n",
    "        try:\n",
    "            trivsel_1 = soup.find('div', string='Trivsel').find_next_sibling('div').find_next_sibling('div').get_text()\n",
    "        except: \n",
    "            trivsel_1 = \"fejl\"\n",
    "        try:\n",
    "            trivsel_2 = soup.find('div', string='Trivsel').find_next('div', string='Trivsel').find_next_sibling('div').find_next_sibling('div').get_text()\n",
    "        except:\n",
    "            trivsel_2 = \"fejl\"\n",
    "        try:\n",
    "            trivsel_3 = soup.find('div', string='Trivsel').find_next('div', string='Trivsel').find_next('div', string='Trivsel').find_next_sibling('div').find_next_sibling('div').get_text()\n",
    "        except:\n",
    "            trivsel_3 = \"fejl\"\n",
    "\n",
    "        #ENDELIGE \n",
    "        \n",
    "        if grades_1 not in [\"fejl\", \"Ikke oplyst\"]:\n",
    "            school_name=school_name_1\n",
    "            school = school_1\n",
    "            grades = grades_1\n",
    "            trivsel = trivsel_1\n",
    "        elif grades_2 not in [\"fejl\", \"Ikke oplyst\"]:\n",
    "            school_name=school_name_2\n",
    "            school = school_2\n",
    "            grades = grades_2\n",
    "            trivsel = trivsel_2\n",
    "        elif grades_3 not in [\"fejl\", \"Ikke oplyst\"]:\n",
    "            school_name=school_name_3\n",
    "            school = school_3\n",
    "            grades = grades_3\n",
    "            trivsel = trivsel_3\n",
    "        else:\n",
    "            school_name=school_name_1\n",
    "            school = school_1 # Fallback to school_1 if all are \"fejl\" or \"Ikke oplyst\"\n",
    "            grades = grades_1\n",
    "            trivsel = trivsel_1\n",
    "\n",
    "\n",
    "        \n",
    "        try:\n",
    "            if len(area_size) > 2:  # Bolig\n",
    "                dict[total_address] = {'Price': price, 'Schoolname': school_name, 'Distance to school': school, 'School-grades': grades, 'Trivsel': trivsel, 'Boligtype': boligtype, 'Energy-classification': energi, 'Radon': radon, 'Kommuneskat': kommuneskat, 'Grundskyldspromillen': grundskyldspromillen, 'Kommune tekst': kommune_text, 'Liggetid': liggetid_text, 'm2': area_size[0].get_text(), 'Grund': area_size[1].get_text(), 'Ejerudgift': area_size[2].get_text(),\n",
    "                                       'Rooms': other[0].get_text(), 'Build': other[1].get_text(), 'Toilets': other[2].get_text(), 'Postal code': pstnr_ny[0], 'link': link}\n",
    "            else:  # Lejlighed\n",
    "                dict[total_address] = {'Price': price, 'Schoolname': school_name, 'Distance to school': school, 'School-grades': grades, 'Trivsel': trivsel, 'Boligtype': boligtype, 'Energy-classification': energi, 'Radon': radon, 'Kommuneskat': kommuneskat, 'Grundskyldspromillen': grundskyldspromillen, 'Kommune tekst': kommune_text, 'Liggetid': liggetid_text, 'm2': area_size[0].get_text(), 'Ejerudgift': area_size[1].get_text(), 'Elevator': other[0].get_text(),\n",
    "                                       'Rooms': other[1].get_text(), 'Build': other[2].get_text(), 'Toilets': other[3].get_text(),\n",
    "                                       'Altan': other[4].get_text(), 'Terasse': other[5].get_text(), 'Postal code': pstnr_ny[0], 'link': link}\n",
    "        except:\n",
    "            dict[total_address] = {'m2': 'fejl', 'Ejerudgift': 'fejl', 'Elevator': 'fejl', 'Rooms': 'fejl', 'Build': 'fejl', 'Toilet': 'fejl', 'Altan': 'fejl', 'Terasse': 'fejl', 'Postal code': 'fejl', 'link': link}\n",
    "    except Exception as e:\n",
    "        print(f'Error occurred for link: {link} - {e}')\n",
    "        links_med_fejl.append(link)\n",
    "\n",
    "# Using ThreadPoolExecutor to handle multiple requests concurrently\n",
    "with ThreadPoolExecutor(max_workers=1) as executor:\n",
    "    list(tqdm(executor.map(fetch_data, links_med_fejl), total=len(links_med_fejl)))\n"
   ]
  },
  {
   "cell_type": "code",
   "execution_count": 376,
   "id": "25746774-6023-4557-8233-3e0679e11b99",
   "metadata": {},
   "outputs": [
    {
     "ename": "NameError",
     "evalue": "name 'liste_med_fejl' is not defined",
     "output_type": "error",
     "traceback": [
      "\u001b[1;31m---------------------------------------------------------------------------\u001b[0m",
      "\u001b[1;31mNameError\u001b[0m                                 Traceback (most recent call last)",
      "Cell \u001b[1;32mIn[376], line 98\u001b[0m\n\u001b[0;32m     96\u001b[0m \u001b[38;5;66;03m# Using ThreadPoolExecutor to handle multiple requests concurrently\u001b[39;00m\n\u001b[0;32m     97\u001b[0m \u001b[38;5;28;01mwith\u001b[39;00m ThreadPoolExecutor(max_workers\u001b[38;5;241m=\u001b[39m\u001b[38;5;241m1\u001b[39m) \u001b[38;5;28;01mas\u001b[39;00m executor:\n\u001b[1;32m---> 98\u001b[0m     \u001b[38;5;28mlist\u001b[39m(tqdm(executor\u001b[38;5;241m.\u001b[39mmap(fetch_data, links_med_fejl), total\u001b[38;5;241m=\u001b[39m\u001b[38;5;28mlen\u001b[39m(liste_med_fejl)))\n",
      "\u001b[1;31mNameError\u001b[0m: name 'liste_med_fejl' is not defined"
     ]
    }
   ],
   "source": [
    "#sikkerheds\n",
    "\n",
    "\"\"\"\n",
    "#Denne celle henter data på alle links med fejl fra ovenstående celle! Kør derfor efter ovenstående.\n",
    "def fetch_data(link):\n",
    "    service = Service(ChromeDriverManager().install())\n",
    "    driver = webdriver.Chrome(service=service)\n",
    "    try:\n",
    "        driver.get(link)\n",
    "        soup = BeautifulSoup(driver.page_source, 'html.parser')\n",
    "        time.sleep(random.uniform(2, 3))  # Reducing sleep time slightly\n",
    "        area_size = soup.find_all('span', class_='text-gray-800 whitespace-nowrap cursor-pointer border-b border-gray-400 pb-0.5 border-dotted text-sm')\n",
    "        other = soup.find_all('span', class_=\"text-gray-800 whitespace-nowrap border-dotted text-sm\")\n",
    "        address = soup.find_all('div', class_='font-bold text-sm md:text-base')\n",
    "        pstnr = soup.find_all('div', class_=\"mt-1 text-xs md:text-sm text-gray-600\")\n",
    "        pstnr_ny = re.findall(r'\\d+', pstnr[0].get_text())  # Searching for numbers in postal-code string.\n",
    "        try:\n",
    "            total_address = address[0].get_text() + ',' + pstnr_ny[0]\n",
    "        except:\n",
    "            print('adresseproblem')\n",
    "        #Nannas kode:\n",
    "        try:    \n",
    "            price = soup.find('h2', class_='text-2xl xl:text-3xl text-blue-900 font-bold').get_text()\n",
    "        except:\n",
    "            price = \"fejl\"\n",
    "        #Finder label hvor afstand er under\n",
    "        try:\n",
    "            school = soup.find('div', string='Afstand').find_next_sibling('div').get_text()\n",
    "        except:\n",
    "            school = \"fejl\"\n",
    "        #Karakter\n",
    "        try:\n",
    "            grades = soup.find('div', string='Karaktergennemsnit').find_next_sibling('div').find_next_sibling('div').get_text()\n",
    "        except:\n",
    "            grades = \"fejl\"\n",
    "        #Trivsel\n",
    "        try:\n",
    "            trivsel = soup.find('div', string='Trivsel').find_next_sibling('div').find_next_sibling('div').get_text()\n",
    "        except:\n",
    "            trivsel = \"fejl\"\n",
    "        try:\n",
    "            boligtype = soup.find('span', class_='text-black text-sm pr-2').get_text()\n",
    "        except:\n",
    "            boligtype = \"fejl\"\n",
    "        #energi = soup.find('svg', id='Lag_1').find('title')\n",
    "        try:\n",
    "            energi = soup.find('title', string=re.compile('Energimærke')).get_text()\n",
    "        except:\n",
    "            energi = \"fejl\"\n",
    "        try:\n",
    "            radon = soup.find('div', class_='h-7 text-sm font-bold').get_text()\n",
    "        except:\n",
    "            radon = \"fejl\"\n",
    "    \n",
    "        #kommune_info og liggetid med text behandling\n",
    "        try:\n",
    "            kommune_info = soup.find('div', class_='sec_municipality_info')\n",
    "            if kommune_info:\n",
    "                kommune_text = kommune_info.get_text()\n",
    "        \n",
    "                if 'Kommuneskatten er på ' in kommune_text:\n",
    "                    kommuneskat = kommune_text.split('Kommuneskatten er på ')[1].split(' ')[0]\n",
    "                else:\n",
    "                    kommuneskat = \"fejl\"\n",
    "        \n",
    "                if 'grundskyldspromillen på ' in kommune_text:\n",
    "                    grundskyldspromillen = kommune_text.split('grundskyldspromillen på ')[1].split(' ')[0]\n",
    "                else:\n",
    "                    grundskyldspromillen = \"fejl\"\n",
    "        except:\n",
    "            kommuneskat = \"fejl\"\n",
    "            grundskyldspromillen = \"fejl\"\n",
    "            \n",
    "            \n",
    "        \n",
    "        try:\n",
    "            liggetid = soup.find('div', class_='pb-0.5 border-dashed border-b border-gray-300 cursor-pointer text-sm text-gray-800')\n",
    "            if liggetid:\n",
    "                liggetid_text = liggetid.get_text(separator=\" \", strip=True).replace(' :', ':')\n",
    "        except:\n",
    "            liggetid_text = \"fejl\"\n",
    "\n",
    "\n",
    "        \n",
    "        try:\n",
    "            if len(area_size) > 2:  # Bolig\n",
    "                dict[total_address] = {'Price': price, 'Distance to school': school, 'School-grades': grades, 'Trivsel': trivsel, 'Boligtype': boligtype, 'Energy-classification': energi, 'Radon': radon, 'Kommuneskat': kommuneskat, 'Grundskyldspromillen': grundskyldspromillen, 'Liggetid': liggetid_text, 'm2': area_size[0].get_text(), 'Grund': area_size[1].get_text(), 'Ejerudgift': area_size[2].get_text(),\n",
    "                                       'Rooms': other[0].get_text(), 'Build': other[1].get_text(), 'Toilets': other[2].get_text(), 'Postal code': pstnr_ny[0], 'link': link}\n",
    "            else:  # Lejlighed\n",
    "                dict[total_address] = {'Price': price, 'Distance to school': school, 'School-grades': grades, 'Trivsel': trivsel, 'Boligtype': boligtype, 'Energy-classification': energi, 'Radon': radon, 'Kommuneskat': kommuneskat, 'Grundskyldspromillen': grundskyldspromillen, 'Liggetid': liggetid_text, 'm2': area_size[0].get_text(), 'Ejerudgift': area_size[1].get_text(), 'Elevator': other[0].get_text(),\n",
    "                                       'Rooms': other[1].get_text(), 'Build': other[2].get_text(), 'Toilets': other[3].get_text(),\n",
    "                                       'Altan': other[4].get_text(), 'Terasse': other[5].get_text(), 'Postal code': pstnr_ny[0], 'link': link}\n",
    "        except:\n",
    "            dict[total_address] = {'m2': 'fejl', 'Ejerudgift': 'fejl', 'Elevator': 'fejl', 'Rooms': 'fejl', 'Build': 'fejl', 'Toilet': 'fejl', 'Altan': 'fejl', 'Terasse': 'fejl', 'Postal code': 'fejl', 'link': link}\n",
    "    except Exception as e:\n",
    "        print(f'Error occurred for link: {link} - {e}')\n",
    "        links_med_fejl.append(link)\n",
    "\n",
    "# Using ThreadPoolExecutor to handle multiple requests concurrently\n",
    "with ThreadPoolExecutor(max_workers=1) as executor:\n",
    "    list(tqdm(executor.map(fetch_data, links_med_fejl), total=len(links_med_fejl)))\n",
    "\"\"\"\""
   ]
  },
  {
   "cell_type": "markdown",
   "id": "3f9f556e-2eb1-4938-a401-6fb00ee3c31c",
   "metadata": {},
   "source": [
    "## Lav først til DataFrame og efterfølgende til CSV fil"
   ]
  },
  {
   "cell_type": "code",
   "execution_count": 30,
   "id": "1a23ffd6-0a45-4c73-8b9f-f3a957078a55",
   "metadata": {},
   "outputs": [
    {
     "data": {
      "text/html": [
       "<div>\n",
       "<style scoped>\n",
       "    .dataframe tbody tr th:only-of-type {\n",
       "        vertical-align: middle;\n",
       "    }\n",
       "\n",
       "    .dataframe tbody tr th {\n",
       "        vertical-align: top;\n",
       "    }\n",
       "\n",
       "    .dataframe thead th {\n",
       "        text-align: right;\n",
       "    }\n",
       "</style>\n",
       "<table border=\"1\" class=\"dataframe\">\n",
       "  <thead>\n",
       "    <tr style=\"text-align: right;\">\n",
       "      <th></th>\n",
       "      <th>Price</th>\n",
       "      <th>Schoolname</th>\n",
       "      <th>Distance to school</th>\n",
       "      <th>School-grades</th>\n",
       "      <th>Trivsel</th>\n",
       "      <th>Boligtype</th>\n",
       "      <th>Energy-classification</th>\n",
       "      <th>Radon</th>\n",
       "      <th>Kommuneskat</th>\n",
       "      <th>Grundskyldspromillen</th>\n",
       "      <th>...</th>\n",
       "      <th>Ejerudgift</th>\n",
       "      <th>Rooms</th>\n",
       "      <th>Build</th>\n",
       "      <th>Toilets</th>\n",
       "      <th>Postal code</th>\n",
       "      <th>link</th>\n",
       "      <th>Elevator</th>\n",
       "      <th>Altan</th>\n",
       "      <th>Terasse</th>\n",
       "      <th>Toilet</th>\n",
       "    </tr>\n",
       "  </thead>\n",
       "  <tbody>\n",
       "    <tr>\n",
       "      <th>Mellemtoftevej 36,2600</th>\n",
       "      <td>3.995.000 kr.</td>\n",
       "      <td>Hospitalsskolen , Børne og Ungdomspsykiatrisk Center</td>\n",
       "      <td>391 m</td>\n",
       "      <td>Ikke oplyst</td>\n",
       "      <td>Ikke oplyst</td>\n",
       "      <td>Rækkehus</td>\n",
       "      <td>Energimærke D</td>\n",
       "      <td>Høj</td>\n",
       "      <td>24,6%</td>\n",
       "      <td>25‰.</td>\n",
       "      <td>...</td>\n",
       "      <td>Ejerudg.: 2.889 kr/md</td>\n",
       "      <td>5 værelser</td>\n",
       "      <td>Opført 1947</td>\n",
       "      <td>1 toilet</td>\n",
       "      <td>2600</td>\n",
       "      <td>https://www.boligsiden.dk/addresses/0a3f50a4-be85-32b8-e044-0003ba298018</td>\n",
       "      <td>NaN</td>\n",
       "      <td>NaN</td>\n",
       "      <td>NaN</td>\n",
       "      <td>NaN</td>\n",
       "    </tr>\n",
       "    <tr>\n",
       "      <th>Strandpromenaden 21, 1. tv.,3000</th>\n",
       "      <td>6.095.000 kr.</td>\n",
       "      <td>Skolen i Bymidten</td>\n",
       "      <td>336 m</td>\n",
       "      <td>Ikke oplyst</td>\n",
       "      <td>Ikke oplyst</td>\n",
       "      <td>Ejerlejlighed</td>\n",
       "      <td>Energimærke A2015</td>\n",
       "      <td>Lav</td>\n",
       "      <td>25,52%</td>\n",
       "      <td>28,5‰.</td>\n",
       "      <td>...</td>\n",
       "      <td>Ejerudg.: 6.056 kr/md</td>\n",
       "      <td>5 værelser</td>\n",
       "      <td>Opført 2020</td>\n",
       "      <td>2 toiletter</td>\n",
       "      <td>3000</td>\n",
       "      <td>https://www.boligsiden.dk/addresses/0d5cec39-0046-4f36-9850-8c2d08933fd5</td>\n",
       "      <td>Elevator: Nej</td>\n",
       "      <td>Altan: Nej</td>\n",
       "      <td>Terrasse: Nej</td>\n",
       "      <td>NaN</td>\n",
       "    </tr>\n",
       "    <tr>\n",
       "      <th>Hjortdalvej 331,9460</th>\n",
       "      <td>3.995.000 kr.</td>\n",
       "      <td>Skovsgård Tranum skole</td>\n",
       "      <td>5,24 km</td>\n",
       "      <td>6.9</td>\n",
       "      <td>3.6</td>\n",
       "      <td>Landejendom</td>\n",
       "      <td>Energimærke D</td>\n",
       "      <td>Meget lav</td>\n",
       "      <td>25,7%</td>\n",
       "      <td>32,85‰.</td>\n",
       "      <td>...</td>\n",
       "      <td>Ejerudg.: 2.089 kr/md</td>\n",
       "      <td>5 værelser</td>\n",
       "      <td>Opført 1912</td>\n",
       "      <td>1 toilet</td>\n",
       "      <td>9460</td>\n",
       "      <td>https://www.boligsiden.dk/addresses/39ff92cd-f2b1-0991-e044-0003ba298018</td>\n",
       "      <td>NaN</td>\n",
       "      <td>NaN</td>\n",
       "      <td>NaN</td>\n",
       "      <td>NaN</td>\n",
       "    </tr>\n",
       "    <tr>\n",
       "      <th>Lystgårdsparken 34,8300</th>\n",
       "      <td>2.798.000 kr.</td>\n",
       "      <td>Parkvejens Skole</td>\n",
       "      <td>5,16 km</td>\n",
       "      <td>7</td>\n",
       "      <td>3.7</td>\n",
       "      <td>Villa</td>\n",
       "      <td>Energimærke B</td>\n",
       "      <td>Mellem</td>\n",
       "      <td>25,1%</td>\n",
       "      <td>30,32‰.</td>\n",
       "      <td>...</td>\n",
       "      <td>Ejerudg.: 1.838 kr/md</td>\n",
       "      <td>4 værelser</td>\n",
       "      <td>Opført 2008</td>\n",
       "      <td>1 toilet</td>\n",
       "      <td>8300</td>\n",
       "      <td>https://www.boligsiden.dk/addresses/363cc2db-6e07-1eb8-e044-0003ba298018</td>\n",
       "      <td>NaN</td>\n",
       "      <td>NaN</td>\n",
       "      <td>NaN</td>\n",
       "      <td>NaN</td>\n",
       "    </tr>\n",
       "    <tr>\n",
       "      <th>Fuglsøvej 92,8420</th>\n",
       "      <td>6.000.000 kr.</td>\n",
       "      <td>Molsskolen</td>\n",
       "      <td>3,74 km</td>\n",
       "      <td>7.4</td>\n",
       "      <td>3.7</td>\n",
       "      <td>Villa</td>\n",
       "      <td>Energimærke D</td>\n",
       "      <td>Høj</td>\n",
       "      <td>25,9%</td>\n",
       "      <td>33,8‰.</td>\n",
       "      <td>...</td>\n",
       "      <td>Ejerudg.: 3.434 kr/md</td>\n",
       "      <td>12 værelser</td>\n",
       "      <td>Opført 1884</td>\n",
       "      <td>4 toiletter</td>\n",
       "      <td>8420</td>\n",
       "      <td>https://www.boligsiden.dk/addresses/0a3f50bf-6f17-32b8-e044-0003ba298018</td>\n",
       "      <td>NaN</td>\n",
       "      <td>NaN</td>\n",
       "      <td>NaN</td>\n",
       "      <td>NaN</td>\n",
       "    </tr>\n",
       "    <tr>\n",
       "      <th>...</th>\n",
       "      <td>...</td>\n",
       "      <td>...</td>\n",
       "      <td>...</td>\n",
       "      <td>...</td>\n",
       "      <td>...</td>\n",
       "      <td>...</td>\n",
       "      <td>...</td>\n",
       "      <td>...</td>\n",
       "      <td>...</td>\n",
       "      <td>...</td>\n",
       "      <td>...</td>\n",
       "      <td>...</td>\n",
       "      <td>...</td>\n",
       "      <td>...</td>\n",
       "      <td>...</td>\n",
       "      <td>...</td>\n",
       "      <td>...</td>\n",
       "      <td>...</td>\n",
       "      <td>...</td>\n",
       "      <td>...</td>\n",
       "      <td>...</td>\n",
       "    </tr>\n",
       "    <tr>\n",
       "      <th>Tuenvej 16,9881</th>\n",
       "      <td>2.895.000 kr.</td>\n",
       "      <td>Bindslev undervisningssted</td>\n",
       "      <td>5,51 km</td>\n",
       "      <td>Ikke oplyst</td>\n",
       "      <td>Ikke oplyst</td>\n",
       "      <td>Villa</td>\n",
       "      <td>Energimærke E</td>\n",
       "      <td>Meget lav</td>\n",
       "      <td>26,21%</td>\n",
       "      <td>34‰.</td>\n",
       "      <td>...</td>\n",
       "      <td>Ejerudg.: 1.703 kr/md</td>\n",
       "      <td>5 værelser</td>\n",
       "      <td>Opført 1916</td>\n",
       "      <td>1 toilet</td>\n",
       "      <td>9881</td>\n",
       "      <td>https://www.boligsiden.dk/addresses/0a3f50c7-fd9c-32b8-e044-0003ba298018</td>\n",
       "      <td>NaN</td>\n",
       "      <td>NaN</td>\n",
       "      <td>NaN</td>\n",
       "      <td>NaN</td>\n",
       "    </tr>\n",
       "    <tr>\n",
       "      <th>Herman Nielsens Vej 10,5700</th>\n",
       "      <td>2.995.000 kr.</td>\n",
       "      <td>Rantzausminde Skole</td>\n",
       "      <td>238 m</td>\n",
       "      <td>7.4</td>\n",
       "      <td>3.7</td>\n",
       "      <td>Villa</td>\n",
       "      <td>Energimærke E</td>\n",
       "      <td>Meget høj</td>\n",
       "      <td>26,3%</td>\n",
       "      <td>23,32‰.</td>\n",
       "      <td>...</td>\n",
       "      <td>Ejerudg.: 2.077 kr/md</td>\n",
       "      <td>5 værelser</td>\n",
       "      <td>Opført 1968</td>\n",
       "      <td>1 toilet</td>\n",
       "      <td>5700</td>\n",
       "      <td>https://www.boligsiden.dk/addresses/0a3f50b5-7b1e-32b8-e044-0003ba298018</td>\n",
       "      <td>NaN</td>\n",
       "      <td>NaN</td>\n",
       "      <td>NaN</td>\n",
       "      <td>NaN</td>\n",
       "    </tr>\n",
       "    <tr>\n",
       "      <th>Enghavevej 31,9000</th>\n",
       "      <td>3.995.000 kr.</td>\n",
       "      <td>Filstedvejens Skole</td>\n",
       "      <td>575 m</td>\n",
       "      <td>6.6</td>\n",
       "      <td>3.7</td>\n",
       "      <td>Villa</td>\n",
       "      <td>Energimærke C</td>\n",
       "      <td>Lav</td>\n",
       "      <td>25,4%</td>\n",
       "      <td>26,95‰.</td>\n",
       "      <td>...</td>\n",
       "      <td>Ejerudg.: 3.297 kr/md</td>\n",
       "      <td>4 værelser</td>\n",
       "      <td>Opført 1977</td>\n",
       "      <td>3 toiletter</td>\n",
       "      <td>9000</td>\n",
       "      <td>https://www.boligsiden.dk/addresses/0a3f50c9-edc3-32b8-e044-0003ba298018</td>\n",
       "      <td>NaN</td>\n",
       "      <td>NaN</td>\n",
       "      <td>NaN</td>\n",
       "      <td>NaN</td>\n",
       "    </tr>\n",
       "    <tr>\n",
       "      <th>Blågårdsgade 26, 2. 13.,2200</th>\n",
       "      <td>2.995.000 kr.</td>\n",
       "      <td>Blågård Skole</td>\n",
       "      <td>494 m</td>\n",
       "      <td>5.6</td>\n",
       "      <td>3.6</td>\n",
       "      <td>Ejerlejlighed</td>\n",
       "      <td>Energimærke D</td>\n",
       "      <td>Mellem</td>\n",
       "      <td>23,7%</td>\n",
       "      <td>34‰.</td>\n",
       "      <td>...</td>\n",
       "      <td>Ejerudg.: 3.008 kr/md</td>\n",
       "      <td>2 værelser</td>\n",
       "      <td>Opført 1972</td>\n",
       "      <td>1 toilet</td>\n",
       "      <td>2200</td>\n",
       "      <td>https://www.boligsiden.dk/addresses/0a3f509d-6468-32b8-e044-0003ba298018</td>\n",
       "      <td>Elevator: Nej</td>\n",
       "      <td>Altan: Nej</td>\n",
       "      <td>Terrasse: Nej</td>\n",
       "      <td>NaN</td>\n",
       "    </tr>\n",
       "    <tr>\n",
       "      <th>Stationsvej 12M,4681</th>\n",
       "      <td>NaN</td>\n",
       "      <td>NaN</td>\n",
       "      <td>NaN</td>\n",
       "      <td>NaN</td>\n",
       "      <td>NaN</td>\n",
       "      <td>NaN</td>\n",
       "      <td>NaN</td>\n",
       "      <td>NaN</td>\n",
       "      <td>NaN</td>\n",
       "      <td>NaN</td>\n",
       "      <td>...</td>\n",
       "      <td>fejl</td>\n",
       "      <td>fejl</td>\n",
       "      <td>fejl</td>\n",
       "      <td>NaN</td>\n",
       "      <td>fejl</td>\n",
       "      <td>https://www.boligsiden.dk/addresses/0c65634c-d1d8-30a3-e044-0003ba298018</td>\n",
       "      <td>fejl</td>\n",
       "      <td>fejl</td>\n",
       "      <td>fejl</td>\n",
       "      <td>fejl</td>\n",
       "    </tr>\n",
       "  </tbody>\n",
       "</table>\n",
       "<p>1000 rows × 24 columns</p>\n",
       "</div>"
      ],
      "text/plain": [
       "                                          Price  \\\n",
       "Mellemtoftevej 36,2600            3.995.000 kr.   \n",
       "Strandpromenaden 21, 1. tv.,3000  6.095.000 kr.   \n",
       "Hjortdalvej 331,9460              3.995.000 kr.   \n",
       "Lystgårdsparken 34,8300           2.798.000 kr.   \n",
       "Fuglsøvej 92,8420                 6.000.000 kr.   \n",
       "...                                         ...   \n",
       "Tuenvej 16,9881                   2.895.000 kr.   \n",
       "Herman Nielsens Vej 10,5700       2.995.000 kr.   \n",
       "Enghavevej 31,9000                3.995.000 kr.   \n",
       "Blågårdsgade 26, 2. 13.,2200      2.995.000 kr.   \n",
       "Stationsvej 12M,4681                        NaN   \n",
       "\n",
       "                                                                            Schoolname  \\\n",
       "Mellemtoftevej 36,2600            Hospitalsskolen , Børne og Ungdomspsykiatrisk Center   \n",
       "Strandpromenaden 21, 1. tv.,3000                                     Skolen i Bymidten   \n",
       "Hjortdalvej 331,9460                                            Skovsgård Tranum skole   \n",
       "Lystgårdsparken 34,8300                                               Parkvejens Skole   \n",
       "Fuglsøvej 92,8420                                                           Molsskolen   \n",
       "...                                                                                ...   \n",
       "Tuenvej 16,9881                                             Bindslev undervisningssted   \n",
       "Herman Nielsens Vej 10,5700                                        Rantzausminde Skole   \n",
       "Enghavevej 31,9000                                                 Filstedvejens Skole   \n",
       "Blågårdsgade 26, 2. 13.,2200                                             Blågård Skole   \n",
       "Stationsvej 12M,4681                                                               NaN   \n",
       "\n",
       "                                 Distance to school School-grades  \\\n",
       "Mellemtoftevej 36,2600                        391 m   Ikke oplyst   \n",
       "Strandpromenaden 21, 1. tv.,3000              336 m   Ikke oplyst   \n",
       "Hjortdalvej 331,9460                        5,24 km           6.9   \n",
       "Lystgårdsparken 34,8300                     5,16 km             7   \n",
       "Fuglsøvej 92,8420                           3,74 km           7.4   \n",
       "...                                             ...           ...   \n",
       "Tuenvej 16,9881                             5,51 km   Ikke oplyst   \n",
       "Herman Nielsens Vej 10,5700                   238 m           7.4   \n",
       "Enghavevej 31,9000                            575 m           6.6   \n",
       "Blågårdsgade 26, 2. 13.,2200                  494 m           5.6   \n",
       "Stationsvej 12M,4681                            NaN           NaN   \n",
       "\n",
       "                                      Trivsel      Boligtype  \\\n",
       "Mellemtoftevej 36,2600            Ikke oplyst       Rækkehus   \n",
       "Strandpromenaden 21, 1. tv.,3000  Ikke oplyst  Ejerlejlighed   \n",
       "Hjortdalvej 331,9460                      3.6    Landejendom   \n",
       "Lystgårdsparken 34,8300                   3.7          Villa   \n",
       "Fuglsøvej 92,8420                         3.7          Villa   \n",
       "...                                       ...            ...   \n",
       "Tuenvej 16,9881                   Ikke oplyst          Villa   \n",
       "Herman Nielsens Vej 10,5700               3.7          Villa   \n",
       "Enghavevej 31,9000                        3.7          Villa   \n",
       "Blågårdsgade 26, 2. 13.,2200              3.6  Ejerlejlighed   \n",
       "Stationsvej 12M,4681                      NaN            NaN   \n",
       "\n",
       "                                 Energy-classification      Radon Kommuneskat  \\\n",
       "Mellemtoftevej 36,2600                   Energimærke D        Høj       24,6%   \n",
       "Strandpromenaden 21, 1. tv.,3000     Energimærke A2015        Lav      25,52%   \n",
       "Hjortdalvej 331,9460                     Energimærke D  Meget lav       25,7%   \n",
       "Lystgårdsparken 34,8300                  Energimærke B     Mellem       25,1%   \n",
       "Fuglsøvej 92,8420                        Energimærke D        Høj       25,9%   \n",
       "...                                                ...        ...         ...   \n",
       "Tuenvej 16,9881                          Energimærke E  Meget lav      26,21%   \n",
       "Herman Nielsens Vej 10,5700              Energimærke E  Meget høj       26,3%   \n",
       "Enghavevej 31,9000                       Energimærke C        Lav       25,4%   \n",
       "Blågårdsgade 26, 2. 13.,2200             Energimærke D     Mellem       23,7%   \n",
       "Stationsvej 12M,4681                               NaN        NaN         NaN   \n",
       "\n",
       "                                 Grundskyldspromillen  ...  \\\n",
       "Mellemtoftevej 36,2600                           25‰.  ...   \n",
       "Strandpromenaden 21, 1. tv.,3000               28,5‰.  ...   \n",
       "Hjortdalvej 331,9460                          32,85‰.  ...   \n",
       "Lystgårdsparken 34,8300                       30,32‰.  ...   \n",
       "Fuglsøvej 92,8420                              33,8‰.  ...   \n",
       "...                                               ...  ...   \n",
       "Tuenvej 16,9881                                  34‰.  ...   \n",
       "Herman Nielsens Vej 10,5700                   23,32‰.  ...   \n",
       "Enghavevej 31,9000                            26,95‰.  ...   \n",
       "Blågårdsgade 26, 2. 13.,2200                     34‰.  ...   \n",
       "Stationsvej 12M,4681                              NaN  ...   \n",
       "\n",
       "                                             Ejerudgift        Rooms  \\\n",
       "Mellemtoftevej 36,2600            Ejerudg.: 2.889 kr/md   5 værelser   \n",
       "Strandpromenaden 21, 1. tv.,3000  Ejerudg.: 6.056 kr/md   5 værelser   \n",
       "Hjortdalvej 331,9460              Ejerudg.: 2.089 kr/md   5 værelser   \n",
       "Lystgårdsparken 34,8300           Ejerudg.: 1.838 kr/md   4 værelser   \n",
       "Fuglsøvej 92,8420                 Ejerudg.: 3.434 kr/md  12 værelser   \n",
       "...                                                 ...          ...   \n",
       "Tuenvej 16,9881                   Ejerudg.: 1.703 kr/md   5 værelser   \n",
       "Herman Nielsens Vej 10,5700       Ejerudg.: 2.077 kr/md   5 værelser   \n",
       "Enghavevej 31,9000                Ejerudg.: 3.297 kr/md   4 værelser   \n",
       "Blågårdsgade 26, 2. 13.,2200      Ejerudg.: 3.008 kr/md   2 værelser   \n",
       "Stationsvej 12M,4681                               fejl         fejl   \n",
       "\n",
       "                                        Build      Toilets Postal code  \\\n",
       "Mellemtoftevej 36,2600            Opført 1947     1 toilet        2600   \n",
       "Strandpromenaden 21, 1. tv.,3000  Opført 2020  2 toiletter        3000   \n",
       "Hjortdalvej 331,9460              Opført 1912     1 toilet        9460   \n",
       "Lystgårdsparken 34,8300           Opført 2008     1 toilet        8300   \n",
       "Fuglsøvej 92,8420                 Opført 1884  4 toiletter        8420   \n",
       "...                                       ...          ...         ...   \n",
       "Tuenvej 16,9881                   Opført 1916     1 toilet        9881   \n",
       "Herman Nielsens Vej 10,5700       Opført 1968     1 toilet        5700   \n",
       "Enghavevej 31,9000                Opført 1977  3 toiletter        9000   \n",
       "Blågårdsgade 26, 2. 13.,2200      Opført 1972     1 toilet        2200   \n",
       "Stationsvej 12M,4681                     fejl          NaN        fejl   \n",
       "\n",
       "                                                                                                      link  \\\n",
       "Mellemtoftevej 36,2600            https://www.boligsiden.dk/addresses/0a3f50a4-be85-32b8-e044-0003ba298018   \n",
       "Strandpromenaden 21, 1. tv.,3000  https://www.boligsiden.dk/addresses/0d5cec39-0046-4f36-9850-8c2d08933fd5   \n",
       "Hjortdalvej 331,9460              https://www.boligsiden.dk/addresses/39ff92cd-f2b1-0991-e044-0003ba298018   \n",
       "Lystgårdsparken 34,8300           https://www.boligsiden.dk/addresses/363cc2db-6e07-1eb8-e044-0003ba298018   \n",
       "Fuglsøvej 92,8420                 https://www.boligsiden.dk/addresses/0a3f50bf-6f17-32b8-e044-0003ba298018   \n",
       "...                                                                                                    ...   \n",
       "Tuenvej 16,9881                   https://www.boligsiden.dk/addresses/0a3f50c7-fd9c-32b8-e044-0003ba298018   \n",
       "Herman Nielsens Vej 10,5700       https://www.boligsiden.dk/addresses/0a3f50b5-7b1e-32b8-e044-0003ba298018   \n",
       "Enghavevej 31,9000                https://www.boligsiden.dk/addresses/0a3f50c9-edc3-32b8-e044-0003ba298018   \n",
       "Blågårdsgade 26, 2. 13.,2200      https://www.boligsiden.dk/addresses/0a3f509d-6468-32b8-e044-0003ba298018   \n",
       "Stationsvej 12M,4681              https://www.boligsiden.dk/addresses/0c65634c-d1d8-30a3-e044-0003ba298018   \n",
       "\n",
       "                                       Elevator       Altan        Terasse  \\\n",
       "Mellemtoftevej 36,2600                      NaN         NaN            NaN   \n",
       "Strandpromenaden 21, 1. tv.,3000  Elevator: Nej  Altan: Nej  Terrasse: Nej   \n",
       "Hjortdalvej 331,9460                        NaN         NaN            NaN   \n",
       "Lystgårdsparken 34,8300                     NaN         NaN            NaN   \n",
       "Fuglsøvej 92,8420                           NaN         NaN            NaN   \n",
       "...                                         ...         ...            ...   \n",
       "Tuenvej 16,9881                             NaN         NaN            NaN   \n",
       "Herman Nielsens Vej 10,5700                 NaN         NaN            NaN   \n",
       "Enghavevej 31,9000                          NaN         NaN            NaN   \n",
       "Blågårdsgade 26, 2. 13.,2200      Elevator: Nej  Altan: Nej  Terrasse: Nej   \n",
       "Stationsvej 12M,4681                       fejl        fejl           fejl   \n",
       "\n",
       "                                 Toilet  \n",
       "Mellemtoftevej 36,2600              NaN  \n",
       "Strandpromenaden 21, 1. tv.,3000    NaN  \n",
       "Hjortdalvej 331,9460                NaN  \n",
       "Lystgårdsparken 34,8300             NaN  \n",
       "Fuglsøvej 92,8420                   NaN  \n",
       "...                                 ...  \n",
       "Tuenvej 16,9881                     NaN  \n",
       "Herman Nielsens Vej 10,5700         NaN  \n",
       "Enghavevej 31,9000                  NaN  \n",
       "Blågårdsgade 26, 2. 13.,2200        NaN  \n",
       "Stationsvej 12M,4681               fejl  \n",
       "\n",
       "[1000 rows x 24 columns]"
      ]
     },
     "execution_count": 30,
     "metadata": {},
     "output_type": "execute_result"
    }
   ],
   "source": [
    "#Converting dict to dataframe:\n",
    "DF_NAME = 'index_0_1000' #Her kalder du din Dataframe/CSV-fil noget unikt.\n",
    "\n",
    "df_DF_NAME = pd.DataFrame.from_dict(dict, orient='index')\n",
    "pd.set_option('display.max_colwidth', None)\n",
    "df_DF_NAME\n",
    "\n"
   ]
  },
  {
   "cell_type": "code",
   "execution_count": 32,
   "id": "dade692a-cb7a-4ec1-91e1-d8edb502fadf",
   "metadata": {},
   "outputs": [],
   "source": [
    "#Converts to csv-file and save in \"Rawdata\"\n",
    "df_DF_NAME.to_csv(f'rawdata/{DF_NAME}.csv', index=True)\n",
    "\n"
   ]
  },
  {
   "cell_type": "code",
   "execution_count": null,
   "id": "2a0f944e-d1d3-48bc-8dd1-46e411f9955c",
   "metadata": {},
   "outputs": [],
   "source": []
  }
 ],
 "metadata": {
  "kernelspec": {
   "display_name": "Python 3 (ipykernel)",
   "language": "python",
   "name": "python3"
  },
  "language_info": {
   "codemirror_mode": {
    "name": "ipython",
    "version": 3
   },
   "file_extension": ".py",
   "mimetype": "text/x-python",
   "name": "python",
   "nbconvert_exporter": "python",
   "pygments_lexer": "ipython3",
   "version": "3.12.4"
  }
 },
 "nbformat": 4,
 "nbformat_minor": 5
}

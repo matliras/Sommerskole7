{
 "cells": [
  {
   "cell_type": "code",
   "execution_count": null,
   "id": "5ff3b5d0-b2b2-42f9-82f4-ff88a83327e1",
   "metadata": {},
   "outputs": [],
   "source": [
    "TEST\n"
   ]
  }
 ],
 "metadata": {
  "kernelspec": {
   "display_name": "Python 3 (ipykernel)",
   "language": "python",
   "name": "python3"
  },
  "language_info": {
   "codemirror_mode": {
    "name": "ipython",
    "version": 3
   },
   "file_extension": ".py",
   "mimetype": "text/x-python",
   "name": "python",
   "nbconvert_exporter": "python",
   "pygments_lexer": "ipython3",
   "version": "3.12.4"
  }
 },
 "nbformat": 4,
 "nbformat_minor": 5
}
